{
  "nbformat": 4,
  "nbformat_minor": 0,
  "metadata": {
    "colab": {
      "provenance": []
    },
    "kernelspec": {
      "name": "python3",
      "display_name": "Python 3"
    },
    "language_info": {
      "name": "python"
    }
  },
  "cells": [
    {
      "cell_type": "code",
      "execution_count": null,
      "metadata": {
        "id": "bLWlXp2kOluh"
      },
      "outputs": [],
      "source": [
        "import pandas as pd"
      ]
    },
    {
      "cell_type": "code",
      "source": [
        "import numpy as np"
      ],
      "metadata": {
        "id": "RZY5atRcPBNL"
      },
      "execution_count": null,
      "outputs": []
    },
    {
      "cell_type": "code",
      "source": [
        "df = pd.read_csv(r'https://github.com/YBIFoundation/Dataset/raw/main/Movies%20Recommendation.csv')"
      ],
      "metadata": {
        "id": "CVhO6m52PD4x"
      },
      "execution_count": null,
      "outputs": []
    },
    {
      "cell_type": "code",
      "source": [
        "df.head()"
      ],
      "metadata": {
        "colab": {
          "base_uri": "https://localhost:8080/",
          "height": 672
        },
        "id": "_LC3wNTDPZmd",
        "outputId": "adf07265-1b14-4a50-9349-40a637b88601"
      },
      "execution_count": null,
      "outputs": [
        {
          "output_type": "execute_result",
          "data": {
            "text/plain": [
              "   Movie_ID      Movie_Title                       Movie_Genre Movie_Language  \\\n",
              "0         1       Four Rooms                      Crime Comedy             en   \n",
              "1         2        Star Wars  Adventure Action Science Fiction             en   \n",
              "2         3     Finding Nemo                  Animation Family             en   \n",
              "3         4     Forrest Gump              Comedy Drama Romance             en   \n",
              "4         5  American Beauty                             Drama             en   \n",
              "\n",
              "   Movie_Budget  Movie_Popularity Movie_Release_Date  Movie_Revenue  \\\n",
              "0       4000000         22.876230         09-12-1995        4300000   \n",
              "1      11000000        126.393695         25-05-1977      775398007   \n",
              "2      94000000         85.688789         30-05-2003      940335536   \n",
              "3      55000000        138.133331         06-07-1994      677945399   \n",
              "4      15000000         80.878605         15-09-1999      356296601   \n",
              "\n",
              "   Movie_Runtime  Movie_Vote  ...  \\\n",
              "0           98.0         6.5  ...   \n",
              "1          121.0         8.1  ...   \n",
              "2          100.0         7.6  ...   \n",
              "3          142.0         8.2  ...   \n",
              "4          122.0         7.9  ...   \n",
              "\n",
              "                                      Movie_Homepage  \\\n",
              "0                                                NaN   \n",
              "1  http://www.starwars.com/films/star-wars-episod...   \n",
              "2              http://movies.disney.com/finding-nemo   \n",
              "3                                                NaN   \n",
              "4                      http://www.dreamworks.com/ab/   \n",
              "\n",
              "                                      Movie_Keywords  \\\n",
              "0          hotel new year's eve witch bet hotel room   \n",
              "1        android galaxy hermit death star lightsaber   \n",
              "2  father son relationship harbor underwater fish...   \n",
              "3  vietnam veteran hippie mentally disabled runni...   \n",
              "4  male nudity female nudity adultery midlife cri...   \n",
              "\n",
              "                                      Movie_Overview  \\\n",
              "0  It's Ted the Bellhop's first night on the job....   \n",
              "1  Princess Leia is captured and held hostage by ...   \n",
              "2  Nemo, an adventurous young clownfish, is unexp...   \n",
              "3  A man with a low IQ has accomplished great thi...   \n",
              "4  Lester Burnham, a depressed suburban father in...   \n",
              "\n",
              "                              Movie_Production_House  \\\n",
              "0  [{\"name\": \"Miramax Films\", \"id\": 14}, {\"name\":...   \n",
              "1  [{\"name\": \"Lucasfilm\", \"id\": 1}, {\"name\": \"Twe...   \n",
              "2     [{\"name\": \"Pixar Animation Studios\", \"id\": 3}]   \n",
              "3          [{\"name\": \"Paramount Pictures\", \"id\": 4}]   \n",
              "4  [{\"name\": \"DreamWorks SKG\", \"id\": 27}, {\"name\"...   \n",
              "\n",
              "                            Movie_Production_Country  \\\n",
              "0  [{\"iso_3166_1\": \"US\", \"name\": \"United States o...   \n",
              "1  [{\"iso_3166_1\": \"US\", \"name\": \"United States o...   \n",
              "2  [{\"iso_3166_1\": \"US\", \"name\": \"United States o...   \n",
              "3  [{\"iso_3166_1\": \"US\", \"name\": \"United States o...   \n",
              "4  [{\"iso_3166_1\": \"US\", \"name\": \"United States o...   \n",
              "\n",
              "                      Movie_Spoken_Language  \\\n",
              "0  [{\"iso_639_1\": \"en\", \"name\": \"English\"}]   \n",
              "1  [{\"iso_639_1\": \"en\", \"name\": \"English\"}]   \n",
              "2  [{\"iso_639_1\": \"en\", \"name\": \"English\"}]   \n",
              "3  [{\"iso_639_1\": \"en\", \"name\": \"English\"}]   \n",
              "4  [{\"iso_639_1\": \"en\", \"name\": \"English\"}]   \n",
              "\n",
              "                                       Movie_Tagline  \\\n",
              "0  Twelve outrageous guests. Four scandalous requ...   \n",
              "1       A long time ago in a galaxy far, far away...   \n",
              "2  There are 3.7 trillion fish in the ocean, they...   \n",
              "3  The world will never be the same, once you've ...   \n",
              "4                                       Look closer.   \n",
              "\n",
              "                                          Movie_Cast  \\\n",
              "0  Tim Roth Antonio Banderas Jennifer Beals Madon...   \n",
              "1  Mark Hamill Harrison Ford Carrie Fisher Peter ...   \n",
              "2  Albert Brooks Ellen DeGeneres Alexander Gould ...   \n",
              "3  Tom Hanks Robin Wright Gary Sinise Mykelti Wil...   \n",
              "4  Kevin Spacey Annette Bening Thora Birch Wes Be...   \n",
              "\n",
              "                                          Movie_Crew   Movie_Director  \n",
              "0  [{'name': 'Allison Anders', 'gender': 1, 'depa...   Allison Anders  \n",
              "1  [{'name': 'George Lucas', 'gender': 2, 'depart...     George Lucas  \n",
              "2  [{'name': 'Andrew Stanton', 'gender': 2, 'depa...   Andrew Stanton  \n",
              "3  [{'name': 'Alan Silvestri', 'gender': 2, 'depa...  Robert Zemeckis  \n",
              "4  [{'name': 'Thomas Newman', 'gender': 2, 'depar...       Sam Mendes  \n",
              "\n",
              "[5 rows x 21 columns]"
            ],
            "text/html": [
              "\n",
              "  <div id=\"df-a29e319e-5410-4d94-9878-b84a07198e42\" class=\"colab-df-container\">\n",
              "    <div>\n",
              "<style scoped>\n",
              "    .dataframe tbody tr th:only-of-type {\n",
              "        vertical-align: middle;\n",
              "    }\n",
              "\n",
              "    .dataframe tbody tr th {\n",
              "        vertical-align: top;\n",
              "    }\n",
              "\n",
              "    .dataframe thead th {\n",
              "        text-align: right;\n",
              "    }\n",
              "</style>\n",
              "<table border=\"1\" class=\"dataframe\">\n",
              "  <thead>\n",
              "    <tr style=\"text-align: right;\">\n",
              "      <th></th>\n",
              "      <th>Movie_ID</th>\n",
              "      <th>Movie_Title</th>\n",
              "      <th>Movie_Genre</th>\n",
              "      <th>Movie_Language</th>\n",
              "      <th>Movie_Budget</th>\n",
              "      <th>Movie_Popularity</th>\n",
              "      <th>Movie_Release_Date</th>\n",
              "      <th>Movie_Revenue</th>\n",
              "      <th>Movie_Runtime</th>\n",
              "      <th>Movie_Vote</th>\n",
              "      <th>...</th>\n",
              "      <th>Movie_Homepage</th>\n",
              "      <th>Movie_Keywords</th>\n",
              "      <th>Movie_Overview</th>\n",
              "      <th>Movie_Production_House</th>\n",
              "      <th>Movie_Production_Country</th>\n",
              "      <th>Movie_Spoken_Language</th>\n",
              "      <th>Movie_Tagline</th>\n",
              "      <th>Movie_Cast</th>\n",
              "      <th>Movie_Crew</th>\n",
              "      <th>Movie_Director</th>\n",
              "    </tr>\n",
              "  </thead>\n",
              "  <tbody>\n",
              "    <tr>\n",
              "      <th>0</th>\n",
              "      <td>1</td>\n",
              "      <td>Four Rooms</td>\n",
              "      <td>Crime Comedy</td>\n",
              "      <td>en</td>\n",
              "      <td>4000000</td>\n",
              "      <td>22.876230</td>\n",
              "      <td>09-12-1995</td>\n",
              "      <td>4300000</td>\n",
              "      <td>98.0</td>\n",
              "      <td>6.5</td>\n",
              "      <td>...</td>\n",
              "      <td>NaN</td>\n",
              "      <td>hotel new year's eve witch bet hotel room</td>\n",
              "      <td>It's Ted the Bellhop's first night on the job....</td>\n",
              "      <td>[{\"name\": \"Miramax Films\", \"id\": 14}, {\"name\":...</td>\n",
              "      <td>[{\"iso_3166_1\": \"US\", \"name\": \"United States o...</td>\n",
              "      <td>[{\"iso_639_1\": \"en\", \"name\": \"English\"}]</td>\n",
              "      <td>Twelve outrageous guests. Four scandalous requ...</td>\n",
              "      <td>Tim Roth Antonio Banderas Jennifer Beals Madon...</td>\n",
              "      <td>[{'name': 'Allison Anders', 'gender': 1, 'depa...</td>\n",
              "      <td>Allison Anders</td>\n",
              "    </tr>\n",
              "    <tr>\n",
              "      <th>1</th>\n",
              "      <td>2</td>\n",
              "      <td>Star Wars</td>\n",
              "      <td>Adventure Action Science Fiction</td>\n",
              "      <td>en</td>\n",
              "      <td>11000000</td>\n",
              "      <td>126.393695</td>\n",
              "      <td>25-05-1977</td>\n",
              "      <td>775398007</td>\n",
              "      <td>121.0</td>\n",
              "      <td>8.1</td>\n",
              "      <td>...</td>\n",
              "      <td>http://www.starwars.com/films/star-wars-episod...</td>\n",
              "      <td>android galaxy hermit death star lightsaber</td>\n",
              "      <td>Princess Leia is captured and held hostage by ...</td>\n",
              "      <td>[{\"name\": \"Lucasfilm\", \"id\": 1}, {\"name\": \"Twe...</td>\n",
              "      <td>[{\"iso_3166_1\": \"US\", \"name\": \"United States o...</td>\n",
              "      <td>[{\"iso_639_1\": \"en\", \"name\": \"English\"}]</td>\n",
              "      <td>A long time ago in a galaxy far, far away...</td>\n",
              "      <td>Mark Hamill Harrison Ford Carrie Fisher Peter ...</td>\n",
              "      <td>[{'name': 'George Lucas', 'gender': 2, 'depart...</td>\n",
              "      <td>George Lucas</td>\n",
              "    </tr>\n",
              "    <tr>\n",
              "      <th>2</th>\n",
              "      <td>3</td>\n",
              "      <td>Finding Nemo</td>\n",
              "      <td>Animation Family</td>\n",
              "      <td>en</td>\n",
              "      <td>94000000</td>\n",
              "      <td>85.688789</td>\n",
              "      <td>30-05-2003</td>\n",
              "      <td>940335536</td>\n",
              "      <td>100.0</td>\n",
              "      <td>7.6</td>\n",
              "      <td>...</td>\n",
              "      <td>http://movies.disney.com/finding-nemo</td>\n",
              "      <td>father son relationship harbor underwater fish...</td>\n",
              "      <td>Nemo, an adventurous young clownfish, is unexp...</td>\n",
              "      <td>[{\"name\": \"Pixar Animation Studios\", \"id\": 3}]</td>\n",
              "      <td>[{\"iso_3166_1\": \"US\", \"name\": \"United States o...</td>\n",
              "      <td>[{\"iso_639_1\": \"en\", \"name\": \"English\"}]</td>\n",
              "      <td>There are 3.7 trillion fish in the ocean, they...</td>\n",
              "      <td>Albert Brooks Ellen DeGeneres Alexander Gould ...</td>\n",
              "      <td>[{'name': 'Andrew Stanton', 'gender': 2, 'depa...</td>\n",
              "      <td>Andrew Stanton</td>\n",
              "    </tr>\n",
              "    <tr>\n",
              "      <th>3</th>\n",
              "      <td>4</td>\n",
              "      <td>Forrest Gump</td>\n",
              "      <td>Comedy Drama Romance</td>\n",
              "      <td>en</td>\n",
              "      <td>55000000</td>\n",
              "      <td>138.133331</td>\n",
              "      <td>06-07-1994</td>\n",
              "      <td>677945399</td>\n",
              "      <td>142.0</td>\n",
              "      <td>8.2</td>\n",
              "      <td>...</td>\n",
              "      <td>NaN</td>\n",
              "      <td>vietnam veteran hippie mentally disabled runni...</td>\n",
              "      <td>A man with a low IQ has accomplished great thi...</td>\n",
              "      <td>[{\"name\": \"Paramount Pictures\", \"id\": 4}]</td>\n",
              "      <td>[{\"iso_3166_1\": \"US\", \"name\": \"United States o...</td>\n",
              "      <td>[{\"iso_639_1\": \"en\", \"name\": \"English\"}]</td>\n",
              "      <td>The world will never be the same, once you've ...</td>\n",
              "      <td>Tom Hanks Robin Wright Gary Sinise Mykelti Wil...</td>\n",
              "      <td>[{'name': 'Alan Silvestri', 'gender': 2, 'depa...</td>\n",
              "      <td>Robert Zemeckis</td>\n",
              "    </tr>\n",
              "    <tr>\n",
              "      <th>4</th>\n",
              "      <td>5</td>\n",
              "      <td>American Beauty</td>\n",
              "      <td>Drama</td>\n",
              "      <td>en</td>\n",
              "      <td>15000000</td>\n",
              "      <td>80.878605</td>\n",
              "      <td>15-09-1999</td>\n",
              "      <td>356296601</td>\n",
              "      <td>122.0</td>\n",
              "      <td>7.9</td>\n",
              "      <td>...</td>\n",
              "      <td>http://www.dreamworks.com/ab/</td>\n",
              "      <td>male nudity female nudity adultery midlife cri...</td>\n",
              "      <td>Lester Burnham, a depressed suburban father in...</td>\n",
              "      <td>[{\"name\": \"DreamWorks SKG\", \"id\": 27}, {\"name\"...</td>\n",
              "      <td>[{\"iso_3166_1\": \"US\", \"name\": \"United States o...</td>\n",
              "      <td>[{\"iso_639_1\": \"en\", \"name\": \"English\"}]</td>\n",
              "      <td>Look closer.</td>\n",
              "      <td>Kevin Spacey Annette Bening Thora Birch Wes Be...</td>\n",
              "      <td>[{'name': 'Thomas Newman', 'gender': 2, 'depar...</td>\n",
              "      <td>Sam Mendes</td>\n",
              "    </tr>\n",
              "  </tbody>\n",
              "</table>\n",
              "<p>5 rows × 21 columns</p>\n",
              "</div>\n",
              "    <div class=\"colab-df-buttons\">\n",
              "\n",
              "  <div class=\"colab-df-container\">\n",
              "    <button class=\"colab-df-convert\" onclick=\"convertToInteractive('df-a29e319e-5410-4d94-9878-b84a07198e42')\"\n",
              "            title=\"Convert this dataframe to an interactive table.\"\n",
              "            style=\"display:none;\">\n",
              "\n",
              "  <svg xmlns=\"http://www.w3.org/2000/svg\" height=\"24px\" viewBox=\"0 -960 960 960\">\n",
              "    <path d=\"M120-120v-720h720v720H120Zm60-500h600v-160H180v160Zm220 220h160v-160H400v160Zm0 220h160v-160H400v160ZM180-400h160v-160H180v160Zm440 0h160v-160H620v160ZM180-180h160v-160H180v160Zm440 0h160v-160H620v160Z\"/>\n",
              "  </svg>\n",
              "    </button>\n",
              "\n",
              "  <style>\n",
              "    .colab-df-container {\n",
              "      display:flex;\n",
              "      gap: 12px;\n",
              "    }\n",
              "\n",
              "    .colab-df-convert {\n",
              "      background-color: #E8F0FE;\n",
              "      border: none;\n",
              "      border-radius: 50%;\n",
              "      cursor: pointer;\n",
              "      display: none;\n",
              "      fill: #1967D2;\n",
              "      height: 32px;\n",
              "      padding: 0 0 0 0;\n",
              "      width: 32px;\n",
              "    }\n",
              "\n",
              "    .colab-df-convert:hover {\n",
              "      background-color: #E2EBFA;\n",
              "      box-shadow: 0px 1px 2px rgba(60, 64, 67, 0.3), 0px 1px 3px 1px rgba(60, 64, 67, 0.15);\n",
              "      fill: #174EA6;\n",
              "    }\n",
              "\n",
              "    .colab-df-buttons div {\n",
              "      margin-bottom: 4px;\n",
              "    }\n",
              "\n",
              "    [theme=dark] .colab-df-convert {\n",
              "      background-color: #3B4455;\n",
              "      fill: #D2E3FC;\n",
              "    }\n",
              "\n",
              "    [theme=dark] .colab-df-convert:hover {\n",
              "      background-color: #434B5C;\n",
              "      box-shadow: 0px 1px 3px 1px rgba(0, 0, 0, 0.15);\n",
              "      filter: drop-shadow(0px 1px 2px rgba(0, 0, 0, 0.3));\n",
              "      fill: #FFFFFF;\n",
              "    }\n",
              "  </style>\n",
              "\n",
              "    <script>\n",
              "      const buttonEl =\n",
              "        document.querySelector('#df-a29e319e-5410-4d94-9878-b84a07198e42 button.colab-df-convert');\n",
              "      buttonEl.style.display =\n",
              "        google.colab.kernel.accessAllowed ? 'block' : 'none';\n",
              "\n",
              "      async function convertToInteractive(key) {\n",
              "        const element = document.querySelector('#df-a29e319e-5410-4d94-9878-b84a07198e42');\n",
              "        const dataTable =\n",
              "          await google.colab.kernel.invokeFunction('convertToInteractive',\n",
              "                                                    [key], {});\n",
              "        if (!dataTable) return;\n",
              "\n",
              "        const docLinkHtml = 'Like what you see? Visit the ' +\n",
              "          '<a target=\"_blank\" href=https://colab.research.google.com/notebooks/data_table.ipynb>data table notebook</a>'\n",
              "          + ' to learn more about interactive tables.';\n",
              "        element.innerHTML = '';\n",
              "        dataTable['output_type'] = 'display_data';\n",
              "        await google.colab.output.renderOutput(dataTable, element);\n",
              "        const docLink = document.createElement('div');\n",
              "        docLink.innerHTML = docLinkHtml;\n",
              "        element.appendChild(docLink);\n",
              "      }\n",
              "    </script>\n",
              "  </div>\n",
              "\n",
              "\n",
              "<div id=\"df-1b955146-b4f2-4679-9216-00babf9d1fb0\">\n",
              "  <button class=\"colab-df-quickchart\" onclick=\"quickchart('df-1b955146-b4f2-4679-9216-00babf9d1fb0')\"\n",
              "            title=\"Suggest charts\"\n",
              "            style=\"display:none;\">\n",
              "\n",
              "<svg xmlns=\"http://www.w3.org/2000/svg\" height=\"24px\"viewBox=\"0 0 24 24\"\n",
              "     width=\"24px\">\n",
              "    <g>\n",
              "        <path d=\"M19 3H5c-1.1 0-2 .9-2 2v14c0 1.1.9 2 2 2h14c1.1 0 2-.9 2-2V5c0-1.1-.9-2-2-2zM9 17H7v-7h2v7zm4 0h-2V7h2v10zm4 0h-2v-4h2v4z\"/>\n",
              "    </g>\n",
              "</svg>\n",
              "  </button>\n",
              "\n",
              "<style>\n",
              "  .colab-df-quickchart {\n",
              "      --bg-color: #E8F0FE;\n",
              "      --fill-color: #1967D2;\n",
              "      --hover-bg-color: #E2EBFA;\n",
              "      --hover-fill-color: #174EA6;\n",
              "      --disabled-fill-color: #AAA;\n",
              "      --disabled-bg-color: #DDD;\n",
              "  }\n",
              "\n",
              "  [theme=dark] .colab-df-quickchart {\n",
              "      --bg-color: #3B4455;\n",
              "      --fill-color: #D2E3FC;\n",
              "      --hover-bg-color: #434B5C;\n",
              "      --hover-fill-color: #FFFFFF;\n",
              "      --disabled-bg-color: #3B4455;\n",
              "      --disabled-fill-color: #666;\n",
              "  }\n",
              "\n",
              "  .colab-df-quickchart {\n",
              "    background-color: var(--bg-color);\n",
              "    border: none;\n",
              "    border-radius: 50%;\n",
              "    cursor: pointer;\n",
              "    display: none;\n",
              "    fill: var(--fill-color);\n",
              "    height: 32px;\n",
              "    padding: 0;\n",
              "    width: 32px;\n",
              "  }\n",
              "\n",
              "  .colab-df-quickchart:hover {\n",
              "    background-color: var(--hover-bg-color);\n",
              "    box-shadow: 0 1px 2px rgba(60, 64, 67, 0.3), 0 1px 3px 1px rgba(60, 64, 67, 0.15);\n",
              "    fill: var(--button-hover-fill-color);\n",
              "  }\n",
              "\n",
              "  .colab-df-quickchart-complete:disabled,\n",
              "  .colab-df-quickchart-complete:disabled:hover {\n",
              "    background-color: var(--disabled-bg-color);\n",
              "    fill: var(--disabled-fill-color);\n",
              "    box-shadow: none;\n",
              "  }\n",
              "\n",
              "  .colab-df-spinner {\n",
              "    border: 2px solid var(--fill-color);\n",
              "    border-color: transparent;\n",
              "    border-bottom-color: var(--fill-color);\n",
              "    animation:\n",
              "      spin 1s steps(1) infinite;\n",
              "  }\n",
              "\n",
              "  @keyframes spin {\n",
              "    0% {\n",
              "      border-color: transparent;\n",
              "      border-bottom-color: var(--fill-color);\n",
              "      border-left-color: var(--fill-color);\n",
              "    }\n",
              "    20% {\n",
              "      border-color: transparent;\n",
              "      border-left-color: var(--fill-color);\n",
              "      border-top-color: var(--fill-color);\n",
              "    }\n",
              "    30% {\n",
              "      border-color: transparent;\n",
              "      border-left-color: var(--fill-color);\n",
              "      border-top-color: var(--fill-color);\n",
              "      border-right-color: var(--fill-color);\n",
              "    }\n",
              "    40% {\n",
              "      border-color: transparent;\n",
              "      border-right-color: var(--fill-color);\n",
              "      border-top-color: var(--fill-color);\n",
              "    }\n",
              "    60% {\n",
              "      border-color: transparent;\n",
              "      border-right-color: var(--fill-color);\n",
              "    }\n",
              "    80% {\n",
              "      border-color: transparent;\n",
              "      border-right-color: var(--fill-color);\n",
              "      border-bottom-color: var(--fill-color);\n",
              "    }\n",
              "    90% {\n",
              "      border-color: transparent;\n",
              "      border-bottom-color: var(--fill-color);\n",
              "    }\n",
              "  }\n",
              "</style>\n",
              "\n",
              "  <script>\n",
              "    async function quickchart(key) {\n",
              "      const quickchartButtonEl =\n",
              "        document.querySelector('#' + key + ' button');\n",
              "      quickchartButtonEl.disabled = true;  // To prevent multiple clicks.\n",
              "      quickchartButtonEl.classList.add('colab-df-spinner');\n",
              "      try {\n",
              "        const charts = await google.colab.kernel.invokeFunction(\n",
              "            'suggestCharts', [key], {});\n",
              "      } catch (error) {\n",
              "        console.error('Error during call to suggestCharts:', error);\n",
              "      }\n",
              "      quickchartButtonEl.classList.remove('colab-df-spinner');\n",
              "      quickchartButtonEl.classList.add('colab-df-quickchart-complete');\n",
              "    }\n",
              "    (() => {\n",
              "      let quickchartButtonEl =\n",
              "        document.querySelector('#df-1b955146-b4f2-4679-9216-00babf9d1fb0 button');\n",
              "      quickchartButtonEl.style.display =\n",
              "        google.colab.kernel.accessAllowed ? 'block' : 'none';\n",
              "    })();\n",
              "  </script>\n",
              "</div>\n",
              "\n",
              "    </div>\n",
              "  </div>\n"
            ],
            "application/vnd.google.colaboratory.intrinsic+json": {
              "type": "dataframe",
              "variable_name": "df"
            }
          },
          "metadata": {},
          "execution_count": 4
        }
      ]
    },
    {
      "cell_type": "code",
      "source": [
        "df.info()"
      ],
      "metadata": {
        "colab": {
          "base_uri": "https://localhost:8080/"
        },
        "id": "cz3G9piCPdtH",
        "outputId": "b7c4a82e-5242-493f-8b72-c4c708816501"
      },
      "execution_count": null,
      "outputs": [
        {
          "output_type": "stream",
          "name": "stdout",
          "text": [
            "<class 'pandas.core.frame.DataFrame'>\n",
            "RangeIndex: 4760 entries, 0 to 4759\n",
            "Data columns (total 21 columns):\n",
            " #   Column                    Non-Null Count  Dtype  \n",
            "---  ------                    --------------  -----  \n",
            " 0   Movie_ID                  4760 non-null   int64  \n",
            " 1   Movie_Title               4760 non-null   object \n",
            " 2   Movie_Genre               4760 non-null   object \n",
            " 3   Movie_Language            4760 non-null   object \n",
            " 4   Movie_Budget              4760 non-null   int64  \n",
            " 5   Movie_Popularity          4760 non-null   float64\n",
            " 6   Movie_Release_Date        4760 non-null   object \n",
            " 7   Movie_Revenue             4760 non-null   int64  \n",
            " 8   Movie_Runtime             4758 non-null   float64\n",
            " 9   Movie_Vote                4760 non-null   float64\n",
            " 10  Movie_Vote_Count          4760 non-null   int64  \n",
            " 11  Movie_Homepage            1699 non-null   object \n",
            " 12  Movie_Keywords            4373 non-null   object \n",
            " 13  Movie_Overview            4757 non-null   object \n",
            " 14  Movie_Production_House    4760 non-null   object \n",
            " 15  Movie_Production_Country  4760 non-null   object \n",
            " 16  Movie_Spoken_Language     4760 non-null   object \n",
            " 17  Movie_Tagline             3942 non-null   object \n",
            " 18  Movie_Cast                4733 non-null   object \n",
            " 19  Movie_Crew                4760 non-null   object \n",
            " 20  Movie_Director            4738 non-null   object \n",
            "dtypes: float64(3), int64(4), object(14)\n",
            "memory usage: 781.1+ KB\n"
          ]
        }
      ]
    },
    {
      "cell_type": "code",
      "source": [
        "df.shape"
      ],
      "metadata": {
        "colab": {
          "base_uri": "https://localhost:8080/"
        },
        "id": "6Du9uTChPl93",
        "outputId": "4c96acbc-dfba-4a07-98e2-dd26c740e7ec"
      },
      "execution_count": null,
      "outputs": [
        {
          "output_type": "execute_result",
          "data": {
            "text/plain": [
              "(4760, 21)"
            ]
          },
          "metadata": {},
          "execution_count": 7
        }
      ]
    },
    {
      "cell_type": "code",
      "source": [
        "df.columns"
      ],
      "metadata": {
        "colab": {
          "base_uri": "https://localhost:8080/"
        },
        "id": "c04eCX1GPtaF",
        "outputId": "feb8372f-7e62-4033-973f-214f512c87a1"
      },
      "execution_count": null,
      "outputs": [
        {
          "output_type": "execute_result",
          "data": {
            "text/plain": [
              "Index(['Movie_ID', 'Movie_Title', 'Movie_Genre', 'Movie_Language',\n",
              "       'Movie_Budget', 'Movie_Popularity', 'Movie_Release_Date',\n",
              "       'Movie_Revenue', 'Movie_Runtime', 'Movie_Vote', 'Movie_Vote_Count',\n",
              "       'Movie_Homepage', 'Movie_Keywords', 'Movie_Overview',\n",
              "       'Movie_Production_House', 'Movie_Production_Country',\n",
              "       'Movie_Spoken_Language', 'Movie_Tagline', 'Movie_Cast', 'Movie_Crew',\n",
              "       'Movie_Director'],\n",
              "      dtype='object')"
            ]
          },
          "metadata": {},
          "execution_count": 9
        }
      ]
    },
    {
      "cell_type": "code",
      "source": [
        "df_features = df[['Movie_Genre' ,\t'Movie_Language', 'Movie_Tagline',\t'Movie_Cast', 'Movie_Director']].fillna('')"
      ],
      "metadata": {
        "id": "tGVDFCmkPz9L"
      },
      "execution_count": null,
      "outputs": []
    },
    {
      "cell_type": "code",
      "source": [
        "df_features.shape"
      ],
      "metadata": {
        "colab": {
          "base_uri": "https://localhost:8080/"
        },
        "id": "xR0iKaERQxyB",
        "outputId": "6618540e-3ba4-4d9c-e78f-e14ae37d282c"
      },
      "execution_count": null,
      "outputs": [
        {
          "output_type": "execute_result",
          "data": {
            "text/plain": [
              "(4760, 5)"
            ]
          },
          "metadata": {},
          "execution_count": 13
        }
      ]
    },
    {
      "cell_type": "code",
      "source": [
        "df_features"
      ],
      "metadata": {
        "colab": {
          "base_uri": "https://localhost:8080/",
          "height": 424
        },
        "id": "wPq8j-mzQ1JZ",
        "outputId": "0858a125-39a3-44c0-f5c9-1af3f5000b7d"
      },
      "execution_count": null,
      "outputs": [
        {
          "output_type": "execute_result",
          "data": {
            "text/plain": [
              "                           Movie_Genre Movie_Language  \\\n",
              "0                         Crime Comedy             en   \n",
              "1     Adventure Action Science Fiction             en   \n",
              "2                     Animation Family             en   \n",
              "3                 Comedy Drama Romance             en   \n",
              "4                                Drama             en   \n",
              "...                                ...            ...   \n",
              "4755                            Horror             en   \n",
              "4756               Comedy Family Drama             en   \n",
              "4757                    Thriller Drama             en   \n",
              "4758                            Family             en   \n",
              "4759                       Documentary             en   \n",
              "\n",
              "                                          Movie_Tagline  \\\n",
              "0     Twelve outrageous guests. Four scandalous requ...   \n",
              "1          A long time ago in a galaxy far, far away...   \n",
              "2     There are 3.7 trillion fish in the ocean, they...   \n",
              "3     The world will never be the same, once you've ...   \n",
              "4                                          Look closer.   \n",
              "...                                                 ...   \n",
              "4755                The hot spot where Satan's waitin'.   \n",
              "4756           It’s better to stand out than to fit in.   \n",
              "4757           She never knew it could happen to her...   \n",
              "4758                                                      \n",
              "4759                                                      \n",
              "\n",
              "                                             Movie_Cast     Movie_Director  \n",
              "0     Tim Roth Antonio Banderas Jennifer Beals Madon...     Allison Anders  \n",
              "1     Mark Hamill Harrison Ford Carrie Fisher Peter ...       George Lucas  \n",
              "2     Albert Brooks Ellen DeGeneres Alexander Gould ...     Andrew Stanton  \n",
              "3     Tom Hanks Robin Wright Gary Sinise Mykelti Wil...    Robert Zemeckis  \n",
              "4     Kevin Spacey Annette Bening Thora Birch Wes Be...         Sam Mendes  \n",
              "...                                                 ...                ...  \n",
              "4755  Lisa Hart Carroll Michael Des Barres Paul Drak...         Pece Dingo  \n",
              "4756  Roni Akurati Brighton Sharbino Jason Lee Anjul...       Frank Lotito  \n",
              "4757  Nicole Smolen Kim Baldwin Ariana Stephens Brys...       Jaco Booyens  \n",
              "4758                                                                        \n",
              "4759                                    Tony Oppedisano  Simon Napier-Bell  \n",
              "\n",
              "[4760 rows x 5 columns]"
            ],
            "text/html": [
              "\n",
              "  <div id=\"df-d9c2cd39-cf1c-4a3b-9327-0ad380f31e29\" class=\"colab-df-container\">\n",
              "    <div>\n",
              "<style scoped>\n",
              "    .dataframe tbody tr th:only-of-type {\n",
              "        vertical-align: middle;\n",
              "    }\n",
              "\n",
              "    .dataframe tbody tr th {\n",
              "        vertical-align: top;\n",
              "    }\n",
              "\n",
              "    .dataframe thead th {\n",
              "        text-align: right;\n",
              "    }\n",
              "</style>\n",
              "<table border=\"1\" class=\"dataframe\">\n",
              "  <thead>\n",
              "    <tr style=\"text-align: right;\">\n",
              "      <th></th>\n",
              "      <th>Movie_Genre</th>\n",
              "      <th>Movie_Language</th>\n",
              "      <th>Movie_Tagline</th>\n",
              "      <th>Movie_Cast</th>\n",
              "      <th>Movie_Director</th>\n",
              "    </tr>\n",
              "  </thead>\n",
              "  <tbody>\n",
              "    <tr>\n",
              "      <th>0</th>\n",
              "      <td>Crime Comedy</td>\n",
              "      <td>en</td>\n",
              "      <td>Twelve outrageous guests. Four scandalous requ...</td>\n",
              "      <td>Tim Roth Antonio Banderas Jennifer Beals Madon...</td>\n",
              "      <td>Allison Anders</td>\n",
              "    </tr>\n",
              "    <tr>\n",
              "      <th>1</th>\n",
              "      <td>Adventure Action Science Fiction</td>\n",
              "      <td>en</td>\n",
              "      <td>A long time ago in a galaxy far, far away...</td>\n",
              "      <td>Mark Hamill Harrison Ford Carrie Fisher Peter ...</td>\n",
              "      <td>George Lucas</td>\n",
              "    </tr>\n",
              "    <tr>\n",
              "      <th>2</th>\n",
              "      <td>Animation Family</td>\n",
              "      <td>en</td>\n",
              "      <td>There are 3.7 trillion fish in the ocean, they...</td>\n",
              "      <td>Albert Brooks Ellen DeGeneres Alexander Gould ...</td>\n",
              "      <td>Andrew Stanton</td>\n",
              "    </tr>\n",
              "    <tr>\n",
              "      <th>3</th>\n",
              "      <td>Comedy Drama Romance</td>\n",
              "      <td>en</td>\n",
              "      <td>The world will never be the same, once you've ...</td>\n",
              "      <td>Tom Hanks Robin Wright Gary Sinise Mykelti Wil...</td>\n",
              "      <td>Robert Zemeckis</td>\n",
              "    </tr>\n",
              "    <tr>\n",
              "      <th>4</th>\n",
              "      <td>Drama</td>\n",
              "      <td>en</td>\n",
              "      <td>Look closer.</td>\n",
              "      <td>Kevin Spacey Annette Bening Thora Birch Wes Be...</td>\n",
              "      <td>Sam Mendes</td>\n",
              "    </tr>\n",
              "    <tr>\n",
              "      <th>...</th>\n",
              "      <td>...</td>\n",
              "      <td>...</td>\n",
              "      <td>...</td>\n",
              "      <td>...</td>\n",
              "      <td>...</td>\n",
              "    </tr>\n",
              "    <tr>\n",
              "      <th>4755</th>\n",
              "      <td>Horror</td>\n",
              "      <td>en</td>\n",
              "      <td>The hot spot where Satan's waitin'.</td>\n",
              "      <td>Lisa Hart Carroll Michael Des Barres Paul Drak...</td>\n",
              "      <td>Pece Dingo</td>\n",
              "    </tr>\n",
              "    <tr>\n",
              "      <th>4756</th>\n",
              "      <td>Comedy Family Drama</td>\n",
              "      <td>en</td>\n",
              "      <td>It’s better to stand out than to fit in.</td>\n",
              "      <td>Roni Akurati Brighton Sharbino Jason Lee Anjul...</td>\n",
              "      <td>Frank Lotito</td>\n",
              "    </tr>\n",
              "    <tr>\n",
              "      <th>4757</th>\n",
              "      <td>Thriller Drama</td>\n",
              "      <td>en</td>\n",
              "      <td>She never knew it could happen to her...</td>\n",
              "      <td>Nicole Smolen Kim Baldwin Ariana Stephens Brys...</td>\n",
              "      <td>Jaco Booyens</td>\n",
              "    </tr>\n",
              "    <tr>\n",
              "      <th>4758</th>\n",
              "      <td>Family</td>\n",
              "      <td>en</td>\n",
              "      <td></td>\n",
              "      <td></td>\n",
              "      <td></td>\n",
              "    </tr>\n",
              "    <tr>\n",
              "      <th>4759</th>\n",
              "      <td>Documentary</td>\n",
              "      <td>en</td>\n",
              "      <td></td>\n",
              "      <td>Tony Oppedisano</td>\n",
              "      <td>Simon Napier-Bell</td>\n",
              "    </tr>\n",
              "  </tbody>\n",
              "</table>\n",
              "<p>4760 rows × 5 columns</p>\n",
              "</div>\n",
              "    <div class=\"colab-df-buttons\">\n",
              "\n",
              "  <div class=\"colab-df-container\">\n",
              "    <button class=\"colab-df-convert\" onclick=\"convertToInteractive('df-d9c2cd39-cf1c-4a3b-9327-0ad380f31e29')\"\n",
              "            title=\"Convert this dataframe to an interactive table.\"\n",
              "            style=\"display:none;\">\n",
              "\n",
              "  <svg xmlns=\"http://www.w3.org/2000/svg\" height=\"24px\" viewBox=\"0 -960 960 960\">\n",
              "    <path d=\"M120-120v-720h720v720H120Zm60-500h600v-160H180v160Zm220 220h160v-160H400v160Zm0 220h160v-160H400v160ZM180-400h160v-160H180v160Zm440 0h160v-160H620v160ZM180-180h160v-160H180v160Zm440 0h160v-160H620v160Z\"/>\n",
              "  </svg>\n",
              "    </button>\n",
              "\n",
              "  <style>\n",
              "    .colab-df-container {\n",
              "      display:flex;\n",
              "      gap: 12px;\n",
              "    }\n",
              "\n",
              "    .colab-df-convert {\n",
              "      background-color: #E8F0FE;\n",
              "      border: none;\n",
              "      border-radius: 50%;\n",
              "      cursor: pointer;\n",
              "      display: none;\n",
              "      fill: #1967D2;\n",
              "      height: 32px;\n",
              "      padding: 0 0 0 0;\n",
              "      width: 32px;\n",
              "    }\n",
              "\n",
              "    .colab-df-convert:hover {\n",
              "      background-color: #E2EBFA;\n",
              "      box-shadow: 0px 1px 2px rgba(60, 64, 67, 0.3), 0px 1px 3px 1px rgba(60, 64, 67, 0.15);\n",
              "      fill: #174EA6;\n",
              "    }\n",
              "\n",
              "    .colab-df-buttons div {\n",
              "      margin-bottom: 4px;\n",
              "    }\n",
              "\n",
              "    [theme=dark] .colab-df-convert {\n",
              "      background-color: #3B4455;\n",
              "      fill: #D2E3FC;\n",
              "    }\n",
              "\n",
              "    [theme=dark] .colab-df-convert:hover {\n",
              "      background-color: #434B5C;\n",
              "      box-shadow: 0px 1px 3px 1px rgba(0, 0, 0, 0.15);\n",
              "      filter: drop-shadow(0px 1px 2px rgba(0, 0, 0, 0.3));\n",
              "      fill: #FFFFFF;\n",
              "    }\n",
              "  </style>\n",
              "\n",
              "    <script>\n",
              "      const buttonEl =\n",
              "        document.querySelector('#df-d9c2cd39-cf1c-4a3b-9327-0ad380f31e29 button.colab-df-convert');\n",
              "      buttonEl.style.display =\n",
              "        google.colab.kernel.accessAllowed ? 'block' : 'none';\n",
              "\n",
              "      async function convertToInteractive(key) {\n",
              "        const element = document.querySelector('#df-d9c2cd39-cf1c-4a3b-9327-0ad380f31e29');\n",
              "        const dataTable =\n",
              "          await google.colab.kernel.invokeFunction('convertToInteractive',\n",
              "                                                    [key], {});\n",
              "        if (!dataTable) return;\n",
              "\n",
              "        const docLinkHtml = 'Like what you see? Visit the ' +\n",
              "          '<a target=\"_blank\" href=https://colab.research.google.com/notebooks/data_table.ipynb>data table notebook</a>'\n",
              "          + ' to learn more about interactive tables.';\n",
              "        element.innerHTML = '';\n",
              "        dataTable['output_type'] = 'display_data';\n",
              "        await google.colab.output.renderOutput(dataTable, element);\n",
              "        const docLink = document.createElement('div');\n",
              "        docLink.innerHTML = docLinkHtml;\n",
              "        element.appendChild(docLink);\n",
              "      }\n",
              "    </script>\n",
              "  </div>\n",
              "\n",
              "\n",
              "<div id=\"df-63783a0c-31ea-437d-9c12-9346213d8194\">\n",
              "  <button class=\"colab-df-quickchart\" onclick=\"quickchart('df-63783a0c-31ea-437d-9c12-9346213d8194')\"\n",
              "            title=\"Suggest charts\"\n",
              "            style=\"display:none;\">\n",
              "\n",
              "<svg xmlns=\"http://www.w3.org/2000/svg\" height=\"24px\"viewBox=\"0 0 24 24\"\n",
              "     width=\"24px\">\n",
              "    <g>\n",
              "        <path d=\"M19 3H5c-1.1 0-2 .9-2 2v14c0 1.1.9 2 2 2h14c1.1 0 2-.9 2-2V5c0-1.1-.9-2-2-2zM9 17H7v-7h2v7zm4 0h-2V7h2v10zm4 0h-2v-4h2v4z\"/>\n",
              "    </g>\n",
              "</svg>\n",
              "  </button>\n",
              "\n",
              "<style>\n",
              "  .colab-df-quickchart {\n",
              "      --bg-color: #E8F0FE;\n",
              "      --fill-color: #1967D2;\n",
              "      --hover-bg-color: #E2EBFA;\n",
              "      --hover-fill-color: #174EA6;\n",
              "      --disabled-fill-color: #AAA;\n",
              "      --disabled-bg-color: #DDD;\n",
              "  }\n",
              "\n",
              "  [theme=dark] .colab-df-quickchart {\n",
              "      --bg-color: #3B4455;\n",
              "      --fill-color: #D2E3FC;\n",
              "      --hover-bg-color: #434B5C;\n",
              "      --hover-fill-color: #FFFFFF;\n",
              "      --disabled-bg-color: #3B4455;\n",
              "      --disabled-fill-color: #666;\n",
              "  }\n",
              "\n",
              "  .colab-df-quickchart {\n",
              "    background-color: var(--bg-color);\n",
              "    border: none;\n",
              "    border-radius: 50%;\n",
              "    cursor: pointer;\n",
              "    display: none;\n",
              "    fill: var(--fill-color);\n",
              "    height: 32px;\n",
              "    padding: 0;\n",
              "    width: 32px;\n",
              "  }\n",
              "\n",
              "  .colab-df-quickchart:hover {\n",
              "    background-color: var(--hover-bg-color);\n",
              "    box-shadow: 0 1px 2px rgba(60, 64, 67, 0.3), 0 1px 3px 1px rgba(60, 64, 67, 0.15);\n",
              "    fill: var(--button-hover-fill-color);\n",
              "  }\n",
              "\n",
              "  .colab-df-quickchart-complete:disabled,\n",
              "  .colab-df-quickchart-complete:disabled:hover {\n",
              "    background-color: var(--disabled-bg-color);\n",
              "    fill: var(--disabled-fill-color);\n",
              "    box-shadow: none;\n",
              "  }\n",
              "\n",
              "  .colab-df-spinner {\n",
              "    border: 2px solid var(--fill-color);\n",
              "    border-color: transparent;\n",
              "    border-bottom-color: var(--fill-color);\n",
              "    animation:\n",
              "      spin 1s steps(1) infinite;\n",
              "  }\n",
              "\n",
              "  @keyframes spin {\n",
              "    0% {\n",
              "      border-color: transparent;\n",
              "      border-bottom-color: var(--fill-color);\n",
              "      border-left-color: var(--fill-color);\n",
              "    }\n",
              "    20% {\n",
              "      border-color: transparent;\n",
              "      border-left-color: var(--fill-color);\n",
              "      border-top-color: var(--fill-color);\n",
              "    }\n",
              "    30% {\n",
              "      border-color: transparent;\n",
              "      border-left-color: var(--fill-color);\n",
              "      border-top-color: var(--fill-color);\n",
              "      border-right-color: var(--fill-color);\n",
              "    }\n",
              "    40% {\n",
              "      border-color: transparent;\n",
              "      border-right-color: var(--fill-color);\n",
              "      border-top-color: var(--fill-color);\n",
              "    }\n",
              "    60% {\n",
              "      border-color: transparent;\n",
              "      border-right-color: var(--fill-color);\n",
              "    }\n",
              "    80% {\n",
              "      border-color: transparent;\n",
              "      border-right-color: var(--fill-color);\n",
              "      border-bottom-color: var(--fill-color);\n",
              "    }\n",
              "    90% {\n",
              "      border-color: transparent;\n",
              "      border-bottom-color: var(--fill-color);\n",
              "    }\n",
              "  }\n",
              "</style>\n",
              "\n",
              "  <script>\n",
              "    async function quickchart(key) {\n",
              "      const quickchartButtonEl =\n",
              "        document.querySelector('#' + key + ' button');\n",
              "      quickchartButtonEl.disabled = true;  // To prevent multiple clicks.\n",
              "      quickchartButtonEl.classList.add('colab-df-spinner');\n",
              "      try {\n",
              "        const charts = await google.colab.kernel.invokeFunction(\n",
              "            'suggestCharts', [key], {});\n",
              "      } catch (error) {\n",
              "        console.error('Error during call to suggestCharts:', error);\n",
              "      }\n",
              "      quickchartButtonEl.classList.remove('colab-df-spinner');\n",
              "      quickchartButtonEl.classList.add('colab-df-quickchart-complete');\n",
              "    }\n",
              "    (() => {\n",
              "      let quickchartButtonEl =\n",
              "        document.querySelector('#df-63783a0c-31ea-437d-9c12-9346213d8194 button');\n",
              "      quickchartButtonEl.style.display =\n",
              "        google.colab.kernel.accessAllowed ? 'block' : 'none';\n",
              "    })();\n",
              "  </script>\n",
              "</div>\n",
              "\n",
              "  <div id=\"id_4c67eaaa-1c71-460e-a13a-69a0fd141be6\">\n",
              "    <style>\n",
              "      .colab-df-generate {\n",
              "        background-color: #E8F0FE;\n",
              "        border: none;\n",
              "        border-radius: 50%;\n",
              "        cursor: pointer;\n",
              "        display: none;\n",
              "        fill: #1967D2;\n",
              "        height: 32px;\n",
              "        padding: 0 0 0 0;\n",
              "        width: 32px;\n",
              "      }\n",
              "\n",
              "      .colab-df-generate:hover {\n",
              "        background-color: #E2EBFA;\n",
              "        box-shadow: 0px 1px 2px rgba(60, 64, 67, 0.3), 0px 1px 3px 1px rgba(60, 64, 67, 0.15);\n",
              "        fill: #174EA6;\n",
              "      }\n",
              "\n",
              "      [theme=dark] .colab-df-generate {\n",
              "        background-color: #3B4455;\n",
              "        fill: #D2E3FC;\n",
              "      }\n",
              "\n",
              "      [theme=dark] .colab-df-generate:hover {\n",
              "        background-color: #434B5C;\n",
              "        box-shadow: 0px 1px 3px 1px rgba(0, 0, 0, 0.15);\n",
              "        filter: drop-shadow(0px 1px 2px rgba(0, 0, 0, 0.3));\n",
              "        fill: #FFFFFF;\n",
              "      }\n",
              "    </style>\n",
              "    <button class=\"colab-df-generate\" onclick=\"generateWithVariable('df_features')\"\n",
              "            title=\"Generate code using this dataframe.\"\n",
              "            style=\"display:none;\">\n",
              "\n",
              "  <svg xmlns=\"http://www.w3.org/2000/svg\" height=\"24px\"viewBox=\"0 0 24 24\"\n",
              "       width=\"24px\">\n",
              "    <path d=\"M7,19H8.4L18.45,9,17,7.55,7,17.6ZM5,21V16.75L18.45,3.32a2,2,0,0,1,2.83,0l1.4,1.43a1.91,1.91,0,0,1,.58,1.4,1.91,1.91,0,0,1-.58,1.4L9.25,21ZM18.45,9,17,7.55Zm-12,3A5.31,5.31,0,0,0,4.9,8.1,5.31,5.31,0,0,0,1,6.5,5.31,5.31,0,0,0,4.9,4.9,5.31,5.31,0,0,0,6.5,1,5.31,5.31,0,0,0,8.1,4.9,5.31,5.31,0,0,0,12,6.5,5.46,5.46,0,0,0,6.5,12Z\"/>\n",
              "  </svg>\n",
              "    </button>\n",
              "    <script>\n",
              "      (() => {\n",
              "      const buttonEl =\n",
              "        document.querySelector('#id_4c67eaaa-1c71-460e-a13a-69a0fd141be6 button.colab-df-generate');\n",
              "      buttonEl.style.display =\n",
              "        google.colab.kernel.accessAllowed ? 'block' : 'none';\n",
              "\n",
              "      buttonEl.onclick = () => {\n",
              "        google.colab.notebook.generateWithVariable('df_features');\n",
              "      }\n",
              "      })();\n",
              "    </script>\n",
              "  </div>\n",
              "\n",
              "    </div>\n",
              "  </div>\n"
            ],
            "application/vnd.google.colaboratory.intrinsic+json": {
              "type": "dataframe",
              "variable_name": "df_features",
              "summary": "{\n  \"name\": \"df_features\",\n  \"rows\": 4760,\n  \"fields\": [\n    {\n      \"column\": \"Movie_Genre\",\n      \"properties\": {\n        \"dtype\": \"category\",\n        \"num_unique_values\": 1164,\n        \"samples\": [\n          \"Family Animation Adventure\",\n          \"Adventure Science Fiction Action\",\n          \"Action Crime Drama Romance Thriller\"\n        ],\n        \"semantic_type\": \"\",\n        \"description\": \"\"\n      }\n    },\n    {\n      \"column\": \"Movie_Language\",\n      \"properties\": {\n        \"dtype\": \"category\",\n        \"num_unique_values\": 37,\n        \"samples\": [\n          \"he\",\n          \"fr\",\n          \"ja\"\n        ],\n        \"semantic_type\": \"\",\n        \"description\": \"\"\n      }\n    },\n    {\n      \"column\": \"Movie_Tagline\",\n      \"properties\": {\n        \"dtype\": \"string\",\n        \"num_unique_values\": 3928,\n        \"samples\": [\n          \"The messenger must be silenced.\",\n          \"It's not the house that's haunted.\",\n          \"The final hunt begins.\"\n        ],\n        \"semantic_type\": \"\",\n        \"description\": \"\"\n      }\n    },\n    {\n      \"column\": \"Movie_Cast\",\n      \"properties\": {\n        \"dtype\": \"string\",\n        \"num_unique_values\": 4715,\n        \"samples\": [\n          \"Robin Tunney Fairuza Balk Neve Campbell Rachel True Skeet Ulrich\",\n          \"Peter Sellers Christopher Plummer Herbert Lom Catherine Schell Peter Arne\",\n          \"John Wayne Laraine Day Cedric Hardwicke Judith Anderson Anthony Quinn\"\n        ],\n        \"semantic_type\": \"\",\n        \"description\": \"\"\n      }\n    },\n    {\n      \"column\": \"Movie_Director\",\n      \"properties\": {\n        \"dtype\": \"category\",\n        \"num_unique_values\": 2332,\n        \"samples\": [\n          \"Rob McKittrick\",\n          \"Terron R. Parsons\",\n          \"Cyrus Nowrasteh\"\n        ],\n        \"semantic_type\": \"\",\n        \"description\": \"\"\n      }\n    }\n  ]\n}"
            }
          },
          "metadata": {},
          "execution_count": 14
        }
      ]
    },
    {
      "cell_type": "code",
      "source": [
        "x = df_features['Movie_Genre'] + '' + df_features['Movie_Language'] + '' + df_features['Movie_Tagline'] + '' + df_features['Movie_Cast'] + '' + df_features['Movie_Director']"
      ],
      "metadata": {
        "id": "jDf1UgtYRADX"
      },
      "execution_count": null,
      "outputs": []
    },
    {
      "cell_type": "code",
      "source": [
        "x.shape"
      ],
      "metadata": {
        "colab": {
          "base_uri": "https://localhost:8080/"
        },
        "id": "38zHPMkfRnp3",
        "outputId": "b132eec3-d6ac-4d34-e4e1-f06990c5914a"
      },
      "execution_count": null,
      "outputs": [
        {
          "output_type": "execute_result",
          "data": {
            "text/plain": [
              "(4760,)"
            ]
          },
          "metadata": {},
          "execution_count": 18
        }
      ]
    },
    {
      "cell_type": "code",
      "source": [
        "from sklearn.feature_extraction.text import TfidfVectorizer"
      ],
      "metadata": {
        "id": "-bmvnhOQRpnl"
      },
      "execution_count": null,
      "outputs": []
    },
    {
      "cell_type": "code",
      "source": [
        "tfidf = TfidfVectorizer()"
      ],
      "metadata": {
        "id": "hJERouhYRvuK"
      },
      "execution_count": null,
      "outputs": []
    },
    {
      "cell_type": "code",
      "source": [
        "x = tfidf.fit_transform(x)"
      ],
      "metadata": {
        "id": "r59997hDR1Kq"
      },
      "execution_count": null,
      "outputs": []
    },
    {
      "cell_type": "code",
      "source": [
        "x.shape"
      ],
      "metadata": {
        "colab": {
          "base_uri": "https://localhost:8080/"
        },
        "id": "xq21rSMzSzEK",
        "outputId": "75c91c57-ca62-4f41-92c8-9495cfa5c337"
      },
      "execution_count": null,
      "outputs": [
        {
          "output_type": "execute_result",
          "data": {
            "text/plain": [
              "(4760, 20902)"
            ]
          },
          "metadata": {},
          "execution_count": 35
        }
      ]
    },
    {
      "cell_type": "code",
      "source": [
        "print(x)"
      ],
      "metadata": {
        "colab": {
          "base_uri": "https://localhost:8080/"
        },
        "id": "MKQwzqE6S1mp",
        "outputId": "cc1fe01d-55d7-4710-ea5b-7a6508eb60eb"
      },
      "execution_count": null,
      "outputs": [
        {
          "output_type": "stream",
          "name": "stdout",
          "text": [
            "  (0, 725)\t0.18263673050517823\n",
            "  (0, 18760)\t0.22041698290804876\n",
            "  (0, 12177)\t0.16018531608282893\n",
            "  (0, 11953)\t0.19282142855177897\n",
            "  (0, 1537)\t0.20300612659837972\n",
            "  (0, 10054)\t0.11180101439010132\n",
            "  (0, 1342)\t0.15906875199292364\n",
            "  (0, 867)\t0.15697432637478284\n",
            "  (0, 16143)\t0.16018531608282893\n",
            "  (0, 18695)\t0.12807361840354814\n",
            "  (0, 11450)\t0.11480117565135176\n",
            "  (0, 13912)\t0.08007336428550275\n",
            "  (0, 6332)\t0.18263673050517823\n",
            "  (0, 20665)\t0.15239467213031146\n",
            "  (0, 13648)\t0.13005769324099714\n",
            "  (0, 20286)\t0.19740108279625032\n",
            "  (0, 7311)\t0.0988370851677038\n",
            "  (0, 20244)\t0.1259410669657089\n",
            "  (0, 10127)\t0.16818441397904157\n",
            "  (0, 18212)\t0.12453165909604934\n",
            "  (0, 13995)\t0.10838459543052524\n",
            "  (0, 4644)\t0.1367168171305235\n",
            "  (0, 7195)\t0.1411176908618688\n",
            "  (0, 9114)\t0.227044273011198\n",
            "  (0, 9711)\t0.18253163729010619\n",
            "  :\t:\n",
            "  (4756, 3524)\t0.07376123353324211\n",
            "  (4756, 9711)\t0.113798796231343\n",
            "  (4757, 2129)\t0.30702243216379044\n",
            "  (4757, 7569)\t0.30702243216379044\n",
            "  (4757, 2479)\t0.30702243216379044\n",
            "  (4757, 939)\t0.30702243216379044\n",
            "  (4757, 17262)\t0.30702243216379044\n",
            "  (4757, 17605)\t0.27496320724593964\n",
            "  (4757, 1310)\t0.20789382518598976\n",
            "  (4757, 4038)\t0.21227303935001415\n",
            "  (4757, 8581)\t0.23214569262253323\n",
            "  (4757, 5626)\t0.2585186972907034\n",
            "  (4757, 13699)\t0.2030934256396738\n",
            "  (4757, 10795)\t0.25071133980939614\n",
            "  (4757, 8952)\t0.18631409926450107\n",
            "  (4757, 10689)\t0.19106553022496078\n",
            "  (4757, 18318)\t0.11775768118063576\n",
            "  (4757, 18727)\t0.10682257360366733\n",
            "  (4757, 9849)\t0.13350473185047798\n",
            "  (4757, 13644)\t0.1601705252471853\n",
            "  (4758, 6500)\t1.0\n",
            "  (4759, 14022)\t0.5540056858546029\n",
            "  (4759, 5164)\t0.5540056858546029\n",
            "  (4759, 13514)\t0.5102444780570257\n",
            "  (4759, 1657)\t0.3546913766838091\n"
          ]
        }
      ]
    },
    {
      "cell_type": "code",
      "source": [],
      "metadata": {
        "id": "tNea55UnS4Km"
      },
      "execution_count": null,
      "outputs": []
    },
    {
      "cell_type": "code",
      "source": [
        "from sklearn.metrics.pairwise import cosine_similarity"
      ],
      "metadata": {
        "id": "Fnkta_QQTCZU"
      },
      "execution_count": null,
      "outputs": []
    },
    {
      "cell_type": "code",
      "source": [
        "Similarity_Score = cosine_similarity(x)"
      ],
      "metadata": {
        "id": "HE-w-4fBTL24"
      },
      "execution_count": null,
      "outputs": []
    },
    {
      "cell_type": "code",
      "source": [
        "Similarity_Score"
      ],
      "metadata": {
        "colab": {
          "base_uri": "https://localhost:8080/"
        },
        "id": "HMQWgH96TQ4g",
        "outputId": "bb83e6f5-1296-4537-e528-f7792100b1ca"
      },
      "execution_count": null,
      "outputs": [
        {
          "output_type": "execute_result",
          "data": {
            "text/plain": [
              "array([[1.        , 0.02175961, 0.05725479, ..., 0.        , 0.        ,\n",
              "        0.        ],\n",
              "       [0.02175961, 1.        , 0.01397801, ..., 0.        , 0.        ,\n",
              "        0.        ],\n",
              "       [0.05725479, 0.01397801, 1.        , ..., 0.        , 0.        ,\n",
              "        0.        ],\n",
              "       ...,\n",
              "       [0.        , 0.        , 0.        , ..., 1.        , 0.        ,\n",
              "        0.        ],\n",
              "       [0.        , 0.        , 0.        , ..., 0.        , 1.        ,\n",
              "        0.        ],\n",
              "       [0.        , 0.        , 0.        , ..., 0.        , 0.        ,\n",
              "        1.        ]])"
            ]
          },
          "metadata": {},
          "execution_count": 39
        }
      ]
    },
    {
      "cell_type": "code",
      "source": [
        "Favourite_Movie_Name = input('Enter your favourite movie name: ')"
      ],
      "metadata": {
        "colab": {
          "base_uri": "https://localhost:8080/"
        },
        "id": "eidVwJ2fTUWd",
        "outputId": "a3ef9841-122f-4c00-a6a9-8e74efcfaac6"
      },
      "execution_count": null,
      "outputs": [
        {
          "name": "stdout",
          "output_type": "stream",
          "text": [
            "Enter your favourite movie name: avtaar\n"
          ]
        }
      ]
    },
    {
      "cell_type": "code",
      "source": [
        "All_Movies_Title_List = df['Movie_Title'].tolist()"
      ],
      "metadata": {
        "id": "WU5CTGogTkdK"
      },
      "execution_count": null,
      "outputs": []
    },
    {
      "cell_type": "code",
      "source": [
        "import difflib"
      ],
      "metadata": {
        "id": "0Oja9YFlTtCX"
      },
      "execution_count": null,
      "outputs": []
    },
    {
      "cell_type": "code",
      "source": [
        "Movie_Recommendation = difflib.get_close_matches(Favourite_Movie_Name, All_Movies_Title_List)\n",
        "print(Movie_Recommendation)"
      ],
      "metadata": {
        "colab": {
          "base_uri": "https://localhost:8080/"
        },
        "id": "usbRDE_KTwri",
        "outputId": "389cf66b-865c-4ce7-81c2-fb56f8878c18"
      },
      "execution_count": null,
      "outputs": [
        {
          "output_type": "stream",
          "name": "stdout",
          "text": [
            "['Avatar', 'Gattaca']\n"
          ]
        }
      ]
    },
    {
      "cell_type": "code",
      "source": [
        "Close_Match = Movie_Recommendation[0]\n",
        "print(Close_Match)"
      ],
      "metadata": {
        "colab": {
          "base_uri": "https://localhost:8080/"
        },
        "id": "vrCVWhHSUAWL",
        "outputId": "0b3f0e17-3cbb-4c53-8be1-36feb2e3832b"
      },
      "execution_count": null,
      "outputs": [
        {
          "output_type": "stream",
          "name": "stdout",
          "text": [
            "Avatar\n"
          ]
        }
      ]
    },
    {
      "cell_type": "code",
      "source": [
        "Index_of_Close_Match_Movie = df[df.Movie_Title == Close_Match]['Movie_ID'].values[0]\n",
        "print(Index_of_Close_Match_Movie)"
      ],
      "metadata": {
        "colab": {
          "base_uri": "https://localhost:8080/"
        },
        "id": "0v1-2LNxUH1A",
        "outputId": "c1285c15-dc51-4f0e-d1ff-b970fbf64348"
      },
      "execution_count": null,
      "outputs": [
        {
          "output_type": "stream",
          "name": "stdout",
          "text": [
            "2692\n"
          ]
        }
      ]
    },
    {
      "cell_type": "code",
      "source": [
        "Recommendation_Score = list(enumerate(Similarity_Score[Index_of_Close_Match_Movie]))\n",
        "print(Recommendation_Score)"
      ],
      "metadata": {
        "colab": {
          "base_uri": "https://localhost:8080/"
        },
        "id": "3lTu-jD4UtGH",
        "outputId": "837f86c2-1a83-4f54-91b9-c3773f108a43"
      },
      "execution_count": null,
      "outputs": [
        {
          "output_type": "stream",
          "name": "stdout",
          "text": [
            "[(0, 0.01656035121917087), (1, 0.0), (2, 0.0), (3, 0.014059536923952776), (4, 0.0), (5, 0.016936778804710714), (6, 0.0), (7, 0.018173302582000683), (8, 0.005889635611086197), (9, 0.011334563618557197), (10, 0.0), (11, 0.005986812607741623), (12, 0.005727963769469582), (13, 0.017318004388629814), (14, 0.0), (15, 0.0323879357560702), (16, 0.00416559780118615), (17, 0.0), (18, 0.0046952057507861755), (19, 0.01636766951280857), (20, 0.0), (21, 0.01900445558665654), (22, 0.011783704343057628), (23, 0.005475779686152341), (24, 0.0), (25, 0.03945273394264296), (26, 0.0), (27, 0.0), (28, 0.0), (29, 0.015292048439729951), (30, 0.0), (31, 0.004840775388965416), (32, 0.004451580461867604), (33, 0.02460253331420527), (34, 0.005467333017370143), (35, 0.010033186127765398), (36, 0.0), (37, 0.0), (38, 0.0), (39, 0.0), (40, 0.0), (41, 0.005864447890265605), (42, 0.0), (43, 0.019937254325118167), (44, 0.048967635791708604), (45, 0.0), (46, 0.019293132163191222), (47, 0.0), (48, 0.019191770157712645), (49, 0.0), (50, 0.0), (51, 0.01856246010271273), (52, 0.01808066944059397), (53, 0.0), (54, 0.0), (55, 0.0), (56, 0.011639036750547982), (57, 0.017716259285247282), (58, 0.0), (59, 0.0), (60, 0.014620027939864975), (61, 0.026129098701337877), (62, 0.09331074428328223), (63, 0.013031853617604505), (64, 0.0), (65, 0.0), (66, 0.0), (67, 0.02082570990843576), (68, 0.01920256766650406), (69, 0.04164723074224106), (70, 0.0), (71, 0.0053449887166778605), (72, 0.0), (73, 0.0), (74, 0.0052128943547903326), (75, 0.017964862791646486), (76, 0.0), (77, 0.0), (78, 0.0), (79, 0.01648023617942848), (80, 0.0), (81, 0.0), (82, 0.0), (83, 0.01285134659899821), (84, 0.03508545913464289), (85, 0.016252848563021755), (86, 0.018820642824503186), (87, 0.017098091934841117), (88, 0.01831063195076683), (89, 0.05015209185394598), (90, 0.0), (91, 0.0), (92, 0.004566554112843617), (93, 0.0), (94, 0.0), (95, 0.04413606031578466), (96, 0.004771011613042499), (97, 0.00459329727910635), (98, 0.0), (99, 0.0), (100, 0.0), (101, 0.0), (102, 0.0), (103, 0.004598966283407374), (104, 0.015962379504759056), (105, 0.011372585945762934), (106, 0.018059788190478904), (107, 0.006065482854676711), (108, 0.047381559241374716), (109, 0.02647773805370246), (110, 0.11372761373461292), (111, 0.004669011819347026), (112, 0.036407056223801956), (113, 0.013354904455113755), (114, 0.0051103131604248965), (115, 0.0), (116, 0.03132100401715601), (117, 0.0), (118, 0.0), (119, 0.017595134304352125), (120, 0.02041816575542939), (121, 0.004437551897738178), (122, 0.0), (123, 0.01355532371367782), (124, 0.03364347091351111), (125, 0.0), (126, 0.042301712279131265), (127, 0.004695131131189487), (128, 0.0), (129, 0.003352740649907957), (130, 0.010607411462243043), (131, 0.011508332242697568), (132, 0.0046176268154160685), (133, 0.0), (134, 0.0), (135, 0.0), (136, 0.005062931843168209), (137, 0.07078625589407127), (138, 0.03011698781801053), (139, 0.0), (140, 0.0), (141, 0.0), (142, 0.012959921309031504), (143, 0.0), (144, 0.011621510662821584), (145, 0.06356234569883477), (146, 0.0), (147, 0.01607847372643344), (148, 0.010354516039556146), (149, 0.014999681185904216), (150, 0.0), (151, 0.0), (152, 0.0), (153, 0.0), (154, 0.0), (155, 0.0), (156, 0.003962532098986828), (157, 0.0), (158, 0.0), (159, 0.008418939915981805), (160, 0.019768282757357786), (161, 0.05206345678029807), (162, 0.0), (163, 0.0), (164, 0.0), (165, 0.004235586602259721), (166, 0.044090737431966356), (167, 0.0), (168, 0.0), (169, 0.005064729600437188), (170, 0.011836032634960945), (171, 0.0), (172, 0.012289142730715168), (173, 0.0053158558462985785), (174, 0.04062286299178626), (175, 0.028164503920260296), (176, 0.03815080218863173), (177, 0.009123162713290079), (178, 0.005178144871707692), (179, 0.0), (180, 0.013660126537782383), (181, 0.012815302414358258), (182, 0.0), (183, 0.00452217336178769), (184, 0.004601233830406806), (185, 0.0474160835469709), (186, 0.0), (187, 0.0), (188, 0.0), (189, 0.0), (190, 0.0041750961457847355), (191, 0.0), (192, 0.005493514469828496), (193, 0.02959312463938852), (194, 0.004740404111605346), (195, 0.004290999680044796), (196, 0.0), (197, 0.004875712940790378), (198, 0.004974087202651133), (199, 0.015817168420743398), (200, 0.004869523820816342), (201, 0.012861145971786937), (202, 0.003113419289106923), (203, 0.018581038645074596), (204, 0.026663122642588372), (205, 0.0), (206, 0.005779122030608366), (207, 0.014061766801071317), (208, 0.006074695234067545), (209, 0.02322981873870556), (210, 0.051031064212030006), (211, 0.0), (212, 0.0), (213, 0.023265990534234907), (214, 0.0), (215, 0.004875572292185883), (216, 0.0054514919718322745), (217, 0.0), (218, 0.02208370158468956), (219, 0.0), (220, 0.0), (221, 0.004694884006910467), (222, 0.023133546820724472), (223, 0.0), (224, 0.003911067601432489), (225, 0.0), (226, 0.0), (227, 0.005785550965382619), (228, 0.0036097400877568935), (229, 0.0), (230, 0.0), (231, 0.012041678341871597), (232, 0.0), (233, 0.0), (234, 0.0), (235, 0.0), (236, 0.015143861772018017), (237, 0.0), (238, 0.005014337263186781), (239, 0.0), (240, 0.03212454779193635), (241, 0.0), (242, 0.004371322215100557), (243, 0.011631965687217452), (244, 0.013487790105685606), (245, 0.0), (246, 0.0), (247, 0.0), (248, 0.0), (249, 0.0), (250, 0.03802749933684241), (251, 0.02492816213263603), (252, 0.004904474102362161), (253, 0.0), (254, 0.08931940021891764), (255, 0.00534567341154911), (256, 0.003775270781965531), (257, 0.0), (258, 0.0), (259, 0.0), (260, 0.0), (261, 0.023527402411974662), (262, 0.0), (263, 0.010908020438704948), (264, 0.0), (265, 0.0), (266, 0.011650076500777304), (267, 0.004351674214553222), (268, 0.0), (269, 0.03248413267800695), (270, 0.017774452651999527), (271, 0.01236540679467756), (272, 0.0), (273, 0.011268637130622402), (274, 0.00582020100648975), (275, 0.0), (276, 0.017031791151663325), (277, 0.008997700658729707), (278, 0.0), (279, 0.0), (280, 0.01819927516360984), (281, 0.014785709646727697), (282, 0.038249783070081575), (283, 0.003334064724250002), (284, 0.031803762421355866), (285, 0.010780576806212699), (286, 0.00451825552176386), (287, 0.021661145764410437), (288, 0.008775498720384743), (289, 0.0), (290, 0.0), (291, 0.0), (292, 0.07587290841276184), (293, 0.0), (294, 0.0), (295, 0.0), (296, 0.02036321805782556), (297, 0.0), (298, 0.0), (299, 0.0), (300, 0.0), (301, 0.0), (302, 0.0), (303, 0.0), (304, 0.0), (305, 0.0), (306, 0.0), (307, 0.015002393413063642), (308, 0.0), (309, 0.012835451184844401), (310, 0.0), (311, 0.0), (312, 0.0), (313, 0.05585596520638749), (314, 0.0), (315, 0.0), (316, 0.0), (317, 0.0), (318, 0.005921503487272244), (319, 0.0), (320, 0.0), (321, 0.0), (322, 0.0), (323, 0.0), (324, 0.0), (325, 0.005067023417179187), (326, 0.006184293398359364), (327, 0.00981991145594222), (328, 0.011445698025402974), (329, 0.0), (330, 0.03242403102341929), (331, 0.0), (332, 0.015664572796585945), (333, 0.011487022826978237), (334, 0.029381702925461314), (335, 0.0), (336, 0.007824240763385547), (337, 0.0), (338, 0.0), (339, 0.0), (340, 0.0), (341, 0.0), (342, 0.01680530403335534), (343, 0.016737028701498367), (344, 0.0), (345, 0.02280412782653841), (346, 0.01187444484272986), (347, 0.0), (348, 0.005156310737567269), (349, 0.005128515543341782), (350, 0.005695428447040118), (351, 0.0037932117862536745), (352, 0.0), (353, 0.016657369739102226), (354, 0.00989816204077486), (355, 0.004556026603758566), (356, 0.015169824391589003), (357, 0.004452050652227778), (358, 0.01580425156069599), (359, 0.00514427163570346), (360, 0.012241574651161272), (361, 0.0), (362, 0.0), (363, 0.0), (364, 0.02522182451521192), (365, 0.0), (366, 0.0), (367, 0.0), (368, 0.013777009391280825), (369, 0.008791315072525008), (370, 0.018024571505648197), (371, 0.03248256816976771), (372, 0.0049780310977992), (373, 0.005019428022282776), (374, 0.015460175207581486), (375, 0.0), (376, 0.0), (377, 0.0), (378, 0.0), (379, 0.0), (380, 0.0), (381, 0.0), (382, 0.0), (383, 0.029036415308565995), (384, 0.03608215348084133), (385, 0.013365823197832943), (386, 0.0), (387, 0.00580803343012057), (388, 0.004560921076539767), (389, 0.0), (390, 0.0), (391, 0.0), (392, 0.0), (393, 0.0), (394, 0.0), (395, 0.0), (396, 0.010892450347085799), (397, 0.0), (398, 0.03180476106145658), (399, 0.0), (400, 0.004950854952413269), (401, 0.0), (402, 0.0), (403, 0.014314157087849968), (404, 0.0), (405, 0.0), (406, 0.0051919431686023474), (407, 0.012334186138649322), (408, 0.06887064561964235), (409, 0.02369838239763129), (410, 0.005018000627075555), (411, 0.0), (412, 0.058717621873368965), (413, 0.011748939585606369), (414, 0.008074241518585656), (415, 0.0), (416, 0.00498229007568501), (417, 0.0), (418, 0.012413123863783878), (419, 0.0059250779124773055), (420, 0.0), (421, 0.048528374755727646), (422, 0.0), (423, 0.0), (424, 0.03514260897148057), (425, 0.0), (426, 0.0), (427, 0.0), (428, 0.014582882578060083), (429, 0.017097499377181604), (430, 0.04150765003468708), (431, 0.005960841548091115), (432, 0.0), (433, 0.003959485315681658), (434, 0.015086781090516546), (435, 0.009627924843396148), (436, 0.005791846673480514), (437, 0.005263747682695791), (438, 0.05509628639727565), (439, 0.0), (440, 0.0), (441, 0.013263491041051068), (442, 0.02552468744512847), (443, 0.005597934601440444), (444, 0.0), (445, 0.0), (446, 0.0), (447, 0.011906509263014627), (448, 0.0061285893686865945), (449, 0.0), (450, 0.017657366944117472), (451, 0.0), (452, 0.021072493185773273), (453, 0.0039359192516331114), (454, 0.0), (455, 0.022540376958657512), (456, 0.005148940756410474), (457, 0.004345906503535847), (458, 0.017480162608354957), (459, 0.03553252032498698), (460, 0.0), (461, 0.0), (462, 0.0), (463, 0.015095477514651054), (464, 0.004879948340618581), (465, 0.035155325540023846), (466, 0.0), (467, 0.0), (468, 0.0), (469, 0.0), (470, 0.005235440471788679), (471, 0.004746586889518745), (472, 0.0053913788764687765), (473, 0.0), (474, 0.0), (475, 0.005070042082978732), (476, 0.0), (477, 0.008623284898278424), (478, 0.0), (479, 0.05800814586630893), (480, 0.004273120714780415), (481, 0.00518228669349453), (482, 0.005944416150503056), (483, 0.012005100757823763), (484, 0.0), (485, 0.012626702269835541), (486, 0.0), (487, 0.0), (488, 0.0052107010242502), (489, 0.0), (490, 0.004713796351037957), (491, 0.0), (492, 0.0), (493, 0.005494459083377843), (494, 0.011794796261777998), (495, 0.004307820595005952), (496, 0.013956148460277887), (497, 0.0), (498, 0.0), (499, 0.0), (500, 0.010840194533689262), (501, 0.010230452145324585), (502, 0.018532583356840257), (503, 0.0), (504, 0.0052771879707777395), (505, 0.0), (506, 0.0), (507, 0.0), (508, 0.0), (509, 0.005402875449077632), (510, 0.01848209132837754), (511, 0.0), (512, 0.0), (513, 0.0), (514, 0.0), (515, 0.03684317137128168), (516, 0.0), (517, 0.0), (518, 0.0), (519, 0.05488569083556892), (520, 0.0), (521, 0.010748685837381252), (522, 0.004835478733328425), (523, 0.011140492392451377), (524, 0.0), (525, 0.0), (526, 0.0), (527, 0.00863004527960912), (528, 0.0), (529, 0.0), (530, 0.033810731773732845), (531, 0.0), (532, 0.0), (533, 0.020128825515566377), (534, 0.018519464004059703), (535, 0.0), (536, 0.0), (537, 0.0), (538, 0.0), (539, 0.0), (540, 0.040306740826338776), (541, 0.0), (542, 0.01141900508037684), (543, 0.019329578705499662), (544, 0.012754019490730626), (545, 0.01799731869258874), (546, 0.0), (547, 0.013639067561546744), (548, 0.0), (549, 0.0), (550, 0.0), (551, 0.017159952005693875), (552, 0.0), (553, 0.027858444579440294), (554, 0.0), (555, 0.017307413194000056), (556, 0.0), (557, 0.0), (558, 0.0042922766640030325), (559, 0.0), (560, 0.0), (561, 0.007439774766517287), (562, 0.003842008130456896), (563, 0.004341625532766659), (564, 0.006026315481356105), (565, 0.0), (566, 0.03405653780267892), (567, 0.0), (568, 0.010629305858034354), (569, 0.0), (570, 0.0), (571, 0.003925453571255803), (572, 0.0), (573, 0.0), (574, 0.0), (575, 0.0), (576, 0.006108409636247941), (577, 0.0), (578, 0.04866936848053717), (579, 0.004970168394332393), (580, 0.005279627747798237), (581, 0.0), (582, 0.0), (583, 0.009951872193486064), (584, 0.017287126458030225), (585, 0.0), (586, 0.02148494873694286), (587, 0.005386217017574332), (588, 0.005438324524170404), (589, 0.004423864044898332), (590, 0.026420379226265583), (591, 0.0), (592, 0.0), (593, 0.0), (594, 0.005057561603874456), (595, 0.0), (596, 0.006356184567010168), (597, 0.009678612214788128), (598, 0.005210532741957354), (599, 0.0), (600, 0.0), (601, 0.0), (602, 0.0), (603, 0.0), (604, 0.004944562117018921), (605, 0.004368217564679182), (606, 0.005083009385970305), (607, 0.00377044143848176), (608, 0.004663716528324136), (609, 0.020816894262954397), (610, 0.0), (611, 0.004325851443165994), (612, 0.005015913156944044), (613, 0.020107989519031918), (614, 0.006049600511320367), (615, 0.05372415113328279), (616, 0.004010725916220095), (617, 0.004466597419229349), (618, 0.037759403462854065), (619, 0.0), (620, 0.011445289885795868), (621, 0.0), (622, 0.017456068239895695), (623, 0.005272848453328396), (624, 0.0), (625, 0.0), (626, 0.004002081674404676), (627, 0.00805399788793423), (628, 0.005842197924186445), (629, 0.03732602277151252), (630, 0.0), (631, 0.0115322751513878), (632, 0.04598442373570028), (633, 0.0), (634, 0.0), (635, 0.01193784655738279), (636, 0.005601300565205297), (637, 0.0525243985709232), (638, 0.02262671588423034), (639, 0.0), (640, 0.0), (641, 0.003584781376877215), (642, 0.0425647244797962), (643, 0.025098100058600657), (644, 0.0048172100983869945), (645, 0.0), (646, 0.0), (647, 0.0), (648, 0.0), (649, 0.0), (650, 0.0), (651, 0.004824482647278096), (652, 0.0054137621434715115), (653, 0.015544209141767696), (654, 0.012615601352667209), (655, 0.0045408841147932845), (656, 0.0), (657, 0.024827730358486812), (658, 0.0), (659, 0.00465182122553437), (660, 0.004950652890721826), (661, 0.0), (662, 0.0), (663, 0.0), (664, 0.010145846364254451), (665, 0.0), (666, 0.0), (667, 0.01396791239212222), (668, 0.010234607354001042), (669, 0.02581644885941029), (670, 0.07345718861511531), (671, 0.0), (672, 0.032195310027193745), (673, 0.005229529906987246), (674, 0.0), (675, 0.012802694750051816), (676, 0.01572844489965313), (677, 0.02352928211639419), (678, 0.0), (679, 0.0), (680, 0.0), (681, 0.0), (682, 0.04885851645687708), (683, 0.013429213771720835), (684, 0.020292349760228548), (685, 0.0), (686, 0.0), (687, 0.0), (688, 0.005819401209715152), (689, 0.005035487972563869), (690, 0.0), (691, 0.028434175486982058), (692, 0.009941747529085818), (693, 0.004979206515421542), (694, 0.0), (695, 0.010728679262634721), (696, 0.004815126089578689), (697, 0.005569837109843722), (698, 0.004995382227734316), (699, 0.0), (700, 0.0), (701, 0.01907361230710102), (702, 0.0), (703, 0.004851929892388019), (704, 0.0), (705, 0.004954434233196619), (706, 0.0), (707, 0.004396282631734259), (708, 0.0), (709, 0.0), (710, 0.0), (711, 0.0), (712, 0.005151686237126146), (713, 0.0), (714, 0.0), (715, 0.0), (716, 0.005459213765610341), (717, 0.0), (718, 0.0), (719, 0.012235373498815753), (720, 0.0), (721, 0.005662582053087299), (722, 0.004557108206306297), (723, 0.0), (724, 0.0), (725, 0.0), (726, 0.0), (727, 0.0049782550761270795), (728, 0.0052751916360596176), (729, 0.005541097225622336), (730, 0.0), (731, 0.0), (732, 0.013846031946815995), (733, 0.014611426635075635), (734, 0.015612015089736992), (735, 0.0063874827057132134), (736, 0.0), (737, 0.0), (738, 0.0), (739, 0.0057827430304920584), (740, 0.0), (741, 0.0), (742, 0.005107194823482932), (743, 0.005135401958634845), (744, 0.004653228716407946), (745, 0.0), (746, 0.0), (747, 0.0), (748, 0.011472179360055547), (749, 0.0050645872732412965), (750, 0.00478703375216528), (751, 0.0), (752, 0.012089443385150347), (753, 0.013507062735131756), (754, 0.0), (755, 0.005756958063369739), (756, 0.0), (757, 0.02555552144788338), (758, 0.0), (759, 0.0), (760, 0.013248345698753593), (761, 0.005046255950521249), (762, 0.018397791841860966), (763, 0.019345458866140287), (764, 0.0), (765, 0.0), (766, 0.0), (767, 0.0), (768, 0.02406809863883348), (769, 0.005175009610066997), (770, 0.0), (771, 0.0), (772, 0.0), (773, 0.0), (774, 0.04924501441304076), (775, 0.01623434869987739), (776, 0.021399580699617046), (777, 0.0), (778, 0.011645103911258132), (779, 0.01933866342113902), (780, 0.0), (781, 0.0), (782, 0.011772927083396643), (783, 0.004840332131860603), (784, 0.0), (785, 0.0), (786, 0.0), (787, 0.020846873452793246), (788, 0.05100901679988136), (789, 0.0), (790, 0.012127256124049945), (791, 0.0), (792, 0.005430915260827364), (793, 0.0), (794, 0.0053417997405429424), (795, 0.02417164834032221), (796, 0.02370001604021468), (797, 0.0), (798, 0.004870657794236013), (799, 0.017101132656136404), (800, 0.00440153680957541), (801, 0.011184485746910756), (802, 0.0), (803, 0.0), (804, 0.004396234853041885), (805, 0.0), (806, 0.015988159942477626), (807, 0.0), (808, 0.02238697725539554), (809, 0.0), (810, 0.0), (811, 0.0), (812, 0.045812590039969424), (813, 0.005555386809657102), (814, 0.0), (815, 0.004593832851973964), (816, 0.014595111647531491), (817, 0.0), (818, 0.04832403221595759), (819, 0.0), (820, 0.0), (821, 0.0), (822, 0.0), (823, 0.0), (824, 0.03444836609613588), (825, 0.0), (826, 0.0053339347304900255), (827, 0.011179997588205329), (828, 0.013031398480982748), (829, 0.013513023651321433), (830, 0.005218002912512937), (831, 0.0034739823073291812), (832, 0.027649955589396317), (833, 0.02139370994434759), (834, 0.010549757903531999), (835, 0.010713621869160842), (836, 0.0), (837, 0.0), (838, 0.004863368197209517), (839, 0.0), (840, 0.0), (841, 0.0), (842, 0.014659439226978035), (843, 0.004196061715713226), (844, 0.01776554319280331), (845, 0.0), (846, 0.0), (847, 0.017585005249199464), (848, 0.0), (849, 0.0), (850, 0.016291451728697177), (851, 0.004647800957085815), (852, 0.00512168138228593), (853, 0.016507357493635348), (854, 0.005125884051563868), (855, 0.0), (856, 0.004570400612673223), (857, 0.005568695540364264), (858, 0.026999115712322587), (859, 0.0), (860, 0.02082928295676992), (861, 0.003799043011014532), (862, 0.0), (863, 0.0), (864, 0.02756629913955636), (865, 0.005458130876985783), (866, 0.016299073920679304), (867, 0.005112161284101179), (868, 0.0), (869, 0.011459452649321567), (870, 0.027337582091578303), (871, 0.0054114834810862905), (872, 0.00548957897914299), (873, 0.023697889963014675), (874, 0.010465578249592544), (875, 0.0), (876, 0.0063399624825169025), (877, 0.06314578067639273), (878, 0.015989282269042185), (879, 0.01739948141960776), (880, 0.004755885664581096), (881, 0.0), (882, 0.0), (883, 0.0), (884, 0.0), (885, 0.02995145795503684), (886, 0.004939658949787886), (887, 0.0), (888, 0.004652476076783619), (889, 0.0), (890, 0.0), (891, 0.0), (892, 0.0), (893, 0.0), (894, 0.005253934264752898), (895, 0.021664946804609977), (896, 0.018200687468851746), (897, 0.016639648613042037), (898, 0.0), (899, 0.010658499213632364), (900, 0.004888685972332006), (901, 0.0), (902, 0.0), (903, 0.041633695015408964), (904, 0.0521810253332787), (905, 0.011986565860615514), (906, 0.0), (907, 0.0049089241335390854), (908, 0.012283744913565669), (909, 0.0), (910, 0.004216724263524027), (911, 0.036243854181551446), (912, 0.0), (913, 0.0), (914, 0.0), (915, 0.010697508355298294), (916, 0.021392961790320228), (917, 0.030455549302737594), (918, 0.011955933927324634), (919, 0.0), (920, 0.0), (921, 0.011235788631006752), (922, 0.0), (923, 0.004790945960354348), (924, 0.004382695160858317), (925, 0.005416402271300112), (926, 0.0), (927, 0.0), (928, 0.0), (929, 0.021380776877474472), (930, 0.005099591208538351), (931, 0.012897191285163943), (932, 0.0), (933, 0.0), (934, 0.02452777480240953), (935, 0.0), (936, 0.014449862922119337), (937, 0.021502307226233464), (938, 0.0), (939, 0.010322122234277782), (940, 0.011393075360465103), (941, 0.0), (942, 0.029542240394410817), (943, 0.0), (944, 0.004978905685471228), (945, 0.0), (946, 0.0), (947, 0.02116148786279211), (948, 0.013818944377686295), (949, 0.0), (950, 0.0), (951, 0.004506221738594619), (952, 0.07669981088171955), (953, 0.003911579941163884), (954, 0.0), (955, 0.0), (956, 0.0), (957, 0.02287320741888298), (958, 0.0), (959, 0.004768557723114992), (960, 0.0), (961, 0.0), (962, 0.014886058864153577), (963, 0.004918447422673384), (964, 0.0), (965, 0.0), (966, 0.005374441096380992), (967, 0.024993229128557604), (968, 0.02278250253718637), (969, 0.004963700229378854), (970, 0.010926091620612314), (971, 0.0), (972, 0.0), (973, 0.0), (974, 0.0), (975, 0.004667575502652895), (976, 0.03545772039401854), (977, 0.0), (978, 0.0), (979, 0.0), (980, 0.00527214131161478), (981, 0.004190536236191549), (982, 0.0), (983, 0.0), (984, 0.0), (985, 0.005735966047374279), (986, 0.016872664933724725), (987, 0.0), (988, 0.016480810234113952), (989, 0.018663751088162657), (990, 0.0), (991, 0.0048085847327833135), (992, 0.0), (993, 0.0), (994, 0.012990668129988312), (995, 0.0), (996, 0.0), (997, 0.0), (998, 0.006075099299304775), (999, 0.006195251348025369), (1000, 0.017369236001706485), (1001, 0.0049641913532934585), (1002, 0.004972388214897487), (1003, 0.022341692906631346), (1004, 0.0), (1005, 0.0131062058944901), (1006, 0.005710231593469897), (1007, 0.005178105439190448), (1008, 0.0), (1009, 0.005215311668931322), (1010, 0.0), (1011, 0.0), (1012, 0.05337890178443233), (1013, 0.0), (1014, 0.0), (1015, 0.016349599671021363), (1016, 0.0), (1017, 0.004970578539924741), (1018, 0.01050592935775145), (1019, 0.0), (1020, 0.005519892959479906), (1021, 0.08855020851603916), (1022, 0.0), (1023, 0.01605696539871637), (1024, 0.04857526630970172), (1025, 0.0), (1026, 0.004832213629097007), (1027, 0.0050426320141786106), (1028, 0.0), (1029, 0.0), (1030, 0.062259914283821036), (1031, 0.0), (1032, 0.0), (1033, 0.030775056718862066), (1034, 0.005376335939438955), (1035, 0.01647665022788818), (1036, 0.0), (1037, 0.0), (1038, 0.0), (1039, 0.0), (1040, 0.004341824746441443), (1041, 0.004846839325732477), (1042, 0.0), (1043, 0.037226383513914676), (1044, 0.005225774058967993), (1045, 0.021775948360007957), (1046, 0.03594157958307094), (1047, 0.0), (1048, 0.0), (1049, 0.0058574586428050985), (1050, 0.01610603238245108), (1051, 0.0), (1052, 0.026350371521375666), (1053, 0.02181364253452894), (1054, 0.0), (1055, 0.0), (1056, 0.0), (1057, 0.0), (1058, 0.013380846233986655), (1059, 0.03238210353313939), (1060, 0.005122764977214646), (1061, 0.010790065910589895), (1062, 0.0), (1063, 0.042676518717440076), (1064, 0.020841247355845253), (1065, 0.004582508184473225), (1066, 0.0), (1067, 0.0), (1068, 0.03338576750266886), (1069, 0.0), (1070, 0.0), (1071, 0.0048244433753342735), (1072, 0.0), (1073, 0.0), (1074, 0.023208199679792214), (1075, 0.005196571907159938), (1076, 0.0), (1077, 0.005857696156830276), (1078, 0.004672881569533195), (1079, 0.005026235782976992), (1080, 0.004505560974420053), (1081, 0.0), (1082, 0.0), (1083, 0.005640332254603438), (1084, 0.005017459205315765), (1085, 0.051805783594968284), (1086, 0.0), (1087, 0.011359595309101677), (1088, 0.003820738485662969), (1089, 0.0), (1090, 0.018753314942215406), (1091, 0.0), (1092, 0.0), (1093, 0.0), (1094, 0.0), (1095, 0.04080795110901682), (1096, 0.0), (1097, 0.0), (1098, 0.0), (1099, 0.0), (1100, 0.0), (1101, 0.0), (1102, 0.0050248185354483275), (1103, 0.0), (1104, 0.0), (1105, 0.0), (1106, 0.0), (1107, 0.004769004922293688), (1108, 0.0), (1109, 0.005598767721545773), (1110, 0.0), (1111, 0.011261382145350024), (1112, 0.020507137743601214), (1113, 0.0), (1114, 0.010527923510945765), (1115, 0.0), (1116, 0.013060909057617141), (1117, 0.0), (1118, 0.046033982450542535), (1119, 0.019964509745416328), (1120, 0.0), (1121, 0.0), (1122, 0.005300712261315786), (1123, 0.005342580466047809), (1124, 0.0115304319113699), (1125, 0.01184814285674717), (1126, 0.0), (1127, 0.0), (1128, 0.012677765433922442), (1129, 0.0217276026518873), (1130, 0.0), (1131, 0.005374444546120541), (1132, 0.026944308597961063), (1133, 0.0), (1134, 0.07214679520319169), (1135, 0.0), (1136, 0.015824626722325506), (1137, 0.0247564167487329), (1138, 0.0047994332919733505), (1139, 0.0), (1140, 0.005476635337735132), (1141, 0.01844433087579883), (1142, 0.0), (1143, 0.0), (1144, 0.008574322308289088), (1145, 0.0), (1146, 0.04380681503873574), (1147, 0.0), (1148, 0.014433642475861288), (1149, 0.0), (1150, 0.0), (1151, 0.0), (1152, 0.018183339161979895), (1153, 0.0), (1154, 0.0), (1155, 0.0), (1156, 0.0), (1157, 0.010598307483429147), (1158, 0.0), (1159, 0.0), (1160, 0.017329730099036832), (1161, 0.004998029499366395), (1162, 0.0), (1163, 0.00519206412225229), (1164, 0.0), (1165, 0.0), (1166, 0.0), (1167, 0.0), (1168, 0.0), (1169, 0.0), (1170, 0.0050480193868826925), (1171, 0.0), (1172, 0.0), (1173, 0.029857502289605542), (1174, 0.0), (1175, 0.02483747786424724), (1176, 0.005408716350595944), (1177, 0.004853640491019732), (1178, 0.0), (1179, 0.0050236148869843315), (1180, 0.0), (1181, 0.0), (1182, 0.005993622497667899), (1183, 0.015784178749905026), (1184, 0.02003481544499465), (1185, 0.014114557913496428), (1186, 0.03631055809835483), (1187, 0.006042570183053825), (1188, 0.0053838586156906044), (1189, 0.0), (1190, 0.0), (1191, 0.0049827489054913255), (1192, 0.015864579741214416), (1193, 0.0), (1194, 0.011055382025829131), (1195, 0.03550845215922573), (1196, 0.0), (1197, 0.0), (1198, 0.0), (1199, 0.004621922483686234), (1200, 0.0), (1201, 0.0), (1202, 0.023470449932723375), (1203, 0.0), (1204, 0.0), (1205, 0.0), (1206, 0.0157285559617776), (1207, 0.0), (1208, 0.005611095663001181), (1209, 0.004633050718789885), (1210, 0.0), (1211, 0.0), (1212, 0.0), (1213, 0.0), (1214, 0.0), (1215, 0.014004591447736178), (1216, 0.022606408071701778), (1217, 0.0048810514958566985), (1218, 0.0), (1219, 0.004246932475483842), (1220, 0.017378829821954427), (1221, 0.0), (1222, 0.0), (1223, 0.0051849981364937795), (1224, 0.017493234591041237), (1225, 0.005501753381023263), (1226, 0.0), (1227, 0.0), (1228, 0.0), (1229, 0.005175066879741501), (1230, 0.013174526888067467), (1231, 0.011161333488319757), (1232, 0.017778706424910494), (1233, 0.0), (1234, 0.012555490950156834), (1235, 0.0), (1236, 0.010398040605054176), (1237, 0.04966291576532511), (1238, 0.011072806863806215), (1239, 0.011217405667729956), (1240, 0.0), (1241, 0.052661307769413364), (1242, 0.0), (1243, 0.0717994395740216), (1244, 0.0), (1245, 0.025758735535134008), (1246, 0.0), (1247, 0.00486575791356), (1248, 0.053974943231110226), (1249, 0.01978173900091221), (1250, 0.011186955619851693), (1251, 0.004251284619411329), (1252, 0.01773886258727067), (1253, 0.0), (1254, 0.021634698732644078), (1255, 0.004577332903255959), (1256, 0.0), (1257, 0.02491502306141162), (1258, 0.0), (1259, 0.0), (1260, 0.0), (1261, 0.02820532839521137), (1262, 0.0), (1263, 0.0), (1264, 0.005825419101610875), (1265, 0.0), (1266, 0.012292452982710088), (1267, 0.009665171165973277), (1268, 0.0), (1269, 0.0), (1270, 0.022016794930234233), (1271, 0.0), (1272, 0.04061887630483344), (1273, 0.005187797556548262), (1274, 0.023241764779556022), (1275, 0.01994055099533836), (1276, 0.009299602092718719), (1277, 0.0), (1278, 0.022779678245023572), (1279, 0.008750295478301705), (1280, 0.0), (1281, 0.0), (1282, 0.0), (1283, 0.03428494375667288), (1284, 0.0), (1285, 0.0), (1286, 0.0050927452805053265), (1287, 0.0), (1288, 0.0), (1289, 0.0), (1290, 0.014992291969318266), (1291, 0.0), (1292, 0.05405229957110788), (1293, 0.0), (1294, 0.0), (1295, 0.0), (1296, 0.0), (1297, 0.0), (1298, 0.0), (1299, 0.0), (1300, 0.046754114379292576), (1301, 0.0), (1302, 0.0), (1303, 0.0042919002537433045), (1304, 0.0), (1305, 0.004205327871700177), (1306, 0.010971170750386332), (1307, 0.011354711446193384), (1308, 0.005087609090450742), (1309, 0.0), (1310, 0.010892967333899568), (1311, 0.0), (1312, 0.0), (1313, 0.005233847062617723), (1314, 0.02979813976358606), (1315, 0.0), (1316, 0.009712513740522738), (1317, 0.01763475125847276), (1318, 0.004305183769643124), (1319, 0.0), (1320, 0.009361334453878021), (1321, 0.0), (1322, 0.0), (1323, 0.0), (1324, 0.00534647058735995), (1325, 0.005112289992086855), (1326, 0.0), (1327, 0.010047722419700913), (1328, 0.0), (1329, 0.0103274093302417), (1330, 0.0), (1331, 0.020951105034625293), (1332, 0.0), (1333, 0.0), (1334, 0.017243064112339626), (1335, 0.004841288215475682), (1336, 0.0), (1337, 0.057881650692282724), (1338, 0.005030795826526092), (1339, 0.012556591184142735), (1340, 0.005013935456173838), (1341, 0.10071211403580205), (1342, 0.017773000071777366), (1343, 0.013973431175749609), (1344, 0.0), (1345, 0.0), (1346, 0.0), (1347, 0.0), (1348, 0.01101701387272), (1349, 0.005925782122359051), (1350, 0.005523985569548288), (1351, 0.027828403205854738), (1352, 0.004977779971930445), (1353, 0.0), (1354, 0.0), (1355, 0.0), (1356, 0.004238161967716733), (1357, 0.004421580414395767), (1358, 0.056670351102055136), (1359, 0.0), (1360, 0.015691911687271496), (1361, 0.021269558120226198), (1362, 0.0), (1363, 0.0), (1364, 0.005637522317099932), (1365, 0.023944825179488323), (1366, 0.0), (1367, 0.03904230909458527), (1368, 0.0), (1369, 0.04433825426605561), (1370, 0.004454933099061971), (1371, 0.0108822347716829), (1372, 0.0048494501319867305), (1373, 0.0), (1374, 0.010937106076469213), (1375, 0.004864018419241077), (1376, 0.0), (1377, 0.02585617891542477), (1378, 0.005006832983370988), (1379, 0.044966174264302335), (1380, 0.0), (1381, 0.0), (1382, 0.0173694032288099), (1383, 0.046195570141528), (1384, 0.01744758303227011), (1385, 0.01676625872990465), (1386, 0.023397006444178924), (1387, 0.014404109669014238), (1388, 0.0), (1389, 0.04929561926688019), (1390, 0.0), (1391, 0.0), (1392, 0.0), (1393, 0.04920229125106263), (1394, 0.00454175523796024), (1395, 0.0), (1396, 0.011350242857131291), (1397, 0.027986602780883264), (1398, 0.03875341899850311), (1399, 0.0), (1400, 0.005338514649946259), (1401, 0.022825429737694622), (1402, 0.0), (1403, 0.02943490707876524), (1404, 0.0), (1405, 0.03817020534911969), (1406, 0.012262962340919368), (1407, 0.0), (1408, 0.00502681997599809), (1409, 0.0), (1410, 0.0048343612792506865), (1411, 0.0), (1412, 0.029815407146700446), (1413, 0.01718552535236623), (1414, 0.004734003463538401), (1415, 0.004178194376078818), (1416, 0.0), (1417, 0.020646341850659618), (1418, 0.020946397134284988), (1419, 0.012158435520350869), (1420, 0.01036380412779533), (1421, 0.0051609260564735955), (1422, 0.005688389935702114), (1423, 0.0044404785579878914), (1424, 0.0), (1425, 0.011213150162274603), (1426, 0.0), (1427, 0.0052540811602902774), (1428, 0.0), (1429, 0.006094483007039791), (1430, 0.0), (1431, 0.04063315923662329), (1432, 0.01314850059399669), (1433, 0.0), (1434, 0.0), (1435, 0.0), (1436, 0.01254011280780166), (1437, 0.0), (1438, 0.0047901923859237265), (1439, 0.0), (1440, 0.01238024402181531), (1441, 0.0), (1442, 0.0047373429660507805), (1443, 0.022041682401017268), (1444, 0.0), (1445, 0.02092255749449413), (1446, 0.004880759634907193), (1447, 0.0), (1448, 0.005388448637509808), (1449, 0.0), (1450, 0.0), (1451, 0.0), (1452, 0.0), (1453, 0.00923151559333551), (1454, 0.005358851356863821), (1455, 0.012876829865174955), (1456, 0.0), (1457, 0.0), (1458, 0.0), (1459, 0.0), (1460, 0.0), (1461, 0.0), (1462, 0.004701592675578812), (1463, 0.005071960570003115), (1464, 0.04012586460221898), (1465, 0.010047342860285942), (1466, 0.0), (1467, 0.0), (1468, 0.0), (1469, 0.0), (1470, 0.0), (1471, 0.028892102786131177), (1472, 0.004837134365467105), (1473, 0.0), (1474, 0.005841110770566792), (1475, 0.005245390663304161), (1476, 0.005095641702046023), (1477, 0.004955532917921978), (1478, 0.00457325758117657), (1479, 0.0), (1480, 0.0), (1481, 0.004734644886555911), (1482, 0.04218447151455042), (1483, 0.004816014984714279), (1484, 0.0), (1485, 0.0), (1486, 0.011578201567409135), (1487, 0.0), (1488, 0.005436097403171687), (1489, 0.005634893312808451), (1490, 0.0), (1491, 0.0), (1492, 0.03182557467959006), (1493, 0.0), (1494, 0.010786098590724267), (1495, 0.0), (1496, 0.0), (1497, 0.0), (1498, 0.00560432794609124), (1499, 0.0), (1500, 0.03511484916723194), (1501, 0.01123894715192436), (1502, 0.0), (1503, 0.00442726258641232), (1504, 0.0), (1505, 0.03077889456897322), (1506, 0.05464721742838145), (1507, 0.0), (1508, 0.0), (1509, 0.0032740332171778993), (1510, 0.025476847328909712), (1511, 0.0), (1512, 0.02113674049512007), (1513, 0.005924608586959917), (1514, 0.016545998290044876), (1515, 0.030645776366881712), (1516, 0.0), (1517, 0.0), (1518, 0.0052425897580906915), (1519, 0.004904337711829346), (1520, 0.0), (1521, 0.0), (1522, 0.0), (1523, 0.021735857574870572), (1524, 0.0), (1525, 0.0), (1526, 0.010475764472701907), (1527, 0.05077855876355333), (1528, 0.0), (1529, 0.0), (1530, 0.0), (1531, 0.0), (1532, 0.0), (1533, 0.004745061341219343), (1534, 0.0), (1535, 0.0), (1536, 0.0), (1537, 0.005585579369554039), (1538, 0.011871110445427883), (1539, 0.014326935560070832), (1540, 0.0), (1541, 0.0), (1542, 0.011678545171668974), (1543, 0.0043694692471261225), (1544, 0.034468089169996004), (1545, 0.0), (1546, 0.0), (1547, 0.0060465900538295035), (1548, 0.0), (1549, 0.0), (1550, 0.0), (1551, 0.0), (1552, 0.0), (1553, 0.0), (1554, 0.0), (1555, 0.0), (1556, 0.0), (1557, 0.0), (1558, 0.005297109928423283), (1559, 0.0), (1560, 0.0), (1561, 0.0), (1562, 0.0), (1563, 0.0), (1564, 0.0), (1565, 0.004558202887352166), (1566, 0.0), (1567, 0.00923958342632264), (1568, 0.03845988161020286), (1569, 0.0), (1570, 0.005454107265985908), (1571, 0.009416244772477083), (1572, 0.013730290810957675), (1573, 0.0), (1574, 0.0), (1575, 0.0), (1576, 0.0), (1577, 0.0), (1578, 0.0), (1579, 0.02254239839589374), (1580, 0.0), (1581, 0.0), (1582, 0.00484502747814706), (1583, 0.011592653841289297), (1584, 0.0), (1585, 0.03446694309512041), (1586, 0.0), (1587, 0.0), (1588, 0.0), (1589, 0.0), (1590, 0.0), (1591, 0.013689863996466685), (1592, 0.0), (1593, 0.0), (1594, 0.0), (1595, 0.015836199737216505), (1596, 0.0), (1597, 0.0047660330457195066), (1598, 0.005044503132907495), (1599, 0.0), (1600, 0.0), (1601, 0.0), (1602, 0.0), (1603, 0.0), (1604, 0.0), (1605, 0.005003984893926187), (1606, 0.0), (1607, 0.0), (1608, 0.004735471966234459), (1609, 0.021186076338514662), (1610, 0.0), (1611, 0.0), (1612, 0.012377976326076375), (1613, 0.0), (1614, 0.0), (1615, 0.0), (1616, 0.004284560768731735), (1617, 0.0), (1618, 0.0), (1619, 0.016299866539091625), (1620, 0.004987107478632297), (1621, 0.017018214567244394), (1622, 0.0), (1623, 0.0), (1624, 0.004559900467695529), (1625, 0.0), (1626, 0.0), (1627, 0.004707540729095866), (1628, 0.0050275412699940115), (1629, 0.029197805524306376), (1630, 0.011966176634832798), (1631, 0.0), (1632, 0.0), (1633, 0.0), (1634, 0.004917890267867184), (1635, 0.0), (1636, 0.0), (1637, 0.0), (1638, 0.0), (1639, 0.0), (1640, 0.0), (1641, 0.0), (1642, 0.0), (1643, 0.005589126176669869), (1644, 0.0), (1645, 0.005197791524712223), (1646, 0.0), (1647, 0.05006755364717809), (1648, 0.03944370681044955), (1649, 0.0), (1650, 0.009495043550107857), (1651, 0.0), (1652, 0.02871396894680218), (1653, 0.005406503205479559), (1654, 0.011025984027697574), (1655, 0.005754707362909365), (1656, 0.0), (1657, 0.0), (1658, 0.006206143180612263), (1659, 0.0), (1660, 0.0), (1661, 0.0), (1662, 0.009959037646761435), (1663, 0.0), (1664, 0.0), (1665, 0.016767436761128816), (1666, 0.004631190476766383), (1667, 0.004899644980111847), (1668, 0.0), (1669, 0.0), (1670, 0.0), (1671, 0.030236408806577526), (1672, 0.0), (1673, 0.0), (1674, 0.014426518452331494), (1675, 0.04812353479002999), (1676, 0.050416817844359196), (1677, 0.004085297844003981), (1678, 0.016629486037186603), (1679, 0.0), (1680, 0.011663799329673274), (1681, 0.0), (1682, 0.024521335994497614), (1683, 0.0), (1684, 0.010138691619231727), (1685, 0.005656783180345806), (1686, 0.0), (1687, 0.005651995759696665), (1688, 0.011656022261727792), (1689, 0.0), (1690, 0.004734589295214086), (1691, 0.0), (1692, 0.010747328128470896), (1693, 0.005275331678182373), (1694, 0.010849192987386314), (1695, 0.0), (1696, 0.0), (1697, 0.0), (1698, 0.0), (1699, 0.0), (1700, 0.0), (1701, 0.008383472631301788), (1702, 0.04612193320743855), (1703, 0.005570237698109503), (1704, 0.0), (1705, 0.013591370694781134), (1706, 0.005131202933278246), (1707, 0.02427853526623469), (1708, 0.0), (1709, 0.0), (1710, 0.016107859379827064), (1711, 0.006304489120422519), (1712, 0.0), (1713, 0.0), (1714, 0.010087333505757884), (1715, 0.009740740786942767), (1716, 0.01864430603308417), (1717, 0.004957881633093503), (1718, 0.011483635735808085), (1719, 0.004405828441381381), (1720, 0.035480852877990965), (1721, 0.011011342335938812), (1722, 0.005086065399882499), (1723, 0.009973920523392143), (1724, 0.0), (1725, 0.0), (1726, 0.0), (1727, 0.012667202436412596), (1728, 0.0), (1729, 0.0), (1730, 0.005127942516036155), (1731, 0.0), (1732, 0.0), (1733, 0.0), (1734, 0.0), (1735, 0.0123235009348271), (1736, 0.012870821753767265), (1737, 0.0), (1738, 0.0), (1739, 0.015452424551397096), (1740, 0.005050380946976589), (1741, 0.019569717795466193), (1742, 0.0), (1743, 0.004373785540671339), (1744, 0.005119899408047277), (1745, 0.0), (1746, 0.0), (1747, 0.004220579969615091), (1748, 0.006351232019342225), (1749, 0.030009443168530152), (1750, 0.04312245272907099), (1751, 0.0), (1752, 0.0173271024768867), (1753, 0.0), (1754, 0.01401933522946619), (1755, 0.0), (1756, 0.0), (1757, 0.030152773148541617), (1758, 0.0), (1759, 0.020440743762419278), (1760, 0.00459901895402208), (1761, 0.0), (1762, 0.0044884379712246915), (1763, 0.03586415547895088), (1764, 0.013758572930675478), (1765, 0.0), (1766, 0.0), (1767, 0.0), (1768, 0.004997448564767976), (1769, 0.0), (1770, 0.012315201410570803), (1771, 0.0), (1772, 0.0), (1773, 0.0), (1774, 0.021734971911396214), (1775, 0.0), (1776, 0.010485090179524731), (1777, 0.0), (1778, 0.0), (1779, 0.005255558424642896), (1780, 0.0), (1781, 0.0), (1782, 0.004601039562508384), (1783, 0.0), (1784, 0.0), (1785, 0.0), (1786, 0.0), (1787, 0.010452586272192692), (1788, 0.029630060688906664), (1789, 0.0), (1790, 0.0), (1791, 0.0), (1792, 0.0), (1793, 0.009959053497489144), (1794, 0.0), (1795, 0.042740804119455335), (1796, 0.005359803495764723), (1797, 0.011874017729374853), (1798, 0.01805054926170777), (1799, 0.010966901997741009), (1800, 0.0), (1801, 0.0), (1802, 0.016645672889238454), (1803, 0.0), (1804, 0.0), (1805, 0.0), (1806, 0.012653711967511973), (1807, 0.010924359209420285), (1808, 0.0), (1809, 0.06864045188995782), (1810, 0.0), (1811, 0.0), (1812, 0.0), (1813, 0.004491698563535842), (1814, 0.0), (1815, 0.013791452812485602), (1816, 0.010723757963315523), (1817, 0.02118964676112821), (1818, 0.010082712617175584), (1819, 0.004754452908500005), (1820, 0.0), (1821, 0.018676736051737548), (1822, 0.00587759533074247), (1823, 0.0), (1824, 0.0), (1825, 0.0), (1826, 0.0), (1827, 0.004555401679858053), (1828, 0.004090574481844085), (1829, 0.0), (1830, 0.004752090203318118), (1831, 0.0), (1832, 0.012902195278606315), (1833, 0.0), (1834, 0.0), (1835, 0.0), (1836, 0.0), (1837, 0.04574673277797688), (1838, 0.020610789723310385), (1839, 0.0), (1840, 0.0), (1841, 0.012881869805960785), (1842, 0.0), (1843, 0.0), (1844, 0.0), (1845, 0.07003043528349821), (1846, 0.0), (1847, 0.02675711108670192), (1848, 0.0), (1849, 0.011030103604455185), (1850, 0.057223543652746574), (1851, 0.005436233626777867), (1852, 0.0), (1853, 0.01951831821710662), (1854, 0.012542569340570622), (1855, 0.0), (1856, 0.0), (1857, 0.0), (1858, 0.01287542520530707), (1859, 0.0), (1860, 0.0), (1861, 0.025822867766475344), (1862, 0.0), (1863, 0.0), (1864, 0.004786873140655668), (1865, 0.024700240231603797), (1866, 0.005345122543084176), (1867, 0.0), (1868, 0.04189127992668072), (1869, 0.0046468114512896504), (1870, 0.0195377985024907), (1871, 0.05255470399461952), (1872, 0.02181274780816213), (1873, 0.0), (1874, 0.01315293794791002), (1875, 0.014434184688372681), (1876, 0.01603341927351495), (1877, 0.0), (1878, 0.06352578771337032), (1879, 0.0), (1880, 0.01929749321121985), (1881, 0.0), (1882, 0.005517190470934376), (1883, 0.0), (1884, 0.004410473462311), (1885, 0.047520942606378805), (1886, 0.10047280668004549), (1887, 0.0), (1888, 0.0), (1889, 0.0), (1890, 0.0), (1891, 0.0050745419462532885), (1892, 0.004928607988022368), (1893, 0.005642862082685782), (1894, 0.0), (1895, 0.02205181563000677), (1896, 0.00574230512542653), (1897, 0.005641237716003729), (1898, 0.0), (1899, 0.0), (1900, 0.03915943362516683), (1901, 0.0), (1902, 0.005131319441633462), (1903, 0.0), (1904, 0.0), (1905, 0.005446561190829376), (1906, 0.01949615884256088), (1907, 0.005520484657368223), (1908, 0.011555311540590679), (1909, 0.005995506946175593), (1910, 0.0), (1911, 0.011303255337571044), (1912, 0.0), (1913, 0.0), (1914, 0.0), (1915, 0.0), (1916, 0.005173499547078759), (1917, 0.0), (1918, 0.005197620723215218), (1919, 0.014561342353075605), (1920, 0.015241370422521817), (1921, 0.0), (1922, 0.013510290644321063), (1923, 0.00529272636695093), (1924, 0.005998218532591175), (1925, 0.0), (1926, 0.0), (1927, 0.020411153536529617), (1928, 0.0), (1929, 0.0), (1930, 0.0), (1931, 0.005128688805846281), (1932, 0.0), (1933, 0.0), (1934, 0.005241001568026593), (1935, 0.022480764969390204), (1936, 0.0), (1937, 0.012985313895361297), (1938, 0.0), (1939, 0.0), (1940, 0.0), (1941, 0.0), (1942, 0.017413000403030416), (1943, 0.0048118375807791585), (1944, 0.0), (1945, 0.012904302615964727), (1946, 0.0050000655737004645), (1947, 0.006062852479544807), (1948, 0.014633031333469488), (1949, 0.012435939047199637), (1950, 0.01342966762673317), (1951, 0.017423402052630692), (1952, 0.0), (1953, 0.0), (1954, 0.0), (1955, 0.0), (1956, 0.0), (1957, 0.01858507323765489), (1958, 0.0), (1959, 0.0), (1960, 0.006173035706459411), (1961, 0.0), (1962, 0.0), (1963, 0.0), (1964, 0.004695939338542296), (1965, 0.0), (1966, 0.0), (1967, 0.017631776282748146), (1968, 0.0053709707999045515), (1969, 0.005482657038815362), (1970, 0.03299581990465581), (1971, 0.014624327816851914), (1972, 0.0), (1973, 0.0), (1974, 0.0), (1975, 0.0), (1976, 0.03496161431066543), (1977, 0.10197855503964726), (1978, 0.0), (1979, 0.0), (1980, 0.0), (1981, 0.0), (1982, 0.05007196394718878), (1983, 0.0049672799205132834), (1984, 0.0), (1985, 0.027545473503893407), (1986, 0.011339184441310839), (1987, 0.0), (1988, 0.0213609147402644), (1989, 0.004205119205557892), (1990, 0.03361990035434828), (1991, 0.0), (1992, 0.0111968296601678), (1993, 0.0), (1994, 0.1080936943897858), (1995, 0.005709045478280524), (1996, 0.021484517513756334), (1997, 0.01870190235864536), (1998, 0.0), (1999, 0.03589284677298746), (2000, 0.020734787371800692), (2001, 0.0), (2002, 0.0), (2003, 0.0), (2004, 0.004746795425008482), (2005, 0.02157096315153453), (2006, 0.0), (2007, 0.0), (2008, 0.016908225853593677), (2009, 0.0), (2010, 0.004462134289901527), (2011, 0.03443428121570878), (2012, 0.046379819175120976), (2013, 0.026885237688951825), (2014, 0.0), (2015, 0.0), (2016, 0.019232779445850813), (2017, 0.0), (2018, 0.026463455488650894), (2019, 0.0), (2020, 0.03839521739479151), (2021, 0.0), (2022, 0.008441873945243225), (2023, 0.025001494174395428), (2024, 0.016887739868523363), (2025, 0.0), (2026, 0.030724905510019426), (2027, 0.02624303612111454), (2028, 0.0), (2029, 0.004721107454859975), (2030, 0.0), (2031, 0.004392242111547376), (2032, 0.0), (2033, 0.0), (2034, 0.0041537543621714655), (2035, 0.023926130909781265), (2036, 0.0), (2037, 0.039796258141946914), (2038, 0.0), (2039, 0.00402713016129721), (2040, 0.017928640846024205), (2041, 0.0), (2042, 0.0), (2043, 0.0), (2044, 0.0), (2045, 0.01662818236642479), (2046, 0.0), (2047, 0.0), (2048, 0.005204978600523889), (2049, 0.005794577230536409), (2050, 0.0), (2051, 0.006106459608828594), (2052, 0.0), (2053, 0.01773149473959431), (2054, 0.0), (2055, 0.0358637199937321), (2056, 0.011264831476163676), (2057, 0.0), (2058, 0.010027242512717248), (2059, 0.0), (2060, 0.0), (2061, 0.004921249197472471), (2062, 0.01054123245217309), (2063, 0.0), (2064, 0.008146138708942544), (2065, 0.015854248982727307), (2066, 0.0), (2067, 0.0057072567653357), (2068, 0.004826424483302087), (2069, 0.005085963537830454), (2070, 0.02406115724237725), (2071, 0.0), (2072, 0.0), (2073, 0.005019193445840199), (2074, 0.008994189271942857), (2075, 0.006199985270219478), (2076, 0.012470405648871988), (2077, 0.0), (2078, 0.0), (2079, 0.0), (2080, 0.01182734545734128), (2081, 0.0), (2082, 0.048099398741551926), (2083, 0.005492107698612955), (2084, 0.0), (2085, 0.0), (2086, 0.0), (2087, 0.005413863483308384), (2088, 0.005528143844766365), (2089, 0.005963873443606328), (2090, 0.0), (2091, 0.00591714664509193), (2092, 0.0), (2093, 0.0), (2094, 0.009354578633101943), (2095, 0.0), (2096, 0.0053311889608103355), (2097, 0.018278917918951653), (2098, 0.0), (2099, 0.0), (2100, 0.04055652845560493), (2101, 0.01122595729815283), (2102, 0.038507129484469965), (2103, 0.016541264161344327), (2104, 0.005303293592561148), (2105, 0.005429279767787153), (2106, 0.0), (2107, 0.0), (2108, 0.005678581378930818), (2109, 0.011280826474603536), (2110, 0.011773735497486067), (2111, 0.0), (2112, 0.07105463008703417), (2113, 0.008885877810180028), (2114, 0.01737796704919365), (2115, 0.0), (2116, 0.005596189220775828), (2117, 0.00485181892350658), (2118, 0.0), (2119, 0.021606861348507256), (2120, 0.0), (2121, 0.004644314908929379), (2122, 0.005178718929696834), (2123, 0.0), (2124, 0.0), (2125, 0.0), (2126, 0.01217537584297738), (2127, 0.004593172050063225), (2128, 0.0), (2129, 0.0), (2130, 0.0), (2131, 0.004878141097221938), (2132, 0.004117162753942025), (2133, 0.06040700674702115), (2134, 0.006252047019510022), (2135, 0.0), (2136, 0.0), (2137, 0.0), (2138, 0.0), (2139, 0.0), (2140, 0.0), (2141, 0.0), (2142, 0.0), (2143, 0.016664938335462006), (2144, 0.01624967214930811), (2145, 0.019355658611576544), (2146, 0.0), (2147, 0.0), (2148, 0.0), (2149, 0.02246320918732092), (2150, 0.0), (2151, 0.0), (2152, 0.0), (2153, 0.0), (2154, 0.006717908064813991), (2155, 0.005283722063749902), (2156, 0.009288272455730724), (2157, 0.034770865482330174), (2158, 0.0), (2159, 0.005607188486547617), (2160, 0.01075184443453955), (2161, 0.022614324267663702), (2162, 0.005253334641755919), (2163, 0.0), (2164, 0.0), (2165, 0.0), (2166, 0.0), (2167, 0.02370813495724842), (2168, 0.0), (2169, 0.005093409934785294), (2170, 0.0), (2171, 0.0), (2172, 0.0), (2173, 0.0), (2174, 0.016503642801027646), (2175, 0.010435488658311893), (2176, 0.006113743678743806), (2177, 0.016810188584741537), (2178, 0.0), (2179, 0.0), (2180, 0.0), (2181, 0.0), (2182, 0.0), (2183, 0.0), (2184, 0.0), (2185, 0.008888010224047147), (2186, 0.0), (2187, 0.0), (2188, 0.005158104585548489), (2189, 0.0), (2190, 0.0), (2191, 0.054997336699556545), (2192, 0.0), (2193, 0.010127839667591182), (2194, 0.0), (2195, 0.004993632639772443), (2196, 0.011889140396008947), (2197, 0.008705033105572729), (2198, 0.028329969556283835), (2199, 0.006044123060374591), (2200, 0.0), (2201, 0.004905490586900413), (2202, 0.0), (2203, 0.00937395360072453), (2204, 0.0), (2205, 0.010403208702550392), (2206, 0.01178194572897941), (2207, 0.0), (2208, 0.0), (2209, 0.0), (2210, 0.016184311140252972), (2211, 0.014767128494716304), (2212, 0.05066304905517244), (2213, 0.0), (2214, 0.01837486113782072), (2215, 0.0), (2216, 0.01713142169129042), (2217, 0.0), (2218, 0.0), (2219, 0.0), (2220, 0.0), (2221, 0.034774795417441245), (2222, 0.0), (2223, 0.006147079296198497), (2224, 0.015201840997655067), (2225, 0.0), (2226, 0.0045400365664159436), (2227, 0.0), (2228, 0.0), (2229, 0.0050208278308490175), (2230, 0.004851867430060006), (2231, 0.0), (2232, 0.0), (2233, 0.0), (2234, 0.0), (2235, 0.010979952764585422), (2236, 0.008959276938854585), (2237, 0.02183343822304794), (2238, 0.0), (2239, 0.010647630682162195), (2240, 0.00546730098634458), (2241, 0.0), (2242, 0.0051563581721311355), (2243, 0.0), (2244, 0.011855484064427012), (2245, 0.042040927538014826), (2246, 0.0), (2247, 0.0), (2248, 0.0), (2249, 0.0), (2250, 0.015061164014592779), (2251, 0.006091472619788888), (2252, 0.0), (2253, 0.0), (2254, 0.01765495114351714), (2255, 0.0056801357666799055), (2256, 0.0), (2257, 0.005648409004453839), (2258, 0.02110483189553258), (2259, 0.0), (2260, 0.0058820811441819415), (2261, 0.0), (2262, 0.0), (2263, 0.0), (2264, 0.010968706729435224), (2265, 0.013804123416839141), (2266, 0.005338591448030197), (2267, 0.0), (2268, 0.0), (2269, 0.00497844715154981), (2270, 0.0), (2271, 0.0), (2272, 0.0), (2273, 0.0), (2274, 0.0), (2275, 0.01393194556324443), (2276, 0.0654666751320118), (2277, 0.005290486752356928), (2278, 0.0), (2279, 0.019863157044921188), (2280, 0.011276718033887573), (2281, 0.0), (2282, 0.0), (2283, 0.0), (2284, 0.011981037660833353), (2285, 0.010881359741519533), (2286, 0.00599756505032229), (2287, 0.00471904475714758), (2288, 0.0), (2289, 0.004718863443973065), (2290, 0.018168166926341194), (2291, 0.009976687223721898), (2292, 0.0), (2293, 0.0), (2294, 0.06155735525680241), (2295, 0.004471831080306844), (2296, 0.0), (2297, 0.0), (2298, 0.020029187775355704), (2299, 0.0), (2300, 0.0), (2301, 0.0250959613687888), (2302, 0.005660080143661396), (2303, 0.011322719852194131), (2304, 0.0), (2305, 0.0), (2306, 0.0), (2307, 0.0), (2308, 0.0), (2309, 0.011299840899831708), (2310, 0.0), (2311, 0.0), (2312, 0.0), (2313, 0.00531017443532165), (2314, 0.0), (2315, 0.0), (2316, 0.047409996184662906), (2317, 0.0), (2318, 0.07745888601258781), (2319, 0.005313893313732968), (2320, 0.005111631916355023), (2321, 0.0049796149710604875), (2322, 0.0), (2323, 0.0), (2324, 0.0), (2325, 0.0), (2326, 0.0), (2327, 0.0), (2328, 0.0), (2329, 0.0), (2330, 0.0), (2331, 0.0), (2332, 0.0), (2333, 0.0), (2334, 0.018227532782436287), (2335, 0.01052586073904931), (2336, 0.0), (2337, 0.0), (2338, 0.004776820539512483), (2339, 0.011522611249819029), (2340, 0.0), (2341, 0.0), (2342, 0.0), (2343, 0.0), (2344, 0.004846399681466373), (2345, 0.0), (2346, 0.011740170255107525), (2347, 0.025597353609412836), (2348, 0.0051265198059086805), (2349, 0.0061311418736130045), (2350, 0.005868965166866263), (2351, 0.0), (2352, 0.0), (2353, 0.017855901282519803), (2354, 0.0), (2355, 0.004314470673071485), (2356, 0.0), (2357, 0.0), (2358, 0.0), (2359, 0.0040989335095753905), (2360, 0.0), (2361, 0.005640326277240745), (2362, 0.026345444693554536), (2363, 0.0), (2364, 0.0), (2365, 0.04363282427235294), (2366, 0.020577484004103253), (2367, 0.004590384605851508), (2368, 0.020073976973758283), (2369, 0.0), (2370, 0.0), (2371, 0.04700607023410504), (2372, 0.0), (2373, 0.0), (2374, 0.061163688811751646), (2375, 0.005235300822225831), (2376, 0.023518030750374452), (2377, 0.0), (2378, 0.0), (2379, 0.0060475423795389), (2380, 0.0), (2381, 0.0), (2382, 0.0), (2383, 0.0), (2384, 0.0), (2385, 0.0), (2386, 0.005072636719960005), (2387, 0.0), (2388, 0.005525760539228036), (2389, 0.0), (2390, 0.005789508462848629), (2391, 0.004840342966877494), (2392, 0.0), (2393, 0.005352926072532844), (2394, 0.004784894736153641), (2395, 0.0), (2396, 0.0), (2397, 0.005009848339351218), (2398, 0.0), (2399, 0.004715306752724144), (2400, 0.004861761392319758), (2401, 0.0), (2402, 0.004739432638620735), (2403, 0.0), (2404, 0.0), (2405, 0.005161526590442967), (2406, 0.017809165294218582), (2407, 0.005813378628434106), (2408, 0.0), (2409, 0.0), (2410, 0.0), (2411, 0.005602626298188453), (2412, 0.01395423752946122), (2413, 0.03493342324730646), (2414, 0.0), (2415, 0.005532190642133554), (2416, 0.0), (2417, 0.04774589029901309), (2418, 0.011560652026856359), (2419, 0.0), (2420, 0.0), (2421, 0.01073674714706315), (2422, 0.004809786929768044), (2423, 0.005649226054340679), (2424, 0.0), (2425, 0.0), (2426, 0.008792171313945604), (2427, 0.005094910822753767), (2428, 0.005314104099838072), (2429, 0.0), (2430, 0.005149627190089647), (2431, 0.0), (2432, 0.0), (2433, 0.0), (2434, 0.005358638229453599), (2435, 0.0), (2436, 0.016233789718017297), (2437, 0.0055211582401138316), (2438, 0.006229396686863304), (2439, 0.009527536892374696), (2440, 0.02006531052609976), (2441, 0.004262646666230307), (2442, 0.0), (2443, 0.03897059752147604), (2444, 0.0), (2445, 0.0), (2446, 0.0), (2447, 0.013945133930830786), (2448, 0.005540812032588166), (2449, 0.027618351861071606), (2450, 0.0), (2451, 0.0), (2452, 0.0), (2453, 0.004277043185518305), (2454, 0.0), (2455, 0.0), (2456, 0.0), (2457, 0.004725448554732216), (2458, 0.0), (2459, 0.00532106465116754), (2460, 0.01652033144735776), (2461, 0.005068655327427823), (2462, 0.0), (2463, 0.010988515009936571), (2464, 0.012357273222191658), (2465, 0.0), (2466, 0.005594269852599722), (2467, 0.03482278949483621), (2468, 0.01253982368525301), (2469, 0.02192873626568513), (2470, 0.0), (2471, 0.0), (2472, 0.0), (2473, 0.00482335390056076), (2474, 0.01957563356765171), (2475, 0.005132418786131392), (2476, 0.0), (2477, 0.005173282945946926), (2478, 0.005743300800720131), (2479, 0.0), (2480, 0.010203499091172605), (2481, 0.03825228332880258), (2482, 0.005268668932964988), (2483, 0.0), (2484, 0.028466740860436716), (2485, 0.0), (2486, 0.012929012046933861), (2487, 0.0261372454274897), (2488, 0.005175402556281349), (2489, 0.017934562011245405), (2490, 0.006196786313737517), (2491, 0.0), (2492, 0.004394198008700353), (2493, 0.0), (2494, 0.014467904196987708), (2495, 0.0), (2496, 0.0050264236995465755), (2497, 0.0), (2498, 0.0), (2499, 0.0), (2500, 0.0), (2501, 0.0), (2502, 0.004247964736536738), (2503, 0.010763661105984796), (2504, 0.0), (2505, 0.0), (2506, 0.0), (2507, 0.0), (2508, 0.0), (2509, 0.004314547018429101), (2510, 0.013015168305727654), (2511, 0.0), (2512, 0.016003841745790254), (2513, 0.02715773082014847), (2514, 0.0), (2515, 0.0), (2516, 0.0), (2517, 0.04966353209902922), (2518, 0.0), (2519, 0.0), (2520, 0.003999393315463104), (2521, 0.0), (2522, 0.018713020246615468), (2523, 0.0), (2524, 0.008609001574265461), (2525, 0.0), (2526, 0.004018964841495899), (2527, 0.004416973656205116), (2528, 0.004733657182148433), (2529, 0.006325850056511128), (2530, 0.054829911717347954), (2531, 0.004567930372184865), (2532, 0.0), (2533, 0.0), (2534, 0.0020586646973473183), (2535, 0.005513037147858432), (2536, 0.0), (2537, 0.0), (2538, 0.08661603163383803), (2539, 0.0), (2540, 0.004769744095006788), (2541, 0.0), (2542, 0.0), (2543, 0.0), (2544, 0.0), (2545, 0.0), (2546, 0.012942732559492583), (2547, 0.0), (2548, 0.0), (2549, 0.0), (2550, 0.05672656434889685), (2551, 0.0), (2552, 0.0), (2553, 0.02491178397840786), (2554, 0.005038400521987588), (2555, 0.005673904507341927), (2556, 0.004326990714132771), (2557, 0.0), (2558, 0.00493736008299413), (2559, 0.005768976569809634), (2560, 0.02740515744804386), (2561, 0.0), (2562, 0.0), (2563, 0.013223624094134629), (2564, 0.0), (2565, 0.01223821107011481), (2566, 0.0), (2567, 0.0), (2568, 0.010101444300534362), (2569, 0.0), (2570, 0.0053032107103618605), (2571, 0.0), (2572, 0.0), (2573, 0.0), (2574, 0.0), (2575, 0.0), (2576, 0.0), (2577, 0.0), (2578, 0.0), (2579, 0.06750574324363562), (2580, 0.004143106991469454), (2581, 0.0), (2582, 0.03053585962293706), (2583, 0.0), (2584, 0.0), (2585, 0.0), (2586, 0.0), (2587, 0.010514349800791283), (2588, 0.0), (2589, 0.0), (2590, 0.0), (2591, 0.003896360887236523), (2592, 0.005435391206936638), (2593, 0.004781709129518647), (2594, 0.0), (2595, 0.0), (2596, 0.0), (2597, 0.0), (2598, 0.02347269453339431), (2599, 0.0), (2600, 0.0), (2601, 0.014821930198153097), (2602, 0.014327889057243071), (2603, 0.013458385023398248), (2604, 0.0), (2605, 0.0), (2606, 0.005280605920245505), (2607, 0.015858705439632262), (2608, 0.0), (2609, 0.005653543909315869), (2610, 0.0), (2611, 0.004157701856242705), (2612, 0.004968849905041679), (2613, 0.0), (2614, 0.005590804614649507), (2615, 0.0), (2616, 0.0), (2617, 0.010020754253095298), (2618, 0.016905429311268212), (2619, 0.0), (2620, 0.0), (2621, 0.034234256559053045), (2622, 0.0), (2623, 0.005605809437818401), (2624, 0.0), (2625, 0.005241022028732034), (2626, 0.0), (2627, 0.0), (2628, 0.0), (2629, 0.005750253201210084), (2630, 0.06110171952506409), (2631, 0.0), (2632, 0.015800825862791967), (2633, 0.01443189289468894), (2634, 0.004491879227581291), (2635, 0.0), (2636, 0.0), (2637, 0.0), (2638, 0.027604575495963336), (2639, 0.020518144642145693), (2640, 0.010158437111329903), (2641, 0.0), (2642, 0.004525848363275015), (2643, 0.005883539934757509), (2644, 0.018820296963425628), (2645, 0.023760566312323504), (2646, 0.026584651472450302), (2647, 0.026114094234760802), (2648, 0.0), (2649, 0.01634308251941264), (2650, 0.020714786794197543), (2651, 0.0), (2652, 0.004390429073602417), (2653, 0.0689291338361957), (2654, 0.02001509731871033), (2655, 0.005919428424725958), (2656, 0.0), (2657, 0.0), (2658, 0.0), (2659, 0.0), (2660, 0.006849238238174382), (2661, 0.005983563877338659), (2662, 0.0), (2663, 0.0), (2664, 0.005872581740572849), (2665, 0.008728369385817378), (2666, 0.0), (2667, 0.0), (2668, 0.015719549257444447), (2669, 0.0), (2670, 0.0), (2671, 0.0), (2672, 0.0), (2673, 0.0), (2674, 0.004375511542627469), (2675, 0.0), (2676, 0.0), (2677, 0.0), (2678, 0.007320509361252511), (2679, 0.0), (2680, 0.00951839031512764), (2681, 0.0), (2682, 0.0), (2683, 0.0), (2684, 0.0), (2685, 0.0), (2686, 0.0), (2687, 0.036947954232194165), (2688, 0.009545271812648184), (2689, 0.022597521856931608), (2690, 0.0), (2691, 0.01206379417907597), (2692, 1.0000000000000009), (2693, 0.0), (2694, 0.0), (2695, 0.016971225778270465), (2696, 0.005290505075294491), (2697, 0.0042087682375763664), (2698, 0.015252930668107366), (2699, 0.0), (2700, 0.0), (2701, 0.0), (2702, 0.005916812052846777), (2703, 0.0), (2704, 0.0), (2705, 0.004910150543135128), (2706, 0.042511065924085385), (2707, 0.0), (2708, 0.0), (2709, 0.0), (2710, 0.035795642606061925), (2711, 0.0), (2712, 0.024349736003636505), (2713, 0.0), (2714, 0.005664489828034406), (2715, 0.0), (2716, 0.004643377883486667), (2717, 0.0), (2718, 0.03502181399366708), (2719, 0.0), (2720, 0.0), (2721, 0.0), (2722, 0.0), (2723, 0.03934900169493604), (2724, 0.0044083109676260656), (2725, 0.0), (2726, 0.011363805401083884), (2727, 0.014056601934973219), (2728, 0.0), (2729, 0.0), (2730, 0.0), (2731, 0.005689738261414506), (2732, 0.011802507647557435), (2733, 0.0), (2734, 0.0), (2735, 0.0), (2736, 0.0), (2737, 0.0), (2738, 0.0), (2739, 0.01168016882198286), (2740, 0.01601460600457808), (2741, 0.004368719933746855), (2742, 0.06099671477754714), (2743, 0.005173935979344631), (2744, 0.01422466523987041), (2745, 0.02579952248276711), (2746, 0.005014333702659705), (2747, 0.004330730778181129), (2748, 0.0051417142565178785), (2749, 0.0), (2750, 0.0), (2751, 0.06860787740731586), (2752, 0.012168608008829776), (2753, 0.0), (2754, 0.0), (2755, 0.005133086173228046), (2756, 0.0), (2757, 0.0), (2758, 0.004002120964219924), (2759, 0.01038995720063931), (2760, 0.021951666453169965), (2761, 0.004903687916214776), (2762, 0.0349013794182036), (2763, 0.0), (2764, 0.006019505908188846), (2765, 0.0), (2766, 0.003780450204851052), (2767, 0.03199189008578736), (2768, 0.006009722700182436), (2769, 0.005535752396307723), (2770, 0.0), (2771, 0.0045200314411577005), (2772, 0.005111286049620621), (2773, 0.0), (2774, 0.0), (2775, 0.006049243682327549), (2776, 0.005839263560008221), (2777, 0.01603710191928741), (2778, 0.005308614153886831), (2779, 0.004799047035988542), (2780, 0.012754051901743647), (2781, 0.0), (2782, 0.0389735388589936), (2783, 0.0), (2784, 0.018269913997704248), (2785, 0.0), (2786, 0.0), (2787, 0.0), (2788, 0.0), (2789, 0.008976755277726262), (2790, 0.0), (2791, 0.033244909010036086), (2792, 0.0), (2793, 0.0), (2794, 0.0), (2795, 0.019515514709994297), (2796, 0.005490543811448468), (2797, 0.006108431779257975), (2798, 0.01729791793187674), (2799, 0.0), (2800, 0.004762607748454731), (2801, 0.0), (2802, 0.004641107882469483), (2803, 0.00464544683816642), (2804, 0.0), (2805, 0.019246688193943057), (2806, 0.0), (2807, 0.03527249176236867), (2808, 0.027373277870450914), (2809, 0.005353206989522072), (2810, 0.0), (2811, 0.0), (2812, 0.005273139929364223), (2813, 0.0), (2814, 0.0), (2815, 0.0), (2816, 0.010917230226233253), (2817, 0.0), (2818, 0.0), (2819, 0.0), (2820, 0.0), (2821, 0.004797982765446986), (2822, 0.0), (2823, 0.026170576691026612), (2824, 0.0), (2825, 0.0), (2826, 0.0), (2827, 0.0), (2828, 0.0), (2829, 0.0), (2830, 0.005610443486485685), (2831, 0.01343239876114945), (2832, 0.006032862450738007), (2833, 0.0), (2834, 0.0053492093423676695), (2835, 0.0), (2836, 0.0), (2837, 0.0), (2838, 0.005542254694686041), (2839, 0.0), (2840, 0.0049381122971080835), (2841, 0.023251946856513238), (2842, 0.0), (2843, 0.012571924159932685), (2844, 0.01231528988415637), (2845, 0.004221455090058343), (2846, 0.0), (2847, 0.0), (2848, 0.005943367541705041), (2849, 0.011791228771687694), (2850, 0.0), (2851, 0.0), (2852, 0.0), (2853, 0.0), (2854, 0.004820969292714823), (2855, 0.0), (2856, 0.0), (2857, 0.005300932059660686), (2858, 0.0), (2859, 0.005057165186139038), (2860, 0.0), (2861, 0.0), (2862, 0.004790828191544188), (2863, 0.0), (2864, 0.0), (2865, 0.0), (2866, 0.0), (2867, 0.026737780041782504), (2868, 0.04269093890786774), (2869, 0.046867099336610575), (2870, 0.0060880429321600905), (2871, 0.011761303364613613), (2872, 0.005124913907772245), (2873, 0.010203350740084782), (2874, 0.019956386350465958), (2875, 0.0), (2876, 0.03764274746069981), (2877, 0.0), (2878, 0.005375717826631408), (2879, 0.005613499018785166), (2880, 0.0), (2881, 0.005583321531686879), (2882, 0.0), (2883, 0.006134430854026894), (2884, 0.0), (2885, 0.021106056002890575), (2886, 0.0160202825169454), (2887, 0.04078491031284394), (2888, 0.006261381674089428), (2889, 0.005827761462394907), (2890, 0.005383615550978702), (2891, 0.0), (2892, 0.004115321346185815), (2893, 0.06561461829834057), (2894, 0.005235023714793591), (2895, 0.0), (2896, 0.0), (2897, 0.011198482346482012), (2898, 0.0), (2899, 0.004577905324527383), (2900, 0.0), (2901, 0.005751643039373542), (2902, 0.0), (2903, 0.017635697537350423), (2904, 0.004915889575834528), (2905, 0.0), (2906, 0.0), (2907, 0.004213343141140781), (2908, 0.03530473788079065), (2909, 0.0), (2910, 0.016852852450752662), (2911, 0.005308501701195436), (2912, 0.0), (2913, 0.0), (2914, 0.0053905876644439), (2915, 0.0060268785300221775), (2916, 0.005069425633670798), (2917, 0.020848999558646924), (2918, 0.011306403097547614), (2919, 0.018638551005875702), (2920, 0.03753782540997245), (2921, 0.0), (2922, 0.0), (2923, 0.0), (2924, 0.005668138135125366), (2925, 0.012969574425293558), (2926, 0.005421357915561003), (2927, 0.0), (2928, 0.0), (2929, 0.009560740726320387), (2930, 0.0), (2931, 0.02471939369237678), (2932, 0.019608851179038607), (2933, 0.013651190808967258), (2934, 0.017570000187698612), (2935, 0.010337222854556502), (2936, 0.0), (2937, 0.0), (2938, 0.0), (2939, 0.013097716482256348), (2940, 0.0), (2941, 0.0), (2942, 0.00929316545942757), (2943, 0.005341133427465473), (2944, 0.05846194982065716), (2945, 0.004869363223051808), (2946, 0.004717600358746525), (2947, 0.0), (2948, 0.0), (2949, 0.0), (2950, 0.0), (2951, 0.0), (2952, 0.0), (2953, 0.0), (2954, 0.0), (2955, 0.0), (2956, 0.0), (2957, 0.0), (2958, 0.0), (2959, 0.0), (2960, 0.0), (2961, 0.017550888984291493), (2962, 0.0), (2963, 0.0), (2964, 0.0), (2965, 0.004892441147871694), (2966, 0.005581131847478638), (2967, 0.0), (2968, 0.0), (2969, 0.020749895281012457), (2970, 0.0), (2971, 0.028024211377169143), (2972, 0.004786223846975422), (2973, 0.0), (2974, 0.005576677798885893), (2975, 0.013854932191969212), (2976, 0.004279084955249977), (2977, 0.016400975267504204), (2978, 0.012414200641238467), (2979, 0.0), (2980, 0.015544170192476243), (2981, 0.03617124600243677), (2982, 0.0), (2983, 0.0), (2984, 0.0), (2985, 0.0089184481976254), (2986, 0.005281486559294242), (2987, 0.0), (2988, 0.005456770278067027), (2989, 0.006116709560286528), (2990, 0.0), (2991, 0.0), (2992, 0.010136878826544952), (2993, 0.0), (2994, 0.0), (2995, 0.026909793598691733), (2996, 0.017422637669433312), (2997, 0.0), (2998, 0.006277518541743403), (2999, 0.005728744918999458), (3000, 0.019771112043124928), (3001, 0.0), (3002, 0.0), (3003, 0.0), (3004, 0.0415239259385057), (3005, 0.0), (3006, 0.0), (3007, 0.0), (3008, 0.0), (3009, 0.0), (3010, 0.02795047721277351), (3011, 0.0), (3012, 0.0051869375175560145), (3013, 0.005302594694858196), (3014, 0.004626488622256322), (3015, 0.005751009893425742), (3016, 0.0), (3017, 0.03438920377502906), (3018, 0.0), (3019, 0.01862632698305322), (3020, 0.0), (3021, 0.0), (3022, 0.0), (3023, 0.06270650303835332), (3024, 0.004017752040468993), (3025, 0.0), (3026, 0.0), (3027, 0.0042015190801610505), (3028, 0.004841721475948306), (3029, 0.0), (3030, 0.0), (3031, 0.0), (3032, 0.005728244133779117), (3033, 0.011177944425142314), (3034, 0.0), (3035, 0.0), (3036, 0.02461196199411441), (3037, 0.00477938119649882), (3038, 0.0), (3039, 0.010917986023877944), (3040, 0.0), (3041, 0.0), (3042, 0.0), (3043, 0.018142892232717502), (3044, 0.005295591522135104), (3045, 0.03152288824124231), (3046, 0.010649013813014826), (3047, 0.0), (3048, 0.0), (3049, 0.0), (3050, 0.004902881579741545), (3051, 0.0060423775339551), (3052, 0.0), (3053, 0.09310397192527085), (3054, 0.0), (3055, 0.0), (3056, 0.003981476025829076), (3057, 0.0), (3058, 0.0), (3059, 0.0), (3060, 0.0), (3061, 0.0), (3062, 0.005051647234694562), (3063, 0.0), (3064, 0.0), (3065, 0.004342368458574588), (3066, 0.0), (3067, 0.014279712142612536), (3068, 0.0), (3069, 0.0), (3070, 0.010795332699769448), (3071, 0.00471770791084413), (3072, 0.005905587790314481), (3073, 0.0), (3074, 0.005523168360007049), (3075, 0.005294045182976089), (3076, 0.00569786564107919), (3077, 0.0), (3078, 0.0), (3079, 0.0), (3080, 0.0), (3081, 0.005689925406289808), (3082, 0.0), (3083, 0.029132852852313214), (3084, 0.0), (3085, 0.010490379247038162), (3086, 0.016577283490195896), (3087, 0.0), (3088, 0.0), (3089, 0.0), (3090, 0.0), (3091, 0.05624624292083972), (3092, 0.0), (3093, 0.0), (3094, 0.006490419217995434), (3095, 0.021955374153704306), (3096, 0.014433135444161149), (3097, 0.005106358906742318), (3098, 0.02070633235710254), (3099, 0.011966282822327052), (3100, 0.0), (3101, 0.0), (3102, 0.04275151203293098), (3103, 0.0), (3104, 0.0), (3105, 0.0), (3106, 0.0), (3107, 0.0), (3108, 0.01414651229596638), (3109, 0.0), (3110, 0.011628717040463595), (3111, 0.024456779474987932), (3112, 0.005426554170727783), (3113, 0.0), (3114, 0.010361898396017291), (3115, 0.0), (3116, 0.00489250532481424), (3117, 0.0), (3118, 0.010972636067567003), (3119, 0.014286038139119682), (3120, 0.0045153923113786095), (3121, 0.0), (3122, 0.004784375546230494), (3123, 0.005390804316064832), (3124, 0.0), (3125, 0.0048098321517914796), (3126, 0.0), (3127, 0.034740052499056484), (3128, 0.0), (3129, 0.016870524368986027), (3130, 0.0), (3131, 0.0), (3132, 0.0), (3133, 0.0), (3134, 0.0), (3135, 0.0), (3136, 0.0), (3137, 0.004347450679136001), (3138, 0.0), (3139, 0.0), (3140, 0.0056173236631378905), (3141, 0.0), (3142, 0.014258899491893733), (3143, 0.0), (3144, 0.025254781503857), (3145, 0.0), (3146, 0.005308980484228398), (3147, 0.004737085594365011), (3148, 0.006045797736460404), (3149, 0.0), (3150, 0.0), (3151, 0.014103081933078455), (3152, 0.012491483011352986), (3153, 0.02641466778606617), (3154, 0.019418806993649528), (3155, 0.011430287144427438), (3156, 0.03227731293403877), (3157, 0.03435667667069871), (3158, 0.0), (3159, 0.0), (3160, 0.0), (3161, 0.0), (3162, 0.0), (3163, 0.0), (3164, 0.008962116663950803), (3165, 0.005174424306630047), (3166, 0.0058165505751893495), (3167, 0.03293412268877462), (3168, 0.0), (3169, 0.0), (3170, 0.005034522394246872), (3171, 0.016814017230457626), (3172, 0.0), (3173, 0.0), (3174, 0.0), (3175, 0.0), (3176, 0.0), (3177, 0.0), (3178, 0.006725840148670549), (3179, 0.0), (3180, 0.0), (3181, 0.0), (3182, 0.005235431584054197), (3183, 0.004891541137753818), (3184, 0.005164063115965646), (3185, 0.0), (3186, 0.0), (3187, 0.005444384853458236), (3188, 0.0), (3189, 0.0), (3190, 0.0), (3191, 0.0), (3192, 0.012451246518175068), (3193, 0.0), (3194, 0.005467857648849024), (3195, 0.004990048175751004), (3196, 0.005624822833604326), (3197, 0.0), (3198, 0.0049190561693196536), (3199, 0.0035721255441428174), (3200, 0.0044300805849102), (3201, 0.0), (3202, 0.0), (3203, 0.05782842427210443), (3204, 0.0), (3205, 0.009057692368638065), (3206, 0.0), (3207, 0.0), (3208, 0.0), (3209, 0.0), (3210, 0.017801851359712816), (3211, 0.0), (3212, 0.0), (3213, 0.015746611083169184), (3214, 0.004514122314763845), (3215, 0.008905584943622525), (3216, 0.0), (3217, 0.0), (3218, 0.014864657001564108), (3219, 0.005768997378204101), (3220, 0.004222202181011625), (3221, 0.0), (3222, 0.029008925324083255), (3223, 0.0), (3224, 0.0), (3225, 0.0), (3226, 0.014977011454120844), (3227, 0.004585944735472321), (3228, 0.01640525470224761), (3229, 0.0), (3230, 0.0), (3231, 0.0), (3232, 0.01132041843676407), (3233, 0.005402979061347359), (3234, 0.004797317595324582), (3235, 0.0046757200480614745), (3236, 0.0), (3237, 0.01590698640439526), (3238, 0.0), (3239, 0.0), (3240, 0.010086621379448518), (3241, 0.004602058440770532), (3242, 0.0), (3243, 0.0), (3244, 0.00980712377512655), (3245, 0.01282557230865226), (3246, 0.010517703429068806), (3247, 0.0), (3248, 0.036472413437263436), (3249, 0.0), (3250, 0.0), (3251, 0.0), (3252, 0.0), (3253, 0.021197189800291855), (3254, 0.004259357197268728), (3255, 0.03915031292353323), (3256, 0.011220162750782414), (3257, 0.007059745192057183), (3258, 0.00498680166929966), (3259, 0.012761431215285224), (3260, 0.033567804399986426), (3261, 0.0), (3262, 0.006006304971632734), (3263, 0.0), (3264, 0.01046667392510179), (3265, 0.011083457290424873), (3266, 0.0), (3267, 0.009660542389444736), (3268, 0.005156096242369794), (3269, 0.0), (3270, 0.0), (3271, 0.0), (3272, 0.0), (3273, 0.005039307616966173), (3274, 0.00505338110662336), (3275, 0.01821664717529151), (3276, 0.04979668733598274), (3277, 0.0), (3278, 0.004694756216309019), (3279, 0.018010175609936972), (3280, 0.0), (3281, 0.0), (3282, 0.00559881056266395), (3283, 0.0), (3284, 0.02074031744136781), (3285, 0.030031686634028675), (3286, 0.0), (3287, 0.0), (3288, 0.0), (3289, 0.0), (3290, 0.0), (3291, 0.006249423674345927), (3292, 0.0), (3293, 0.004196583037729183), (3294, 0.009592469155856492), (3295, 0.019238930858852536), (3296, 0.00502548320405272), (3297, 0.004760006841355419), (3298, 0.004669177597143707), (3299, 0.019335282095202126), (3300, 0.005355733791463786), (3301, 0.006129569069680937), (3302, 0.005653515910909929), (3303, 0.004668159310539189), (3304, 0.00493366299532467), (3305, 0.0), (3306, 0.010861984179213328), (3307, 0.0), (3308, 0.00599835843776183), (3309, 0.0), (3310, 0.0), (3311, 0.004638625125811549), (3312, 0.011978959680903038), (3313, 0.03676531413251999), (3314, 0.004919428374343769), (3315, 0.04513901115150969), (3316, 0.010776057910736977), (3317, 0.013686730163827654), (3318, 0.004666259915943176), (3319, 0.029096600225723603), (3320, 0.0), (3321, 0.0), (3322, 0.0), (3323, 0.0), (3324, 0.0), (3325, 0.0078514764318484), (3326, 0.005156127166022609), (3327, 0.004619067211525929), (3328, 0.017533272457720885), (3329, 0.0), (3330, 0.004958381759793379), (3331, 0.004067053886105295), (3332, 0.0), (3333, 0.0), (3334, 0.07088012723011207), (3335, 0.0), (3336, 0.0), (3337, 0.0), (3338, 0.0), (3339, 0.0), (3340, 0.0), (3341, 0.0), (3342, 0.004607267744947082), (3343, 0.0), (3344, 0.03142449270788427), (3345, 0.02563123646245634), (3346, 0.005425320488990326), (3347, 0.0041748409959341684), (3348, 0.0), (3349, 0.004645958305905933), (3350, 0.0), (3351, 0.0), (3352, 0.027463777328149693), (3353, 0.004520025189912876), (3354, 0.0), (3355, 0.0061776908188775626), (3356, 0.017049074168363428), (3357, 0.005467335527356523), (3358, 0.0), (3359, 0.0053035034945300786), (3360, 0.022685407936659154), (3361, 0.0), (3362, 0.029462336630814243), (3363, 0.00531852873643678), (3364, 0.005072808054358899), (3365, 0.0036332260041753266), (3366, 0.0), (3367, 0.0), (3368, 0.0), (3369, 0.0), (3370, 0.015301447128088995), (3371, 0.0), (3372, 0.0), (3373, 0.013671450272324285), (3374, 0.015487057407169104), (3375, 0.01860840098302514), (3376, 0.037977538982937514), (3377, 0.032851391584209834), (3378, 0.0), (3379, 0.005533429005634899), (3380, 0.004290807253336558), (3381, 0.0), (3382, 0.01106564508172952), (3383, 0.0), (3384, 0.011835218974541109), (3385, 0.0708955121294154), (3386, 0.015562123727012007), (3387, 0.011610642426587365), (3388, 0.00531645917249786), (3389, 0.01381218463569634), (3390, 0.0), (3391, 0.0), (3392, 0.0), (3393, 0.004498289336296538), (3394, 0.0), (3395, 0.06557947897187003), (3396, 0.0), (3397, 0.0), (3398, 0.0), (3399, 0.014581894023403093), (3400, 0.0), (3401, 0.0), (3402, 0.00510494343040648), (3403, 0.02728670980381336), (3404, 0.0), (3405, 0.0), (3406, 0.005302635560904265), (3407, 0.015546617817514315), (3408, 0.05324080266845192), (3409, 0.013117613460136483), (3410, 0.008295706709881862), (3411, 0.0), (3412, 0.0), (3413, 0.006094339064888545), (3414, 0.0), (3415, 0.0), (3416, 0.01240151247832585), (3417, 0.005521867534236828), (3418, 0.010730086652730352), (3419, 0.0), (3420, 0.035932890409033275), (3421, 0.016677895453484387), (3422, 0.0), (3423, 0.0), (3424, 0.0), (3425, 0.005054313969496704), (3426, 0.010236516941623917), (3427, 0.052183313526856824), (3428, 0.029780758830323845), (3429, 0.0), (3430, 0.043072131994392915), (3431, 0.0), (3432, 0.0), (3433, 0.02436760600444836), (3434, 0.0), (3435, 0.005239671913587169), (3436, 0.005428539285455774), (3437, 0.018227487130441433), (3438, 0.0), (3439, 0.0), (3440, 0.0), (3441, 0.0), (3442, 0.0), (3443, 0.0), (3444, 0.0), (3445, 0.005187384080087218), (3446, 0.02498227829530048), (3447, 0.03728540755462084), (3448, 0.0), (3449, 0.0050952070037292825), (3450, 0.07385697431772884), (3451, 0.0), (3452, 0.0), (3453, 0.0), (3454, 0.0), (3455, 0.0), (3456, 0.0069469692117976175), (3457, 0.011786847713146557), (3458, 0.007378149240351149), (3459, 0.0), (3460, 0.004596248397592169), (3461, 0.0), (3462, 0.02204239338124382), (3463, 0.047570658421726725), (3464, 0.0), (3465, 0.012194133285375152), (3466, 0.020049490907372968), (3467, 0.0), (3468, 0.0), (3469, 0.026196844763465666), (3470, 0.040060298226692034), (3471, 0.024889043117326728), (3472, 0.0), (3473, 0.0), (3474, 0.004312108100383563), (3475, 0.0), (3476, 0.0), (3477, 0.004424229203372696), (3478, 0.0), (3479, 0.005960616839270874), (3480, 0.09725714090418164), (3481, 0.0), (3482, 0.0), (3483, 0.029330190287179026), (3484, 0.0), (3485, 0.0), (3486, 0.0), (3487, 0.004673554944278489), (3488, 0.03173940312496909), (3489, 0.0), (3490, 0.0), (3491, 0.0), (3492, 0.029508370758560273), (3493, 0.0060250143703505414), (3494, 0.0), (3495, 0.0), (3496, 0.005482126854113069), (3497, 0.0), (3498, 0.04501909772139778), (3499, 0.0), (3500, 0.0048387104929136305), (3501, 0.005294127541388375), (3502, 0.0), (3503, 0.004599069537496204), (3504, 0.024260193592227218), (3505, 0.0), (3506, 0.005001287450249506), (3507, 0.0), (3508, 0.0), (3509, 0.009432897301271902), (3510, 0.0), (3511, 0.05030509468220383), (3512, 0.007110925177014312), (3513, 0.0), (3514, 0.0), (3515, 0.010307074271067293), (3516, 0.005003619022963343), (3517, 0.0), (3518, 0.022086310578864447), (3519, 0.0), (3520, 0.0), (3521, 0.005462315046112894), (3522, 0.0), (3523, 0.0), (3524, 0.005771201760157619), (3525, 0.0), (3526, 0.004801783953720157), (3527, 0.004691823618697665), (3528, 0.023002227137246516), (3529, 0.0), (3530, 0.0), (3531, 0.0), (3532, 0.0), (3533, 0.0), (3534, 0.0), (3535, 0.015490732887331523), (3536, 0.011866109360886194), (3537, 0.0), (3538, 0.0), (3539, 0.0), (3540, 0.0), (3541, 0.005118589193189092), (3542, 0.0051896643172951295), (3543, 0.0), (3544, 0.0), (3545, 0.0), (3546, 0.004201735387166517), (3547, 0.0), (3548, 0.0), (3549, 0.0), (3550, 0.0), (3551, 0.004991441340482482), (3552, 0.05689257576340933), (3553, 0.024650210053619927), (3554, 0.0), (3555, 0.0), (3556, 0.036567949163193086), (3557, 0.004695185064522853), (3558, 0.015152991513858446), (3559, 0.027786623310921434), (3560, 0.005723504082026833), (3561, 0.0), (3562, 0.0), (3563, 0.004675328265157742), (3564, 0.005264993217490239), (3565, 0.0), (3566, 0.010680319687784365), (3567, 0.0), (3568, 0.0), (3569, 0.004299969334295922), (3570, 0.0), (3571, 0.04853525739282542), (3572, 0.038596807244195945), (3573, 0.0), (3574, 0.03983310895248484), (3575, 0.0045129922045016495), (3576, 0.0), (3577, 0.0051740991170698015), (3578, 0.0), (3579, 0.012497610322602552), (3580, 0.01908673688843809), (3581, 0.0), (3582, 0.012669988556349359), (3583, 0.0), (3584, 0.0), (3585, 0.0), (3586, 0.013128532985740224), (3587, 0.0), (3588, 0.0), (3589, 0.0), (3590, 0.0052503006343675015), (3591, 0.0), (3592, 0.0), (3593, 0.0), (3594, 0.009571333934974943), (3595, 0.0), (3596, 0.0), (3597, 0.019961321259890412), (3598, 0.010375769972902371), (3599, 0.0), (3600, 0.0), (3601, 0.004778608076200112), (3602, 0.0), (3603, 0.0), (3604, 0.0), (3605, 0.0), (3606, 0.0), (3607, 0.0), (3608, 0.0), (3609, 0.0), (3610, 0.0), (3611, 0.0), (3612, 0.017087399581033752), (3613, 0.005507194811839172), (3614, 0.004693519049476301), (3615, 0.0), (3616, 0.0), (3617, 0.0), (3618, 0.005387753458537756), (3619, 0.0), (3620, 0.005923079035376508), (3621, 0.0), (3622, 0.0), (3623, 0.0055353716024333114), (3624, 0.005097079812862468), (3625, 0.0), (3626, 0.004293167278921814), (3627, 0.0), (3628, 0.0), (3629, 0.0), (3630, 0.019440832717404318), (3631, 0.0), (3632, 0.0), (3633, 0.0), (3634, 0.004754309607883589), (3635, 0.005828609553189843), (3636, 0.0), (3637, 0.014249596911785904), (3638, 0.005278346913684805), (3639, 0.005211319469955907), (3640, 0.00562848985918555), (3641, 0.005157529826054531), (3642, 0.012691509251388492), (3643, 0.016085839360620656), (3644, 0.0), (3645, 0.013414943775566351), (3646, 0.004963498583554898), (3647, 0.0), (3648, 0.011177769094604455), (3649, 0.0), (3650, 0.0), (3651, 0.0), (3652, 0.042603191275652), (3653, 0.005288008206933284), (3654, 0.005306710663864359), (3655, 0.034565718833608844), (3656, 0.032082254372480454), (3657, 0.004548540544297873), (3658, 0.0), (3659, 0.012964790512012162), (3660, 0.004945735891340573), (3661, 0.0), (3662, 0.0), (3663, 0.0), (3664, 0.0), (3665, 0.023404230644119214), (3666, 0.005037347326325121), (3667, 0.01634597490456871), (3668, 0.0), (3669, 0.004434803157677812), (3670, 0.011741491515542981), (3671, 0.0), (3672, 0.0), (3673, 0.005205879841327808), (3674, 0.0), (3675, 0.018198854687421218), (3676, 0.0), (3677, 0.0), (3678, 0.0), (3679, 0.0), (3680, 0.00547329729436765), (3681, 0.0), (3682, 0.0), (3683, 0.0), (3684, 0.020690402509029877), (3685, 0.0), (3686, 0.0), (3687, 0.0), (3688, 0.0), (3689, 0.01622331338419524), (3690, 0.0), (3691, 0.0), (3692, 0.02648410984934755), (3693, 0.0), (3694, 0.020158237566293122), (3695, 0.0), (3696, 0.004988798829849101), (3697, 0.0), (3698, 0.0), (3699, 0.011939841774106029), (3700, 0.0), (3701, 0.0), (3702, 0.0), (3703, 0.0), (3704, 0.00527347109108952), (3705, 0.0046330712817354795), (3706, 0.004518812625221285), (3707, 0.005078096542736745), (3708, 0.012251487935822971), (3709, 0.0), (3710, 0.0), (3711, 0.029909084731093084), (3712, 0.0), (3713, 0.0), (3714, 0.0), (3715, 0.0), (3716, 0.0), (3717, 0.0), (3718, 0.0), (3719, 0.0), (3720, 0.03914193175118523), (3721, 0.0), (3722, 0.0), (3723, 0.0), (3724, 0.0), (3725, 0.0), (3726, 0.0), (3727, 0.005764452293958423), (3728, 0.08270334885643715), (3729, 0.0), (3730, 0.0), (3731, 0.04499764091691354), (3732, 0.0), (3733, 0.012226922717722731), (3734, 0.005016691915742072), (3735, 0.0), (3736, 0.0), (3737, 0.0), (3738, 0.0), (3739, 0.004707493451951986), (3740, 0.0), (3741, 0.012905214919571174), (3742, 0.004563344997563787), (3743, 0.0), (3744, 0.0), (3745, 0.006275243741667466), (3746, 0.0), (3747, 0.011909727854313115), (3748, 0.00850615162956171), (3749, 0.0054605199590831875), (3750, 0.016459582106752416), (3751, 0.03586220340606848), (3752, 0.008535989516155649), (3753, 0.0583553540380063), (3754, 0.004949777044808961), (3755, 0.004704921978194789), (3756, 0.050469733886226734), (3757, 0.0), (3758, 0.0), (3759, 0.0), (3760, 0.0), (3761, 0.0), (3762, 0.0), (3763, 0.005445241716117824), (3764, 0.0), (3765, 0.005244354596133242), (3766, 0.005428585706331471), (3767, 0.014586765677883865), (3768, 0.0), (3769, 0.0), (3770, 0.0), (3771, 0.005275849045931117), (3772, 0.005517084125414382), (3773, 0.0), (3774, 0.0), (3775, 0.0), (3776, 0.0), (3777, 0.01777973477642247), (3778, 0.026478902509069507), (3779, 0.0), (3780, 0.0052859696894312054), (3781, 0.0), (3782, 0.0), (3783, 0.0), (3784, 0.01585801265054664), (3785, 0.0), (3786, 0.0), (3787, 0.0), (3788, 0.0), (3789, 0.0), (3790, 0.0), (3791, 0.0), (3792, 0.0), (3793, 0.053164136084489555), (3794, 0.0110839000513568), (3795, 0.0), (3796, 0.0), (3797, 0.01808394511244233), (3798, 0.0), (3799, 0.004840410404760335), (3800, 0.0), (3801, 0.02959210502878306), (3802, 0.0), (3803, 0.0), (3804, 0.0), (3805, 0.0), (3806, 0.0), (3807, 0.005204299338299623), (3808, 0.0), (3809, 0.00572606766122076), (3810, 0.022231251435863648), (3811, 0.005078001088144116), (3812, 0.0), (3813, 0.0047106560738166565), (3814, 0.0), (3815, 0.0), (3816, 0.0), (3817, 0.0), (3818, 0.0), (3819, 0.0051841382046760595), (3820, 0.0), (3821, 0.009195721703935518), (3822, 0.01572573435972826), (3823, 0.0), (3824, 0.0), (3825, 0.010156290944896196), (3826, 0.014794082707739742), (3827, 0.0048846110887242), (3828, 0.01814511290914252), (3829, 0.014447114516651285), (3830, 0.0), (3831, 0.0), (3832, 0.005478091665398074), (3833, 0.0), (3834, 0.0), (3835, 0.029282364662812636), (3836, 0.0), (3837, 0.0), (3838, 0.0), (3839, 0.023151780753670567), (3840, 0.0), (3841, 0.0), (3842, 0.0), (3843, 0.0), (3844, 0.0), (3845, 0.005409435027907021), (3846, 0.0), (3847, 0.0), (3848, 0.0), (3849, 0.0), (3850, 0.03626076091370568), (3851, 0.0), (3852, 0.0337015987256823), (3853, 0.019345141353688002), (3854, 0.01725275716765065), (3855, 0.004473000742773167), (3856, 0.0), (3857, 0.019982312185739756), (3858, 0.0), (3859, 0.0), (3860, 0.01100323849998004), (3861, 0.019668406004083303), (3862, 0.017503169547952786), (3863, 0.0), (3864, 0.0110840938040105), (3865, 0.010480665054988979), (3866, 0.006059182725380263), (3867, 0.051277575377378565), (3868, 0.03435764260469114), (3869, 0.0), (3870, 0.0), (3871, 0.03625763990574397), (3872, 0.0), (3873, 0.005546622540573295), (3874, 0.0), (3875, 0.02992196293362357), (3876, 0.005422037975617384), (3877, 0.0), (3878, 0.0), (3879, 0.0), (3880, 0.014295886848346775), (3881, 0.0), (3882, 0.005484300441973438), (3883, 0.004900876366645209), (3884, 0.0), (3885, 0.0), (3886, 0.0), (3887, 0.0), (3888, 0.005227017570647842), (3889, 0.0), (3890, 0.004857473299131661), (3891, 0.0), (3892, 0.00559328624553905), (3893, 0.005560918222147621), (3894, 0.0), (3895, 0.025646300019050147), (3896, 0.0), (3897, 0.0), (3898, 0.004542054192295266), (3899, 0.0), (3900, 0.005236969293880725), (3901, 0.005305567765587735), (3902, 0.00603089345176398), (3903, 0.017891931236728855), (3904, 0.03966513744381969), (3905, 0.0), (3906, 0.0), (3907, 0.0), (3908, 0.0), (3909, 0.011295735234728582), (3910, 0.004672391525019392), (3911, 0.0), (3912, 0.0), (3913, 0.030866992127303892), (3914, 0.0), (3915, 0.00553391461569125), (3916, 0.0), (3917, 0.005057656449337336), (3918, 0.0), (3919, 0.005406973255733387), (3920, 0.005138671728183732), (3921, 0.0), (3922, 0.005658706982511858), (3923, 0.030531672003141292), (3924, 0.018006219840750428), (3925, 0.006498489024410784), (3926, 0.010495133941969265), (3927, 0.02940965637107723), (3928, 0.004523663774425709), (3929, 0.0), (3930, 0.0), (3931, 0.0), (3932, 0.004983299012493735), (3933, 0.0), (3934, 0.025140632253423324), (3935, 0.0), (3936, 0.0), (3937, 0.0), (3938, 0.0), (3939, 0.0), (3940, 0.009210821631227951), (3941, 0.012511010557459394), (3942, 0.0), (3943, 0.0), (3944, 0.0), (3945, 0.0), (3946, 0.01859191992014045), (3947, 0.047492452300133804), (3948, 0.0), (3949, 0.0), (3950, 0.0), (3951, 0.011647043613950688), (3952, 0.005205029456345598), (3953, 0.00518848822578776), (3954, 0.01856573102299132), (3955, 0.05254660165265943), (3956, 0.00433332364574373), (3957, 0.00941608279480526), (3958, 0.020356713665468176), (3959, 0.01794725617345558), (3960, 0.005531062941470015), (3961, 0.03564034838207168), (3962, 0.005162693458863132), (3963, 0.0), (3964, 0.0), (3965, 0.0), (3966, 0.0), (3967, 0.0), (3968, 0.0), (3969, 0.0), (3970, 0.0), (3971, 0.0), (3972, 0.0), (3973, 0.01619518316773895), (3974, 0.00461517633913098), (3975, 0.0), (3976, 0.02003661136459946), (3977, 0.0), (3978, 0.011878587801511072), (3979, 0.0), (3980, 0.0), (3981, 0.0), (3982, 0.0), (3983, 0.04932978982118759), (3984, 0.0048077498152909), (3985, 0.0), (3986, 0.0), (3987, 0.0), (3988, 0.0), (3989, 0.0), (3990, 0.005865075570674225), (3991, 0.0), (3992, 0.018994070613394913), (3993, 0.01129460861118059), (3994, 0.0), (3995, 0.0), (3996, 0.0), (3997, 0.0), (3998, 0.0), (3999, 0.0), (4000, 0.013333234067707369), (4001, 0.010835956775871913), (4002, 0.0), (4003, 0.0), (4004, 0.033336739775834484), (4005, 0.043682369466202305), (4006, 0.0), (4007, 0.01269218293787856), (4008, 0.012828826097713669), (4009, 0.009735662115699317), (4010, 0.0), (4011, 0.004986557376880422), (4012, 0.022978321536926482), (4013, 0.0), (4014, 0.004719702840136671), (4015, 0.0), (4016, 0.02554721069278977), (4017, 0.0), (4018, 0.0), (4019, 0.0), (4020, 0.0047702424433282), (4021, 0.0), (4022, 0.0), (4023, 0.0), (4024, 0.004739716030511071), (4025, 0.016575269819186635), (4026, 0.0), (4027, 0.0), (4028, 0.0), (4029, 0.0), (4030, 0.0), (4031, 0.0), (4032, 0.01127145216543959), (4033, 0.004847132333706762), (4034, 0.0), (4035, 0.03783127381728791), (4036, 0.004973285161459592), (4037, 0.0), (4038, 0.005408991419996126), (4039, 0.0), (4040, 0.0), (4041, 0.0), (4042, 0.0), (4043, 0.0), (4044, 0.0), (4045, 0.0), (4046, 0.00553388952502668), (4047, 0.0), (4048, 0.011811542136495844), (4049, 0.0), (4050, 0.02014465002384571), (4051, 0.005426951962149531), (4052, 0.0), (4053, 0.02412838518656338), (4054, 0.004915753615834361), (4055, 0.010767521428175273), (4056, 0.005281444816555243), (4057, 0.008940514951033093), (4058, 0.0), (4059, 0.0), (4060, 0.010953489079070159), (4061, 0.010970170187732425), (4062, 0.0654055953432963), (4063, 0.0), (4064, 0.045645868044677795), (4065, 0.0), (4066, 0.004324279092358398), (4067, 0.0), (4068, 0.016862816604781655), (4069, 0.005215562941032871), (4070, 0.0), (4071, 0.0), (4072, 0.0), (4073, 0.0), (4074, 0.004424193932392658), (4075, 0.0), (4076, 0.0), (4077, 0.0), (4078, 0.0), (4079, 0.005075898082152616), (4080, 0.0), (4081, 0.01916388937149818), (4082, 0.005895756612246712), (4083, 0.0), (4084, 0.0), (4085, 0.00480909165721929), (4086, 0.0), (4087, 0.005134633165718262), (4088, 0.01246469300113704), (4089, 0.0), (4090, 0.0), (4091, 0.0), (4092, 0.004936526725876348), (4093, 0.0), (4094, 0.0), (4095, 0.015911169232172104), (4096, 0.009824626187959117), (4097, 0.0), (4098, 0.005405632846868078), (4099, 0.01141701289275132), (4100, 0.0), (4101, 0.005003534027199003), (4102, 0.0), (4103, 0.0), (4104, 0.03180082395318477), (4105, 0.0), (4106, 0.010837957165315933), (4107, 0.0), (4108, 0.0), (4109, 0.0), (4110, 0.010418940557657385), (4111, 0.005436866321945687), (4112, 0.0), (4113, 0.005129597855085418), (4114, 0.0), (4115, 0.0), (4116, 0.00515256339143774), (4117, 0.0057473202922895), (4118, 0.01237531771803276), (4119, 0.0), (4120, 0.0), (4121, 0.014072314626463741), (4122, 0.0), (4123, 0.005637108269054852), (4124, 0.013195342786060101), (4125, 0.0), (4126, 0.0), (4127, 0.0), (4128, 0.03304122445427655), (4129, 0.0), (4130, 0.005865128911226635), (4131, 0.0), (4132, 0.0), (4133, 0.0053081067472351955), (4134, 0.0), (4135, 0.005043012897079526), (4136, 0.0), (4137, 0.051664228864284484), (4138, 0.005692781878058705), (4139, 0.0), (4140, 0.0), (4141, 0.04814516333058519), (4142, 0.0), (4143, 0.00505199928216282), (4144, 0.0), (4145, 0.0), (4146, 0.0), (4147, 0.0), (4148, 0.0), (4149, 0.02174801218761148), (4150, 0.0), (4151, 0.004158548837442419), (4152, 0.045480229946916806), (4153, 0.0), (4154, 0.004985289831843565), (4155, 0.0), (4156, 0.024028754249054846), (4157, 0.0), (4158, 0.0086306768305871), (4159, 0.0), (4160, 0.0051691407563007), (4161, 0.0), (4162, 0.0), (4163, 0.0053308024364821325), (4164, 0.010534919431021174), (4165, 0.047065667695912874), (4166, 0.0), (4167, 0.0), (4168, 0.0), (4169, 0.0), (4170, 0.0), (4171, 0.0031558144047870627), (4172, 0.0), (4173, 0.0), (4174, 0.0), (4175, 0.0), (4176, 0.02388860920734759), (4177, 0.03355657967966486), (4178, 0.005450172859276914), (4179, 0.0), (4180, 0.0), (4181, 0.0), (4182, 0.012515047664964366), (4183, 0.0050096506394466484), (4184, 0.0), (4185, 0.0), (4186, 0.0), (4187, 0.00581218214371699), (4188, 0.0), (4189, 0.027882536894485534), (4190, 0.0), (4191, 0.0), (4192, 0.01704426833181774), (4193, 0.0), (4194, 0.0), (4195, 0.044052644075171954), (4196, 0.01105497212621978), (4197, 0.0), (4198, 0.0), (4199, 0.0), (4200, 0.0), (4201, 0.0), (4202, 0.006184481195220984), (4203, 0.016726875025925618), (4204, 0.0), (4205, 0.016681325996251314), (4206, 0.0), (4207, 0.0), (4208, 0.0), (4209, 0.0), (4210, 0.01100632393405954), (4211, 0.0), (4212, 0.0), (4213, 0.0), (4214, 0.0), (4215, 0.0), (4216, 0.0118893518633745), (4217, 0.011384408746531096), (4218, 0.0), (4219, 0.0), (4220, 0.0), (4221, 0.0), (4222, 0.0), (4223, 0.0), (4224, 0.0), (4225, 0.0), (4226, 0.010906047688902196), (4227, 0.01326565879427161), (4228, 0.0), (4229, 0.0), (4230, 0.0), (4231, 0.015733489025871072), (4232, 0.009398970106687103), (4233, 0.012884035287380653), (4234, 0.0), (4235, 0.012298694491652537), (4236, 0.0), (4237, 0.0), (4238, 0.0), (4239, 0.0), (4240, 0.0), (4241, 0.0), (4242, 0.012802286633804423), (4243, 0.005256610509267313), (4244, 0.005952574814057029), (4245, 0.0), (4246, 0.011047209243188617), (4247, 0.004349263892795748), (4248, 0.0), (4249, 0.005518936774969818), (4250, 0.0), (4251, 0.0), (4252, 0.0), (4253, 0.0), (4254, 0.0), (4255, 0.016422526201785335), (4256, 0.0), (4257, 0.015215542986589118), (4258, 0.0), (4259, 0.005261142984655575), (4260, 0.0), (4261, 0.008712904924646292), (4262, 0.0), (4263, 0.0), (4264, 0.0), (4265, 0.0), (4266, 0.004782265449647578), (4267, 0.0), (4268, 0.07221289899614856), (4269, 0.0052462881784340444), (4270, 0.0), (4271, 0.0), (4272, 0.010538898791017394), (4273, 0.0), (4274, 0.0), (4275, 0.0), (4276, 0.0), (4277, 0.0), (4278, 0.0), (4279, 0.0), (4280, 0.0), (4281, 0.02157382904300542), (4282, 0.004633017185732414), (4283, 0.02820638909120038), (4284, 0.0045939173049053105), (4285, 0.0), (4286, 0.004669051652349845), (4287, 0.00481575867564919), (4288, 0.016129909760489655), (4289, 0.0), (4290, 0.0), (4291, 0.0), (4292, 0.0), (4293, 0.005030342936800954), (4294, 0.0), (4295, 0.00597316167227957), (4296, 0.0), (4297, 0.0), (4298, 0.0), (4299, 0.0), (4300, 0.0), (4301, 0.0), (4302, 0.0), (4303, 0.010815062932084134), (4304, 0.0), (4305, 0.0), (4306, 0.0), (4307, 0.0), (4308, 0.0), (4309, 0.0049924756675241416), (4310, 0.0), (4311, 0.004026846018704354), (4312, 0.0), (4313, 0.0), (4314, 0.021355166250402784), (4315, 0.0), (4316, 0.0), (4317, 0.0), (4318, 0.0), (4319, 0.0), (4320, 0.0), (4321, 0.023318674574933133), (4322, 0.0), (4323, 0.0), (4324, 0.0), (4325, 0.0109775538599741), (4326, 0.0), (4327, 0.0), (4328, 0.0), (4329, 0.0), (4330, 0.005366344486790571), (4331, 0.0), (4332, 0.0), (4333, 0.005320117629749326), (4334, 0.005039296041768686), (4335, 0.013536099583588809), (4336, 0.0052786570652878775), (4337, 0.011396832126614208), (4338, 0.0), (4339, 0.0), (4340, 0.0), (4341, 0.0), (4342, 0.00986634588266964), (4343, 0.0), (4344, 0.015521160033558917), (4345, 0.005185923076965979), (4346, 0.0), (4347, 0.0), (4348, 0.0), (4349, 0.020377287481112817), (4350, 0.0047595663663265305), (4351, 0.0), (4352, 0.0), (4353, 0.0), (4354, 0.0), (4355, 0.0), (4356, 0.004783129239718477), (4357, 0.005442767244417426), (4358, 0.0), (4359, 0.0), (4360, 0.0), (4361, 0.0), (4362, 0.004968937238461804), (4363, 0.0), (4364, 0.0), (4365, 0.0), (4366, 0.010721010801236911), (4367, 0.0), (4368, 0.005385850997196001), (4369, 0.005355208969945898), (4370, 0.0), (4371, 0.005510935951851997), (4372, 0.0), (4373, 0.008201130630031023), (4374, 0.015541057908185232), (4375, 0.11526658229627211), (4376, 0.0), (4377, 0.0), (4378, 0.04490195612651899), (4379, 0.017500083577755475), (4380, 0.02371397961645668), (4381, 0.0), (4382, 0.027532666798774065), (4383, 0.0), (4384, 0.0), (4385, 0.0), (4386, 0.0), (4387, 0.01712126942154913), (4388, 0.01095740167356364), (4389, 0.07269972248669884), (4390, 0.0), (4391, 0.0), (4392, 0.0), (4393, 0.0), (4394, 0.004905212342443936), (4395, 0.02323795737536386), (4396, 0.0), (4397, 0.0), (4398, 0.06478016835930794), (4399, 0.019239917903847388), (4400, 0.0), (4401, 0.0055106266182659526), (4402, 0.038906011189084586), (4403, 0.018088198883185407), (4404, 0.0), (4405, 0.0), (4406, 0.0), (4407, 0.0), (4408, 0.0), (4409, 0.0), (4410, 0.0), (4411, 0.004857309862384437), (4412, 0.005575643342090515), (4413, 0.0), (4414, 0.0), (4415, 0.0), (4416, 0.0), (4417, 0.0), (4418, 0.0), (4419, 0.004990313662121133), (4420, 0.005614151998960075), (4421, 0.0), (4422, 0.005744349585262181), (4423, 0.0), (4424, 0.0), (4425, 0.0), (4426, 0.0), (4427, 0.0), (4428, 0.0), (4429, 0.004849999019702612), (4430, 0.005795625125797813), (4431, 0.0), (4432, 0.04135240504478187), (4433, 0.0), (4434, 0.0), (4435, 0.01322182421333964), (4436, 0.06598071542558993), (4437, 0.0), (4438, 0.0), (4439, 0.0), (4440, 0.011711184127930886), (4441, 0.0), (4442, 0.012874780734108957), (4443, 0.037747403246010384), (4444, 0.005874828571075819), (4445, 0.0), (4446, 0.004895662525956368), (4447, 0.0), (4448, 0.005306606952097667), (4449, 0.0), (4450, 0.0351526848907085), (4451, 0.0), (4452, 0.04541344543146347), (4453, 0.0), (4454, 0.0), (4455, 0.0), (4456, 0.06854211469661303), (4457, 0.0), (4458, 0.0), (4459, 0.010264411565939437), (4460, 0.0), (4461, 0.0), (4462, 0.0), (4463, 0.0), (4464, 0.0), (4465, 0.013362940322369328), (4466, 0.020312836410180567), (4467, 0.011059212600745192), (4468, 0.0), (4469, 0.013177461711198005), (4470, 0.005364999043151896), (4471, 0.0), (4472, 0.004747284443224032), (4473, 0.00523298701522765), (4474, 0.01148073979848398), (4475, 0.016871690470061092), (4476, 0.0), (4477, 0.005537051837213867), (4478, 0.0), (4479, 0.004866883111684785), (4480, 0.0), (4481, 0.011528178550577473), (4482, 0.019322066074134232), (4483, 0.0), (4484, 0.006376717614858131), (4485, 0.0), (4486, 0.011355099046108447), (4487, 0.004891452566654609), (4488, 0.046312885537180534), (4489, 0.005348794655284544), (4490, 0.005350251411728213), (4491, 0.0), (4492, 0.023517250727281103), (4493, 0.0), (4494, 0.005511170295305858), (4495, 0.0), (4496, 0.0), (4497, 0.0), (4498, 0.0), (4499, 0.0), (4500, 0.0), (4501, 0.004986601814511635), (4502, 0.01585901601163067), (4503, 0.016495610622164498), (4504, 0.020749318830483057), (4505, 0.0), (4506, 0.0), (4507, 0.005767239738755752), (4508, 0.0), (4509, 0.0), (4510, 0.01221855749292481), (4511, 0.017297984923012415), (4512, 0.011529941181042877), (4513, 0.0), (4514, 0.0), (4515, 0.0), (4516, 0.0060183801793424465), (4517, 0.004710240412057525), (4518, 0.0), (4519, 0.0), (4520, 0.0058103681962512425), (4521, 0.005556056232135081), (4522, 0.0049919453467300486), (4523, 0.004475458256718834), (4524, 0.0), (4525, 0.0), (4526, 0.0), (4527, 0.0), (4528, 0.005525644131326112), (4529, 0.0), (4530, 0.005763305366955462), (4531, 0.013253008377246122), (4532, 0.0), (4533, 0.04045981860955246), (4534, 0.021210602421523485), (4535, 0.0058141690612788025), (4536, 0.00496167166395108), (4537, 0.0), (4538, 0.0), (4539, 0.0), (4540, 0.0), (4541, 0.0), (4542, 0.0), (4543, 0.0), (4544, 0.0), (4545, 0.0), (4546, 0.005989917140234068), (4547, 0.0), (4548, 0.02915673009655914), (4549, 0.0), (4550, 0.0), (4551, 0.017055679638327402), (4552, 0.0), (4553, 0.011309844765561315), (4554, 0.021845195562267265), (4555, 0.007470169276496081), (4556, 0.0), (4557, 0.012671104299958862), (4558, 0.0), (4559, 0.0), (4560, 0.0), (4561, 0.0), (4562, 0.0), (4563, 0.005242497009278947), (4564, 0.011312033443374772), (4565, 0.0), (4566, 0.005103289382594487), (4567, 0.0), (4568, 0.0), (4569, 0.0), (4570, 0.0), (4571, 0.006705236197380572), (4572, 0.0), (4573, 0.004561181820940458), (4574, 0.0), (4575, 0.005598893512775981), (4576, 0.010511316497899924), (4577, 0.0), (4578, 0.0), (4579, 0.0), (4580, 0.0), (4581, 0.01289549923407412), (4582, 0.0), (4583, 0.020375602134116006), (4584, 0.0), (4585, 0.0), (4586, 0.0), (4587, 0.0), (4588, 0.05505711468894469), (4589, 0.00512216256831701), (4590, 0.03542349298757492), (4591, 0.005040165798425523), (4592, 0.0), (4593, 0.004840074044405519), (4594, 0.042055078420919434), (4595, 0.0), (4596, 0.010772108358042203), (4597, 0.0), (4598, 0.0), (4599, 0.0), (4600, 0.0), (4601, 0.0), (4602, 0.03978590901157547), (4603, 0.005148923691327229), (4604, 0.0), (4605, 0.012289565335034282), (4606, 0.0), (4607, 0.0), (4608, 0.03292430425823041), (4609, 0.0), (4610, 0.015570626068896781), (4611, 0.0), (4612, 0.0), (4613, 0.0), (4614, 0.02071888397318321), (4615, 0.0), (4616, 0.0), (4617, 0.005835017994454706), (4618, 0.0), (4619, 0.005212397051595408), (4620, 0.0), (4621, 0.0), (4622, 0.0), (4623, 0.011709601373718397), (4624, 0.005620370355971813), (4625, 0.005426804933783053), (4626, 0.00413824227799449), (4627, 0.017058956057606003), (4628, 0.0), (4629, 0.004899408400660875), (4630, 0.0), (4631, 0.0), (4632, 0.005175414679032829), (4633, 0.0), (4634, 0.0), (4635, 0.0), (4636, 0.004363884564036533), (4637, 0.005408252595081564), (4638, 0.004445507887297562), (4639, 0.0), (4640, 0.005405373990914874), (4641, 0.0), (4642, 0.0), (4643, 0.004663137010368875), (4644, 0.0), (4645, 0.0), (4646, 0.0), (4647, 0.0), (4648, 0.0), (4649, 0.010426457014823205), (4650, 0.005213355740341606), (4651, 0.0), (4652, 0.0), (4653, 0.0), (4654, 0.0), (4655, 0.0), (4656, 0.011412066104897357), (4657, 0.005769363671941019), (4658, 0.026355980220746224), (4659, 0.0), (4660, 0.005466186766281562), (4661, 0.0), (4662, 0.0), (4663, 0.0), (4664, 0.0), (4665, 0.0), (4666, 0.0), (4667, 0.0), (4668, 0.005000362089136703), (4669, 0.01830085500804614), (4670, 0.004814523403978207), (4671, 0.0), (4672, 0.0), (4673, 0.016324369606959002), (4674, 0.003798137548515511), (4675, 0.0), (4676, 0.0), (4677, 0.0), (4678, 0.0), (4679, 0.022209088651351277), (4680, 0.0), (4681, 0.0), (4682, 0.06785385417836504), (4683, 0.0), (4684, 0.031689324650829055), (4685, 0.010391718760835389), (4686, 0.0), (4687, 0.0), (4688, 0.0), (4689, 0.0), (4690, 0.0), (4691, 0.0), (4692, 0.0), (4693, 0.0), (4694, 0.0), (4695, 0.0), (4696, 0.0), (4697, 0.0), (4698, 0.0), (4699, 0.0048713432863482795), (4700, 0.0), (4701, 0.025412861503353583), (4702, 0.0), (4703, 0.03710163916484167), (4704, 0.0), (4705, 0.0), (4706, 0.005079543849136973), (4707, 0.0), (4708, 0.0), (4709, 0.0), (4710, 0.005781364158737803), (4711, 0.0), (4712, 0.0044460697726241526), (4713, 0.005190763375231758), (4714, 0.0), (4715, 0.0), (4716, 0.0), (4717, 0.0), (4718, 0.00498953873003219), (4719, 0.0), (4720, 0.0), (4721, 0.03658770568043473), (4722, 0.005174875082022304), (4723, 0.005534200996128964), (4724, 0.01238686890943733), (4725, 0.0), (4726, 0.009443581156770634), (4727, 0.046412451500662213), (4728, 0.0), (4729, 0.0), (4730, 0.0), (4731, 0.02554131022795076), (4732, 0.0), (4733, 0.004172559267140426), (4734, 0.005045687417767898), (4735, 0.012094184146504833), (4736, 0.0), (4737, 0.0), (4738, 0.0), (4739, 0.02879949319571331), (4740, 0.0), (4741, 0.0), (4742, 0.0), (4743, 0.0), (4744, 0.0), (4745, 0.0), (4746, 0.0), (4747, 0.012000262317029454), (4748, 0.0105664276318227), (4749, 0.0), (4750, 0.0), (4751, 0.0), (4752, 0.0037605197168572775), (4753, 0.0), (4754, 0.0), (4755, 0.0), (4756, 0.0), (4757, 0.0), (4758, 0.0), (4759, 0.0)]\n"
          ]
        }
      ]
    },
    {
      "cell_type": "code",
      "source": [
        "len(Recommendation_Score)"
      ],
      "metadata": {
        "colab": {
          "base_uri": "https://localhost:8080/"
        },
        "id": "umU0nPmAU_QY",
        "outputId": "ef32e265-5c5f-4c58-82ec-2a6bf16aa800"
      },
      "execution_count": null,
      "outputs": [
        {
          "output_type": "execute_result",
          "data": {
            "text/plain": [
              "4760"
            ]
          },
          "metadata": {},
          "execution_count": 48
        }
      ]
    },
    {
      "cell_type": "code",
      "source": [
        "Sorted_Similar_Movies = sorted(Recommendation_Score, key = lambda x:x[1], reverse = True)\n",
        "print(Sorted_Similar_Movies)"
      ],
      "metadata": {
        "colab": {
          "base_uri": "https://localhost:8080/"
        },
        "id": "2aljYwswVJX0",
        "outputId": "b1b9d015-83d1-42cc-afc0-72d971b996d3"
      },
      "execution_count": null,
      "outputs": [
        {
          "output_type": "stream",
          "name": "stdout",
          "text": [
            "[(2692, 1.0000000000000009), (4375, 0.11526658229627211), (110, 0.11372761373461292), (1994, 0.1080936943897858), (1977, 0.10197855503964726), (1341, 0.10071211403580205), (1886, 0.10047280668004549), (3480, 0.09725714090418164), (62, 0.09331074428328223), (3053, 0.09310397192527085), (254, 0.08931940021891764), (1021, 0.08855020851603916), (2538, 0.08661603163383803), (3728, 0.08270334885643715), (2318, 0.07745888601258781), (952, 0.07669981088171955), (292, 0.07587290841276184), (3450, 0.07385697431772884), (670, 0.07345718861511531), (4389, 0.07269972248669884), (4268, 0.07221289899614856), (1134, 0.07214679520319169), (1243, 0.0717994395740216), (2112, 0.07105463008703417), (3385, 0.0708955121294154), (3334, 0.07088012723011207), (137, 0.07078625589407127), (1845, 0.07003043528349821), (2653, 0.0689291338361957), (408, 0.06887064561964235), (1809, 0.06864045188995782), (2751, 0.06860787740731586), (4456, 0.06854211469661303), (4682, 0.06785385417836504), (2579, 0.06750574324363562), (4436, 0.06598071542558993), (2893, 0.06561461829834057), (3395, 0.06557947897187003), (2276, 0.0654666751320118), (4062, 0.0654055953432963), (4398, 0.06478016835930794), (145, 0.06356234569883477), (1878, 0.06352578771337032), (877, 0.06314578067639273), (3023, 0.06270650303835332), (1030, 0.062259914283821036), (2294, 0.06155735525680241), (2374, 0.061163688811751646), (2630, 0.06110171952506409), (2742, 0.06099671477754714), (2133, 0.06040700674702115), (412, 0.058717621873368965), (2944, 0.05846194982065716), (3753, 0.0583553540380063), (479, 0.05800814586630893), (1337, 0.057881650692282724), (3203, 0.05782842427210443), (1850, 0.057223543652746574), (3552, 0.05689257576340933), (2550, 0.05672656434889685), (1358, 0.056670351102055136), (3091, 0.05624624292083972), (313, 0.05585596520638749), (438, 0.05509628639727565), (4588, 0.05505711468894469), (2191, 0.054997336699556545), (519, 0.05488569083556892), (2530, 0.054829911717347954), (1506, 0.05464721742838145), (1292, 0.05405229957110788), (1248, 0.053974943231110226), (615, 0.05372415113328279), (1012, 0.05337890178443233), (3408, 0.05324080266845192), (3793, 0.053164136084489555), (1241, 0.052661307769413364), (1871, 0.05255470399461952), (3955, 0.05254660165265943), (637, 0.0525243985709232), (3427, 0.052183313526856824), (904, 0.0521810253332787), (161, 0.05206345678029807), (1085, 0.051805783594968284), (4137, 0.051664228864284484), (3867, 0.051277575377378565), (210, 0.051031064212030006), (788, 0.05100901679988136), (1527, 0.05077855876355333), (2212, 0.05066304905517244), (3756, 0.050469733886226734), (1676, 0.050416817844359196), (3511, 0.05030509468220383), (89, 0.05015209185394598), (1982, 0.05007196394718878), (1647, 0.05006755364717809), (3276, 0.04979668733598274), (2517, 0.04966353209902922), (1237, 0.04966291576532511), (3983, 0.04932978982118759), (1389, 0.04929561926688019), (774, 0.04924501441304076), (1393, 0.04920229125106263), (44, 0.048967635791708604), (682, 0.04885851645687708), (578, 0.04866936848053717), (1024, 0.04857526630970172), (3571, 0.04853525739282542), (421, 0.048528374755727646), (818, 0.04832403221595759), (4141, 0.04814516333058519), (1675, 0.04812353479002999), (2082, 0.048099398741551926), (2417, 0.04774589029901309), (3463, 0.047570658421726725), (1885, 0.047520942606378805), (3947, 0.047492452300133804), (185, 0.0474160835469709), (2316, 0.047409996184662906), (108, 0.047381559241374716), (4165, 0.047065667695912874), (2371, 0.04700607023410504), (2869, 0.046867099336610575), (1300, 0.046754114379292576), (4727, 0.046412451500662213), (2012, 0.046379819175120976), (4488, 0.046312885537180534), (1383, 0.046195570141528), (1702, 0.04612193320743855), (1118, 0.046033982450542535), (632, 0.04598442373570028), (812, 0.045812590039969424), (1837, 0.04574673277797688), (4064, 0.045645868044677795), (4152, 0.045480229946916806), (4452, 0.04541344543146347), (3315, 0.04513901115150969), (3498, 0.04501909772139778), (3731, 0.04499764091691354), (1379, 0.044966174264302335), (4378, 0.04490195612651899), (1369, 0.04433825426605561), (95, 0.04413606031578466), (166, 0.044090737431966356), (4195, 0.044052644075171954), (1146, 0.04380681503873574), (4005, 0.043682369466202305), (2365, 0.04363282427235294), (1750, 0.04312245272907099), (3430, 0.043072131994392915), (3102, 0.04275151203293098), (1795, 0.042740804119455335), (2868, 0.04269093890786774), (1063, 0.042676518717440076), (3652, 0.042603191275652), (642, 0.0425647244797962), (2706, 0.042511065924085385), (126, 0.042301712279131265), (1482, 0.04218447151455042), (4594, 0.042055078420919434), (2245, 0.042040927538014826), (1868, 0.04189127992668072), (69, 0.04164723074224106), (903, 0.041633695015408964), (3004, 0.0415239259385057), (430, 0.04150765003468708), (4432, 0.04135240504478187), (1095, 0.04080795110901682), (2887, 0.04078491031284394), (1431, 0.04063315923662329), (174, 0.04062286299178626), (1272, 0.04061887630483344), (2100, 0.04055652845560493), (4533, 0.04045981860955246), (540, 0.040306740826338776), (1464, 0.04012586460221898), (3470, 0.040060298226692034), (3574, 0.03983310895248484), (2037, 0.039796258141946914), (4602, 0.03978590901157547), (3904, 0.03966513744381969), (25, 0.03945273394264296), (1648, 0.03944370681044955), (2723, 0.03934900169493604), (1900, 0.03915943362516683), (3255, 0.03915031292353323), (3720, 0.03914193175118523), (1367, 0.03904230909458527), (2782, 0.0389735388589936), (2443, 0.03897059752147604), (4402, 0.038906011189084586), (1398, 0.03875341899850311), (3572, 0.038596807244195945), (2102, 0.038507129484469965), (1568, 0.03845988161020286), (2020, 0.03839521739479151), (2481, 0.03825228332880258), (282, 0.038249783070081575), (1405, 0.03817020534911969), (176, 0.03815080218863173), (250, 0.03802749933684241), (3376, 0.037977538982937514), (4035, 0.03783127381728791), (618, 0.037759403462854065), (4443, 0.037747403246010384), (2876, 0.03764274746069981), (2920, 0.03753782540997245), (629, 0.03732602277151252), (3447, 0.03728540755462084), (1043, 0.037226383513914676), (4703, 0.03710163916484167), (2687, 0.036947954232194165), (515, 0.03684317137128168), (3313, 0.03676531413251999), (4721, 0.03658770568043473), (3556, 0.036567949163193086), (3248, 0.036472413437263436), (112, 0.036407056223801956), (1186, 0.03631055809835483), (3850, 0.03626076091370568), (3871, 0.03625763990574397), (911, 0.036243854181551446), (2981, 0.03617124600243677), (384, 0.03608215348084133), (1046, 0.03594157958307094), (3420, 0.035932890409033275), (1999, 0.03589284677298746), (1763, 0.03586415547895088), (2055, 0.0358637199937321), (3751, 0.03586220340606848), (2710, 0.035795642606061925), (3961, 0.03564034838207168), (459, 0.03553252032498698), (1195, 0.03550845215922573), (1720, 0.035480852877990965), (976, 0.03545772039401854), (4590, 0.03542349298757492), (2908, 0.03530473788079065), (2807, 0.03527249176236867), (465, 0.035155325540023846), (4450, 0.0351526848907085), (424, 0.03514260897148057), (1500, 0.03511484916723194), (84, 0.03508545913464289), (2718, 0.03502181399366708), (1976, 0.03496161431066543), (2413, 0.03493342324730646), (2762, 0.0349013794182036), (2467, 0.03482278949483621), (2221, 0.034774795417441245), (2157, 0.034770865482330174), (3127, 0.034740052499056484), (3655, 0.034565718833608844), (1544, 0.034468089169996004), (1585, 0.03446694309512041), (824, 0.03444836609613588), (2011, 0.03443428121570878), (3017, 0.03438920377502906), (3868, 0.03435764260469114), (3157, 0.03435667667069871), (1283, 0.03428494375667288), (2621, 0.034234256559053045), (566, 0.03405653780267892), (530, 0.033810731773732845), (3852, 0.0337015987256823), (124, 0.03364347091351111), (1990, 0.03361990035434828), (3260, 0.033567804399986426), (4177, 0.03355657967966486), (1068, 0.03338576750266886), (4004, 0.033336739775834484), (2791, 0.033244909010036086), (4128, 0.03304122445427655), (1970, 0.03299581990465581), (3167, 0.03293412268877462), (4608, 0.03292430425823041), (3377, 0.032851391584209834), (269, 0.03248413267800695), (371, 0.03248256816976771), (330, 0.03242403102341929), (15, 0.0323879357560702), (1059, 0.03238210353313939), (3156, 0.03227731293403877), (672, 0.032195310027193745), (240, 0.03212454779193635), (3656, 0.032082254372480454), (2767, 0.03199189008578736), (1492, 0.03182557467959006), (398, 0.03180476106145658), (284, 0.031803762421355866), (4104, 0.03180082395318477), (3488, 0.03173940312496909), (4684, 0.031689324650829055), (3045, 0.03152288824124231), (3344, 0.03142449270788427), (116, 0.03132100401715601), (3913, 0.030866992127303892), (1505, 0.03077889456897322), (1033, 0.030775056718862066), (2026, 0.030724905510019426), (1515, 0.030645776366881712), (2582, 0.03053585962293706), (3923, 0.030531672003141292), (917, 0.030455549302737594), (1671, 0.030236408806577526), (1757, 0.030152773148541617), (138, 0.03011698781801053), (3285, 0.030031686634028675), (1749, 0.030009443168530152), (885, 0.02995145795503684), (3875, 0.02992196293362357), (3711, 0.029909084731093084), (1173, 0.029857502289605542), (1412, 0.029815407146700446), (1314, 0.02979813976358606), (3428, 0.029780758830323845), (1788, 0.029630060688906664), (193, 0.02959312463938852), (3801, 0.02959210502878306), (942, 0.029542240394410817), (3492, 0.029508370758560273), (3362, 0.029462336630814243), (1403, 0.02943490707876524), (3927, 0.02940965637107723), (334, 0.029381702925461314), (3483, 0.029330190287179026), (3835, 0.029282364662812636), (1629, 0.029197805524306376), (4548, 0.02915673009655914), (3083, 0.029132852852313214), (3319, 0.029096600225723603), (383, 0.029036415308565995), (3222, 0.029008925324083255), (1471, 0.028892102786131177), (4739, 0.02879949319571331), (1652, 0.02871396894680218), (2484, 0.028466740860436716), (691, 0.028434175486982058), (2198, 0.028329969556283835), (4283, 0.02820638909120038), (1261, 0.02820532839521137), (175, 0.028164503920260296), (2971, 0.028024211377169143), (1397, 0.027986602780883264), (3010, 0.02795047721277351), (4189, 0.027882536894485534), (553, 0.027858444579440294), (1351, 0.027828403205854738), (3559, 0.027786623310921434), (832, 0.027649955589396317), (2449, 0.027618351861071606), (2638, 0.027604575495963336), (864, 0.02756629913955636), (1985, 0.027545473503893407), (4382, 0.027532666798774065), (3352, 0.027463777328149693), (2560, 0.02740515744804386), (2808, 0.027373277870450914), (870, 0.027337582091578303), (3403, 0.02728670980381336), (2513, 0.02715773082014847), (858, 0.026999115712322587), (1132, 0.026944308597961063), (2995, 0.026909793598691733), (2013, 0.026885237688951825), (1847, 0.02675711108670192), (2867, 0.026737780041782504), (204, 0.026663122642588372), (2646, 0.026584651472450302), (3692, 0.02648410984934755), (3778, 0.026478902509069507), (109, 0.02647773805370246), (2018, 0.026463455488650894), (590, 0.026420379226265583), (3153, 0.02641466778606617), (4658, 0.026355980220746224), (1052, 0.026350371521375666), (2362, 0.026345444693554536), (2027, 0.02624303612111454), (3469, 0.026196844763465666), (2823, 0.026170576691026612), (2487, 0.0261372454274897), (61, 0.026129098701337877), (2647, 0.026114094234760802), (1377, 0.02585617891542477), (1861, 0.025822867766475344), (669, 0.02581644885941029), (2745, 0.02579952248276711), (1245, 0.025758735535134008), (3895, 0.025646300019050147), (3345, 0.02563123646245634), (2347, 0.025597353609412836), (757, 0.02555552144788338), (4016, 0.02554721069278977), (4731, 0.02554131022795076), (442, 0.02552468744512847), (1510, 0.025476847328909712), (4701, 0.025412861503353583), (3144, 0.025254781503857), (364, 0.02522182451521192), (3934, 0.025140632253423324), (643, 0.025098100058600657), (2301, 0.0250959613687888), (2023, 0.025001494174395428), (967, 0.024993229128557604), (3446, 0.02498227829530048), (251, 0.02492816213263603), (1257, 0.02491502306141162), (2553, 0.02491178397840786), (3471, 0.024889043117326728), (1175, 0.02483747786424724), (657, 0.024827730358486812), (1137, 0.0247564167487329), (2931, 0.02471939369237678), (1865, 0.024700240231603797), (3553, 0.024650210053619927), (3036, 0.02461196199411441), (33, 0.02460253331420527), (934, 0.02452777480240953), (1682, 0.024521335994497614), (3111, 0.024456779474987932), (3433, 0.02436760600444836), (2712, 0.024349736003636505), (1707, 0.02427853526623469), (3504, 0.024260193592227218), (795, 0.02417164834032221), (4053, 0.02412838518656338), (768, 0.02406809863883348), (2070, 0.02406115724237725), (4156, 0.024028754249054846), (1365, 0.023944825179488323), (2035, 0.023926130909781265), (4176, 0.02388860920734759), (2645, 0.023760566312323504), (4380, 0.02371397961645668), (2167, 0.02370813495724842), (796, 0.02370001604021468), (409, 0.02369838239763129), (873, 0.023697889963014675), (677, 0.02352928211639419), (261, 0.023527402411974662), (2376, 0.023518030750374452), (4492, 0.023517250727281103), (2598, 0.02347269453339431), (1202, 0.023470449932723375), (3665, 0.023404230644119214), (1386, 0.023397006444178924), (4321, 0.023318674574933133), (213, 0.023265990534234907), (2841, 0.023251946856513238), (1274, 0.023241764779556022), (4395, 0.02323795737536386), (209, 0.02322981873870556), (1074, 0.023208199679792214), (3839, 0.023151780753670567), (222, 0.023133546820724472), (3528, 0.023002227137246516), (4012, 0.022978321536926482), (957, 0.02287320741888298), (1401, 0.022825429737694622), (345, 0.02280412782653841), (968, 0.02278250253718637), (1278, 0.022779678245023572), (3360, 0.022685407936659154), (638, 0.02262671588423034), (2161, 0.022614324267663702), (1216, 0.022606408071701778), (2689, 0.022597521856931608), (1579, 0.02254239839589374), (455, 0.022540376958657512), (1935, 0.022480764969390204), (2149, 0.02246320918732092), (808, 0.02238697725539554), (1003, 0.022341692906631346), (3810, 0.022231251435863648), (4679, 0.022209088651351277), (3518, 0.022086310578864447), (218, 0.02208370158468956), (1895, 0.02205181563000677), (3462, 0.02204239338124382), (1443, 0.022041682401017268), (1270, 0.022016794930234233), (3095, 0.021955374153704306), (2760, 0.021951666453169965), (2469, 0.02192873626568513), (4554, 0.021845195562267265), (2237, 0.02183343822304794), (1053, 0.02181364253452894), (1872, 0.02181274780816213), (1045, 0.021775948360007957), (4149, 0.02174801218761148), (1523, 0.021735857574870572), (1774, 0.021734971911396214), (1129, 0.0217276026518873), (895, 0.021664946804609977), (287, 0.021661145764410437), (1254, 0.021634698732644078), (2119, 0.021606861348507256), (4281, 0.02157382904300542), (2005, 0.02157096315153453), (937, 0.021502307226233464), (586, 0.02148494873694286), (1996, 0.021484517513756334), (776, 0.021399580699617046), (833, 0.02139370994434759), (916, 0.021392961790320228), (929, 0.021380776877474472), (1988, 0.0213609147402644), (4314, 0.021355166250402784), (1361, 0.021269558120226198), (4534, 0.021210602421523485), (3253, 0.021197189800291855), (1817, 0.02118964676112821), (1609, 0.021186076338514662), (947, 0.02116148786279211), (1512, 0.02113674049512007), (2885, 0.021106056002890575), (2258, 0.02110483189553258), (452, 0.021072493185773273), (1331, 0.020951105034625293), (1418, 0.020946397134284988), (1445, 0.02092255749449413), (2917, 0.020848999558646924), (787, 0.020846873452793246), (1064, 0.020841247355845253), (860, 0.02082928295676992), (67, 0.02082570990843576), (609, 0.020816894262954397), (2969, 0.020749895281012457), (4504, 0.020749318830483057), (3284, 0.02074031744136781), (2000, 0.020734787371800692), (4614, 0.02071888397318321), (2650, 0.020714786794197543), (3098, 0.02070633235710254), (3684, 0.020690402509029877), (1417, 0.020646341850659618), (1838, 0.020610789723310385), (2366, 0.020577484004103253), (2639, 0.020518144642145693), (1112, 0.020507137743601214), (1759, 0.020440743762419278), (120, 0.02041816575542939), (1927, 0.020411153536529617), (4349, 0.020377287481112817), (4583, 0.020375602134116006), (296, 0.02036321805782556), (3958, 0.020356713665468176), (4466, 0.020312836410180567), (684, 0.020292349760228548), (3694, 0.020158237566293122), (4050, 0.02014465002384571), (533, 0.020128825515566377), (613, 0.020107989519031918), (2368, 0.020073976973758283), (2440, 0.02006531052609976), (3466, 0.020049490907372968), (3976, 0.02003661136459946), (1184, 0.02003481544499465), (2298, 0.020029187775355704), (2654, 0.02001509731871033), (3857, 0.019982312185739756), (1119, 0.019964509745416328), (3597, 0.019961321259890412), (2874, 0.019956386350465958), (1275, 0.01994055099533836), (43, 0.019937254325118167), (2279, 0.019863157044921188), (1249, 0.01978173900091221), (3000, 0.019771112043124928), (160, 0.019768282757357786), (3861, 0.019668406004083303), (2932, 0.019608851179038607), (2474, 0.01957563356765171), (1741, 0.019569717795466193), (1870, 0.0195377985024907), (1853, 0.01951831821710662), (2795, 0.019515514709994297), (1906, 0.01949615884256088), (3630, 0.019440832717404318), (3154, 0.019418806993649528), (2145, 0.019355658611576544), (763, 0.019345458866140287), (3853, 0.019345141353688002), (779, 0.01933866342113902), (3299, 0.019335282095202126), (543, 0.019329578705499662), (4482, 0.019322066074134232), (1880, 0.01929749321121985), (46, 0.019293132163191222), (2805, 0.019246688193943057), (4399, 0.019239917903847388), (3295, 0.019238930858852536), (2016, 0.019232779445850813), (68, 0.01920256766650406), (48, 0.019191770157712645), (4081, 0.01916388937149818), (3580, 0.01908673688843809), (701, 0.01907361230710102), (21, 0.01900445558665654), (3992, 0.018994070613394913), (86, 0.018820642824503186), (2644, 0.018820296963425628), (1090, 0.018753314942215406), (2522, 0.018713020246615468), (1997, 0.01870190235864536), (1821, 0.018676736051737548), (989, 0.018663751088162657), (1716, 0.01864430603308417), (2919, 0.018638551005875702), (3019, 0.01862632698305322), (3375, 0.01860840098302514), (3946, 0.01859191992014045), (1957, 0.01858507323765489), (203, 0.018581038645074596), (3954, 0.01856573102299132), (51, 0.01856246010271273), (502, 0.018532583356840257), (534, 0.018519464004059703), (510, 0.01848209132837754), (1141, 0.01844433087579883), (762, 0.018397791841860966), (2214, 0.01837486113782072), (88, 0.01831063195076683), (4669, 0.01830085500804614), (2097, 0.018278917918951653), (2784, 0.018269913997704248), (2334, 0.018227532782436287), (3437, 0.018227487130441433), (3275, 0.01821664717529151), (896, 0.018200687468851746), (280, 0.01819927516360984), (3675, 0.018198854687421218), (1152, 0.018183339161979895), (7, 0.018173302582000683), (2290, 0.018168166926341194), (3828, 0.01814511290914252), (3043, 0.018142892232717502), (4403, 0.018088198883185407), (3797, 0.01808394511244233), (52, 0.01808066944059397), (106, 0.018059788190478904), (1798, 0.01805054926170777), (370, 0.018024571505648197), (3279, 0.018010175609936972), (3924, 0.018006219840750428), (545, 0.01799731869258874), (75, 0.017964862791646486), (3959, 0.01794725617345558), (2489, 0.017934562011245405), (2040, 0.017928640846024205), (3903, 0.017891931236728855), (2353, 0.017855901282519803), (2406, 0.017809165294218582), (3210, 0.017801851359712816), (3777, 0.01777973477642247), (1232, 0.017778706424910494), (270, 0.017774452651999527), (1342, 0.017773000071777366), (844, 0.01776554319280331), (1252, 0.01773886258727067), (2053, 0.01773149473959431), (57, 0.017716259285247282), (450, 0.017657366944117472), (2254, 0.01765495114351714), (2903, 0.017635697537350423), (1317, 0.01763475125847276), (1967, 0.017631776282748146), (119, 0.017595134304352125), (847, 0.017585005249199464), (2934, 0.017570000187698612), (2961, 0.017550888984291493), (3328, 0.017533272457720885), (3862, 0.017503169547952786), (4379, 0.017500083577755475), (1224, 0.017493234591041237), (458, 0.017480162608354957), (622, 0.017456068239895695), (1384, 0.01744758303227011), (1951, 0.017423402052630692), (2996, 0.017422637669433312), (1942, 0.017413000403030416), (879, 0.01739948141960776), (1220, 0.017378829821954427), (2114, 0.01737796704919365), (1382, 0.0173694032288099), (1000, 0.017369236001706485), (1160, 0.017329730099036832), (1752, 0.0173271024768867), (13, 0.017318004388629814), (555, 0.017307413194000056), (4511, 0.017297984923012415), (2798, 0.01729791793187674), (584, 0.017287126458030225), (3854, 0.01725275716765065), (1334, 0.017243064112339626), (1413, 0.01718552535236623), (551, 0.017159952005693875), (2216, 0.01713142169129042), (4387, 0.01712126942154913), (799, 0.017101132656136404), (87, 0.017098091934841117), (429, 0.017097499377181604), (3612, 0.017087399581033752), (4627, 0.017058956057606003), (4551, 0.017055679638327402), (3356, 0.017049074168363428), (4192, 0.01704426833181774), (276, 0.017031791151663325), (1621, 0.017018214567244394), (2695, 0.016971225778270465), (5, 0.016936778804710714), (2008, 0.016908225853593677), (2618, 0.016905429311268212), (2024, 0.016887739868523363), (986, 0.016872664933724725), (4475, 0.016871690470061092), (3129, 0.016870524368986027), (4068, 0.016862816604781655), (2910, 0.016852852450752662), (3171, 0.016814017230457626), (2177, 0.016810188584741537), (342, 0.01680530403335534), (1665, 0.016767436761128816), (1385, 0.01676625872990465), (343, 0.016737028701498367), (4203, 0.016726875025925618), (4205, 0.016681325996251314), (3421, 0.016677895453484387), (2143, 0.016664938335462006), (353, 0.016657369739102226), (1802, 0.016645672889238454), (897, 0.016639648613042037), (1678, 0.016629486037186603), (2045, 0.01662818236642479), (3086, 0.016577283490195896), (4025, 0.016575269819186635), (0, 0.01656035121917087), (1514, 0.016545998290044876), (2103, 0.016541264161344327), (2460, 0.01652033144735776), (853, 0.016507357493635348), (2174, 0.016503642801027646), (4503, 0.016495610622164498), (988, 0.016480810234113952), (79, 0.01648023617942848), (1035, 0.01647665022788818), (3750, 0.016459582106752416), (4255, 0.016422526201785335), (3228, 0.01640525470224761), (2977, 0.016400975267504204), (19, 0.01636766951280857), (1015, 0.016349599671021363), (3667, 0.01634597490456871), (2649, 0.01634308251941264), (4673, 0.016324369606959002), (1619, 0.016299866539091625), (866, 0.016299073920679304), (850, 0.016291451728697177), (85, 0.016252848563021755), (2144, 0.01624967214930811), (775, 0.01623434869987739), (2436, 0.016233789718017297), (3689, 0.01622331338419524), (3973, 0.01619518316773895), (2210, 0.016184311140252972), (4288, 0.016129909760489655), (1710, 0.016107859379827064), (1050, 0.01610603238245108), (3643, 0.016085839360620656), (147, 0.01607847372643344), (1023, 0.01605696539871637), (2777, 0.01603710191928741), (1876, 0.01603341927351495), (2886, 0.0160202825169454), (2740, 0.01601460600457808), (2512, 0.016003841745790254), (878, 0.015989282269042185), (806, 0.015988159942477626), (104, 0.015962379504759056), (4095, 0.015911169232172104), (3237, 0.01590698640439526), (1192, 0.015864579741214416), (4502, 0.01585901601163067), (2607, 0.015858705439632262), (3784, 0.01585801265054664), (2065, 0.015854248982727307), (1595, 0.015836199737216505), (1136, 0.015824626722325506), (199, 0.015817168420743398), (358, 0.01580425156069599), (2632, 0.015800825862791967), (1183, 0.015784178749905026), (3213, 0.015746611083169184), (4231, 0.015733489025871072), (1206, 0.0157285559617776), (676, 0.01572844489965313), (3822, 0.01572573435972826), (2668, 0.015719549257444447), (1360, 0.015691911687271496), (332, 0.015664572796585945), (734, 0.015612015089736992), (4610, 0.015570626068896781), (3386, 0.015562123727012007), (3407, 0.015546617817514315), (653, 0.015544209141767696), (2980, 0.015544170192476243), (4374, 0.015541057908185232), (4344, 0.015521160033558917), (3535, 0.015490732887331523), (3374, 0.015487057407169104), (374, 0.015460175207581486), (1739, 0.015452424551397096), (3370, 0.015301447128088995), (29, 0.015292048439729951), (2698, 0.015252930668107366), (1920, 0.015241370422521817), (4257, 0.015215542986589118), (2224, 0.015201840997655067), (356, 0.015169824391589003), (3558, 0.015152991513858446), (236, 0.015143861772018017), (463, 0.015095477514651054), (434, 0.015086781090516546), (2250, 0.015061164014592779), (307, 0.015002393413063642), (149, 0.014999681185904216), (1290, 0.014992291969318266), (3226, 0.014977011454120844), (962, 0.014886058864153577), (3218, 0.014864657001564108), (2601, 0.014821930198153097), (3826, 0.014794082707739742), (281, 0.014785709646727697), (2211, 0.014767128494716304), (842, 0.014659439226978035), (1948, 0.014633031333469488), (1971, 0.014624327816851914), (60, 0.014620027939864975), (733, 0.014611426635075635), (816, 0.014595111647531491), (3767, 0.014586765677883865), (428, 0.014582882578060083), (3399, 0.014581894023403093), (1919, 0.014561342353075605), (2494, 0.014467904196987708), (936, 0.014449862922119337), (3829, 0.014447114516651285), (1875, 0.014434184688372681), (1148, 0.014433642475861288), (3096, 0.014433135444161149), (2633, 0.01443189289468894), (1674, 0.014426518452331494), (1387, 0.014404109669014238), (2602, 0.014327889057243071), (1539, 0.014326935560070832), (403, 0.014314157087849968), (3880, 0.014295886848346775), (3119, 0.014286038139119682), (3067, 0.014279712142612536), (3142, 0.014258899491893733), (3637, 0.014249596911785904), (2744, 0.01422466523987041), (3108, 0.01414651229596638), (1185, 0.014114557913496428), (3151, 0.014103081933078455), (4121, 0.014072314626463741), (207, 0.014061766801071317), (3, 0.014059536923952776), (2727, 0.014056601934973219), (1754, 0.01401933522946619), (1215, 0.014004591447736178), (1343, 0.013973431175749609), (667, 0.01396791239212222), (496, 0.013956148460277887), (2412, 0.01395423752946122), (2447, 0.013945133930830786), (2275, 0.01393194556324443), (2975, 0.013854932191969212), (732, 0.013846031946815995), (948, 0.013818944377686295), (3389, 0.01381218463569634), (2265, 0.013804123416839141), (1815, 0.013791452812485602), (368, 0.013777009391280825), (1764, 0.013758572930675478), (1572, 0.013730290810957675), (1591, 0.013689863996466685), (3317, 0.013686730163827654), (3373, 0.013671450272324285), (180, 0.013660126537782383), (2933, 0.013651190808967258), (547, 0.013639067561546744), (1705, 0.013591370694781134), (123, 0.01355532371367782), (4335, 0.013536099583588809), (829, 0.013513023651321433), (1922, 0.013510290644321063), (753, 0.013507062735131756), (244, 0.013487790105685606), (2603, 0.013458385023398248), (2831, 0.01343239876114945), (1950, 0.01342966762673317), (683, 0.013429213771720835), (3645, 0.013414943775566351), (1058, 0.013380846233986655), (385, 0.013365823197832943), (4465, 0.013362940322369328), (113, 0.013354904455113755), (4000, 0.013333234067707369), (4227, 0.01326565879427161), (441, 0.013263491041051068), (4531, 0.013253008377246122), (760, 0.013248345698753593), (2563, 0.013223624094134629), (4435, 0.01322182421333964), (4124, 0.013195342786060101), (4469, 0.013177461711198005), (1230, 0.013174526888067467), (1874, 0.01315293794791002), (1432, 0.01314850059399669), (3586, 0.013128532985740224), (3409, 0.013117613460136483), (1005, 0.0131062058944901), (2939, 0.013097716482256348), (1116, 0.013060909057617141), (63, 0.013031853617604505), (828, 0.013031398480982748), (2510, 0.013015168305727654), (994, 0.012990668129988312), (1937, 0.012985313895361297), (2925, 0.012969574425293558), (3659, 0.012964790512012162), (142, 0.012959921309031504), (2546, 0.012942732559492583), (2486, 0.012929012046933861), (3741, 0.012905214919571174), (1945, 0.012904302615964727), (1832, 0.012902195278606315), (931, 0.012897191285163943), (4581, 0.01289549923407412), (4233, 0.012884035287380653), (1841, 0.012881869805960785), (1455, 0.012876829865174955), (1858, 0.01287542520530707), (4442, 0.012874780734108957), (1736, 0.012870821753767265), (201, 0.012861145971786937), (83, 0.01285134659899821), (309, 0.012835451184844401), (4008, 0.012828826097713669), (3245, 0.01282557230865226), (181, 0.012815302414358258), (675, 0.012802694750051816), (4242, 0.012802286633804423), (3259, 0.012761431215285224), (2780, 0.012754051901743647), (544, 0.012754019490730626), (4007, 0.01269218293787856), (3642, 0.012691509251388492), (1128, 0.012677765433922442), (4557, 0.012671104299958862), (3582, 0.012669988556349359), (1727, 0.012667202436412596), (1806, 0.012653711967511973), (485, 0.012626702269835541), (654, 0.012615601352667209), (2843, 0.012571924159932685), (1339, 0.012556591184142735), (1234, 0.012555490950156834), (1854, 0.012542569340570622), (1436, 0.01254011280780166), (2468, 0.01253982368525301), (4182, 0.012515047664964366), (3941, 0.012511010557459394), (3579, 0.012497610322602552), (3152, 0.012491483011352986), (2076, 0.012470405648871988), (4088, 0.01246469300113704), (3192, 0.012451246518175068), (1949, 0.012435939047199637), (2978, 0.012414200641238467), (418, 0.012413123863783878), (3416, 0.01240151247832585), (4724, 0.01238686890943733), (1440, 0.01238024402181531), (1612, 0.012377976326076375), (4118, 0.01237531771803276), (271, 0.01236540679467756), (2464, 0.012357273222191658), (407, 0.012334186138649322), (1735, 0.0123235009348271), (2844, 0.01231528988415637), (1770, 0.012315201410570803), (4235, 0.012298694491652537), (1266, 0.012292452982710088), (4605, 0.012289565335034282), (172, 0.012289142730715168), (908, 0.012283744913565669), (1406, 0.012262962340919368), (3708, 0.012251487935822971), (360, 0.012241574651161272), (2565, 0.01223821107011481), (719, 0.012235373498815753), (3733, 0.012226922717722731), (4510, 0.01221855749292481), (3465, 0.012194133285375152), (2126, 0.01217537584297738), (2752, 0.012168608008829776), (1419, 0.012158435520350869), (790, 0.012127256124049945), (4735, 0.012094184146504833), (752, 0.012089443385150347), (2691, 0.01206379417907597), (231, 0.012041678341871597), (483, 0.012005100757823763), (4747, 0.012000262317029454), (905, 0.011986565860615514), (2284, 0.011981037660833353), (3312, 0.011978959680903038), (3099, 0.011966282822327052), (1630, 0.011966176634832798), (918, 0.011955933927324634), (3699, 0.011939841774106029), (635, 0.01193784655738279), (3747, 0.011909727854313115), (447, 0.011906509263014627), (4216, 0.0118893518633745), (2196, 0.011889140396008947), (3978, 0.011878587801511072), (346, 0.01187444484272986), (1797, 0.011874017729374853), (1538, 0.011871110445427883), (3536, 0.011866109360886194), (2244, 0.011855484064427012), (1125, 0.01184814285674717), (170, 0.011836032634960945), (3384, 0.011835218974541109), (2080, 0.01182734545734128), (4048, 0.011811542136495844), (2732, 0.011802507647557435), (494, 0.011794796261777998), (2849, 0.011791228771687694), (3457, 0.011786847713146557), (22, 0.011783704343057628), (2206, 0.01178194572897941), (2110, 0.011773735497486067), (782, 0.011772927083396643), (2871, 0.011761303364613613), (413, 0.011748939585606369), (3670, 0.011741491515542981), (2346, 0.011740170255107525), (4440, 0.011711184127930886), (4623, 0.011709601373718397), (2739, 0.01168016882198286), (1542, 0.011678545171668974), (1680, 0.011663799329673274), (1688, 0.011656022261727792), (266, 0.011650076500777304), (3951, 0.011647043613950688), (778, 0.011645103911258132), (56, 0.011639036750547982), (243, 0.011631965687217452), (3110, 0.011628717040463595), (144, 0.011621510662821584), (3387, 0.011610642426587365), (1583, 0.011592653841289297), (1486, 0.011578201567409135), (2418, 0.011560652026856359), (1908, 0.011555311540590679), (631, 0.0115322751513878), (1124, 0.0115304319113699), (4512, 0.011529941181042877), (4481, 0.011528178550577473), (2339, 0.011522611249819029), (131, 0.011508332242697568), (333, 0.011487022826978237), (1718, 0.011483635735808085), (4474, 0.01148073979848398), (748, 0.011472179360055547), (869, 0.011459452649321567), (328, 0.011445698025402974), (620, 0.011445289885795868), (3155, 0.011430287144427438), (542, 0.01141900508037684), (4099, 0.01141701289275132), (4656, 0.011412066104897357), (4337, 0.011396832126614208), (940, 0.011393075360465103), (4217, 0.011384408746531096), (105, 0.011372585945762934), (2726, 0.011363805401083884), (1087, 0.011359595309101677), (4486, 0.011355099046108447), (1307, 0.011354711446193384), (1396, 0.011350242857131291), (1986, 0.011339184441310839), (9, 0.011334563618557197), (2303, 0.011322719852194131), (3232, 0.01132041843676407), (4564, 0.011312033443374772), (4553, 0.011309844765561315), (2918, 0.011306403097547614), (1911, 0.011303255337571044), (2309, 0.011299840899831708), (3909, 0.011295735234728582), (3993, 0.01129460861118059), (2109, 0.011280826474603536), (2280, 0.011276718033887573), (4032, 0.01127145216543959), (273, 0.011268637130622402), (2056, 0.011264831476163676), (1111, 0.011261382145350024), (1501, 0.01123894715192436), (921, 0.011235788631006752), (2101, 0.01122595729815283), (3256, 0.011220162750782414), (1239, 0.011217405667729956), (1425, 0.011213150162274603), (2897, 0.011198482346482012), (1992, 0.0111968296601678), (1250, 0.011186955619851693), (801, 0.011184485746910756), (827, 0.011179997588205329), (3033, 0.011177944425142314), (3648, 0.011177769094604455), (1231, 0.011161333488319757), (523, 0.011140492392451377), (3864, 0.0110840938040105), (3794, 0.0110839000513568), (3265, 0.011083457290424873), (1238, 0.011072806863806215), (3382, 0.01106564508172952), (4467, 0.011059212600745192), (1194, 0.011055382025829131), (4196, 0.01105497212621978), (4246, 0.011047209243188617), (1849, 0.011030103604455185), (1654, 0.011025984027697574), (1348, 0.01101701387272), (1721, 0.011011342335938812), (4210, 0.01100632393405954), (3860, 0.01100323849998004), (2463, 0.010988515009936571), (2235, 0.010979952764585422), (4325, 0.0109775538599741), (3118, 0.010972636067567003), (1306, 0.010971170750386332), (4061, 0.010970170187732425), (2264, 0.010968706729435224), (1799, 0.010966901997741009), (4388, 0.01095740167356364), (4060, 0.010953489079070159), (1374, 0.010937106076469213), (970, 0.010926091620612314), (1807, 0.010924359209420285), (3039, 0.010917986023877944), (2816, 0.010917230226233253), (263, 0.010908020438704948), (4226, 0.010906047688902196), (1310, 0.010892967333899568), (396, 0.010892450347085799), (1371, 0.0108822347716829), (2285, 0.010881359741519533), (3306, 0.010861984179213328), (1694, 0.010849192987386314), (500, 0.010840194533689262), (4106, 0.010837957165315933), (4001, 0.010835956775871913), (4303, 0.010815062932084134), (3070, 0.010795332699769448), (1061, 0.010790065910589895), (1494, 0.010786098590724267), (285, 0.010780576806212699), (3316, 0.010776057910736977), (4596, 0.010772108358042203), (4055, 0.010767521428175273), (2503, 0.010763661105984796), (2160, 0.01075184443453955), (521, 0.010748685837381252), (1692, 0.010747328128470896), (2421, 0.01073674714706315), (3418, 0.010730086652730352), (695, 0.010728679262634721), (1816, 0.010723757963315523), (4366, 0.010721010801236911), (835, 0.010713621869160842), (915, 0.010697508355298294), (3566, 0.010680319687784365), (899, 0.010658499213632364), (3046, 0.010649013813014826), (2239, 0.010647630682162195), (568, 0.010629305858034354), (130, 0.010607411462243043), (1157, 0.010598307483429147), (4748, 0.0105664276318227), (834, 0.010549757903531999), (2062, 0.01054123245217309), (4272, 0.010538898791017394), (4164, 0.010534919431021174), (1114, 0.010527923510945765), (2335, 0.01052586073904931), (3246, 0.010517703429068806), (2587, 0.010514349800791283), (4576, 0.010511316497899924), (1018, 0.01050592935775145), (3926, 0.010495133941969265), (3085, 0.010490379247038162), (1776, 0.010485090179524731), (3865, 0.010480665054988979), (1526, 0.010475764472701907), (3264, 0.01046667392510179), (874, 0.010465578249592544), (1787, 0.010452586272192692), (2175, 0.010435488658311893), (4649, 0.010426457014823205), (4110, 0.010418940557657385), (2205, 0.010403208702550392), (1236, 0.010398040605054176), (4685, 0.010391718760835389), (2759, 0.01038995720063931), (3598, 0.010375769972902371), (1420, 0.01036380412779533), (3114, 0.010361898396017291), (148, 0.010354516039556146), (2935, 0.010337222854556502), (1329, 0.0103274093302417), (939, 0.010322122234277782), (3515, 0.010307074271067293), (4459, 0.010264411565939437), (3426, 0.010236516941623917), (668, 0.010234607354001042), (501, 0.010230452145324585), (2480, 0.010203499091172605), (2873, 0.010203350740084782), (2640, 0.010158437111329903), (3825, 0.010156290944896196), (664, 0.010145846364254451), (1684, 0.010138691619231727), (2992, 0.010136878826544952), (2193, 0.010127839667591182), (2568, 0.010101444300534362), (1714, 0.010087333505757884), (3240, 0.010086621379448518), (1818, 0.010082712617175584), (1327, 0.010047722419700913), (1465, 0.010047342860285942), (35, 0.010033186127765398), (2058, 0.010027242512717248), (2617, 0.010020754253095298), (2291, 0.009976687223721898), (1723, 0.009973920523392143), (1793, 0.009959053497489144), (1662, 0.009959037646761435), (583, 0.009951872193486064), (692, 0.009941747529085818), (354, 0.00989816204077486), (4342, 0.00986634588266964), (4096, 0.009824626187959117), (327, 0.00981991145594222), (3244, 0.00980712377512655), (1715, 0.009740740786942767), (4009, 0.009735662115699317), (1316, 0.009712513740522738), (597, 0.009678612214788128), (1267, 0.009665171165973277), (3267, 0.009660542389444736), (435, 0.009627924843396148), (3294, 0.009592469155856492), (3594, 0.009571333934974943), (2929, 0.009560740726320387), (2688, 0.009545271812648184), (2439, 0.009527536892374696), (2680, 0.00951839031512764), (1650, 0.009495043550107857), (4726, 0.009443581156770634), (3509, 0.009432897301271902), (1571, 0.009416244772477083), (3957, 0.00941608279480526), (4232, 0.009398970106687103), (2203, 0.00937395360072453), (1320, 0.009361334453878021), (2094, 0.009354578633101943), (1276, 0.009299602092718719), (2942, 0.00929316545942757), (2156, 0.009288272455730724), (1567, 0.00923958342632264), (1453, 0.00923151559333551), (3940, 0.009210821631227951), (3821, 0.009195721703935518), (177, 0.009123162713290079), (3205, 0.009057692368638065), (277, 0.008997700658729707), (2074, 0.008994189271942857), (2789, 0.008976755277726262), (3164, 0.008962116663950803), (2236, 0.008959276938854585), (4057, 0.008940514951033093), (2985, 0.0089184481976254), (3215, 0.008905584943622525), (2185, 0.008888010224047147), (2113, 0.008885877810180028), (2426, 0.008792171313945604), (369, 0.008791315072525008), (288, 0.008775498720384743), (1279, 0.008750295478301705), (2665, 0.008728369385817378), (4261, 0.008712904924646292), (2197, 0.008705033105572729), (4158, 0.0086306768305871), (527, 0.00863004527960912), (477, 0.008623284898278424), (2524, 0.008609001574265461), (1144, 0.008574322308289088), (3752, 0.008535989516155649), (3748, 0.00850615162956171), (2022, 0.008441873945243225), (159, 0.008418939915981805), (1701, 0.008383472631301788), (3410, 0.008295706709881862), (4373, 0.008201130630031023), (2064, 0.008146138708942544), (414, 0.008074241518585656), (627, 0.00805399788793423), (3325, 0.0078514764318484), (336, 0.007824240763385547), (4555, 0.007470169276496081), (561, 0.007439774766517287), (3458, 0.007378149240351149), (2678, 0.007320509361252511), (3512, 0.007110925177014312), (3257, 0.007059745192057183), (3456, 0.0069469692117976175), (2660, 0.006849238238174382), (3178, 0.006725840148670549), (2154, 0.006717908064813991), (4571, 0.006705236197380572), (3925, 0.006498489024410784), (3094, 0.006490419217995434), (735, 0.0063874827057132134), (4484, 0.006376717614858131), (596, 0.006356184567010168), (1748, 0.006351232019342225), (876, 0.0063399624825169025), (2529, 0.006325850056511128), (1711, 0.006304489120422519), (2998, 0.006277518541743403), (3745, 0.006275243741667466), (2888, 0.006261381674089428), (2134, 0.006252047019510022), (3291, 0.006249423674345927), (2438, 0.006229396686863304), (1658, 0.006206143180612263), (2075, 0.006199985270219478), (2490, 0.006196786313737517), (999, 0.006195251348025369), (4202, 0.006184481195220984), (326, 0.006184293398359364), (3355, 0.0061776908188775626), (1960, 0.006173035706459411), (2223, 0.006147079296198497), (2883, 0.006134430854026894), (2349, 0.0061311418736130045), (3301, 0.006129569069680937), (448, 0.0061285893686865945), (2989, 0.006116709560286528), (2176, 0.006113743678743806), (2797, 0.006108431779257975), (576, 0.006108409636247941), (2051, 0.006106459608828594), (1429, 0.006094483007039791), (3413, 0.006094339064888545), (2251, 0.006091472619788888), (2870, 0.0060880429321600905), (998, 0.006075099299304775), (208, 0.006074695234067545), (107, 0.006065482854676711), (1947, 0.006062852479544807), (3866, 0.006059182725380263), (614, 0.006049600511320367), (2775, 0.006049243682327549), (2379, 0.0060475423795389), (1547, 0.0060465900538295035), (3148, 0.006045797736460404), (2199, 0.006044123060374591), (1187, 0.006042570183053825), (3051, 0.0060423775339551), (2832, 0.006032862450738007), (3902, 0.00603089345176398), (2915, 0.0060268785300221775), (564, 0.006026315481356105), (3493, 0.0060250143703505414), (2764, 0.006019505908188846), (4516, 0.0060183801793424465), (2768, 0.006009722700182436), (3262, 0.006006304971632734), (3308, 0.00599835843776183), (1924, 0.005998218532591175), (2286, 0.00599756505032229), (1909, 0.005995506946175593), (1182, 0.005993622497667899), (4546, 0.005989917140234068), (11, 0.005986812607741623), (2661, 0.005983563877338659), (4295, 0.00597316167227957), (2089, 0.005963873443606328), (431, 0.005960841548091115), (3479, 0.005960616839270874), (4244, 0.005952574814057029), (482, 0.005944416150503056), (2848, 0.005943367541705041), (1349, 0.005925782122359051), (419, 0.0059250779124773055), (1513, 0.005924608586959917), (3620, 0.005923079035376508), (318, 0.005921503487272244), (2655, 0.005919428424725958), (2091, 0.00591714664509193), (2702, 0.005916812052846777), (3072, 0.005905587790314481), (4082, 0.005895756612246712), (8, 0.005889635611086197), (2643, 0.005883539934757509), (2260, 0.0058820811441819415), (1822, 0.00587759533074247), (4444, 0.005874828571075819), (2664, 0.005872581740572849), (2350, 0.005868965166866263), (4130, 0.005865128911226635), (3990, 0.005865075570674225), (41, 0.005864447890265605), (1077, 0.005857696156830276), (1049, 0.0058574586428050985), (628, 0.005842197924186445), (1474, 0.005841110770566792), (2776, 0.005839263560008221), (4617, 0.005835017994454706), (3635, 0.005828609553189843), (2889, 0.005827761462394907), (1264, 0.005825419101610875), (274, 0.00582020100648975), (688, 0.005819401209715152), (3166, 0.0058165505751893495), (4535, 0.0058141690612788025), (2407, 0.005813378628434106), (4187, 0.00581218214371699), (4520, 0.0058103681962512425), (387, 0.00580803343012057), (4430, 0.005795625125797813), (2049, 0.005794577230536409), (436, 0.005791846673480514), (2390, 0.005789508462848629), (227, 0.005785550965382619), (739, 0.0057827430304920584), (4710, 0.005781364158737803), (206, 0.005779122030608366), (3524, 0.005771201760157619), (4657, 0.005769363671941019), (3219, 0.005768997378204101), (2559, 0.005768976569809634), (4507, 0.005767239738755752), (3727, 0.005764452293958423), (4530, 0.005763305366955462), (755, 0.005756958063369739), (1655, 0.005754707362909365), (2901, 0.005751643039373542), (3015, 0.005751009893425742), (2629, 0.005750253201210084), (4117, 0.0057473202922895), (4422, 0.005744349585262181), (2478, 0.005743300800720131), (1896, 0.00574230512542653), (985, 0.005735966047374279), (2999, 0.005728744918999458), (3032, 0.005728244133779117), (12, 0.005727963769469582), (3809, 0.00572606766122076), (3560, 0.005723504082026833), (1006, 0.005710231593469897), (1995, 0.005709045478280524), (2067, 0.0057072567653357), (3076, 0.00569786564107919), (350, 0.005695428447040118), (4138, 0.005692781878058705), (3081, 0.005689925406289808), (2731, 0.005689738261414506), (1422, 0.005688389935702114), (2255, 0.0056801357666799055), (2108, 0.005678581378930818), (2555, 0.005673904507341927), (2924, 0.005668138135125366), (2714, 0.005664489828034406), (721, 0.005662582053087299), (2302, 0.005660080143661396), (3922, 0.005658706982511858), (1685, 0.005656783180345806), (2609, 0.005653543909315869), (3302, 0.005653515910909929), (1687, 0.005651995759696665), (2423, 0.005649226054340679), (2257, 0.005648409004453839), (1893, 0.005642862082685782), (1897, 0.005641237716003729), (1083, 0.005640332254603438), (2361, 0.005640326277240745), (1364, 0.005637522317099932), (4123, 0.005637108269054852), (1489, 0.005634893312808451), (3640, 0.00562848985918555), (3196, 0.005624822833604326), (4624, 0.005620370355971813), (3140, 0.0056173236631378905), (4420, 0.005614151998960075), (2879, 0.005613499018785166), (1208, 0.005611095663001181), (2830, 0.005610443486485685), (2159, 0.005607188486547617), (2623, 0.005605809437818401), (1498, 0.00560432794609124), (2411, 0.005602626298188453), (636, 0.005601300565205297), (4575, 0.005598893512775981), (3282, 0.00559881056266395), (1109, 0.005598767721545773), (443, 0.005597934601440444), (2116, 0.005596189220775828), (2466, 0.005594269852599722), (3892, 0.00559328624553905), (2614, 0.005590804614649507), (1643, 0.005589126176669869), (1537, 0.005585579369554039), (2881, 0.005583321531686879), (2966, 0.005581131847478638), (2974, 0.005576677798885893), (4412, 0.005575643342090515), (1703, 0.005570237698109503), (697, 0.005569837109843722), (857, 0.005568695540364264), (3893, 0.005560918222147621), (4521, 0.005556056232135081), (813, 0.005555386809657102), (3873, 0.005546622540573295), (2838, 0.005542254694686041), (729, 0.005541097225622336), (2448, 0.005540812032588166), (4477, 0.005537051837213867), (2769, 0.005535752396307723), (3623, 0.0055353716024333114), (4723, 0.005534200996128964), (3915, 0.00553391461569125), (4046, 0.00553388952502668), (3379, 0.005533429005634899), (2415, 0.005532190642133554), (3960, 0.005531062941470015), (2088, 0.005528143844766365), (2388, 0.005525760539228036), (4528, 0.005525644131326112), (1350, 0.005523985569548288), (3074, 0.005523168360007049), (3417, 0.005521867534236828), (2437, 0.0055211582401138316), (1907, 0.005520484657368223), (1020, 0.005519892959479906), (4249, 0.005518936774969818), (1882, 0.005517190470934376), (3772, 0.005517084125414382), (2535, 0.005513037147858432), (4494, 0.005511170295305858), (4371, 0.005510935951851997), (4401, 0.0055106266182659526), (3613, 0.005507194811839172), (1225, 0.005501753381023263), (493, 0.005494459083377843), (192, 0.005493514469828496), (2083, 0.005492107698612955), (2796, 0.005490543811448468), (872, 0.00548957897914299), (3882, 0.005484300441973438), (1969, 0.005482657038815362), (3496, 0.005482126854113069), (3832, 0.005478091665398074), (1140, 0.005476635337735132), (23, 0.005475779686152341), (3680, 0.00547329729436765), (3194, 0.005467857648849024), (3357, 0.005467335527356523), (34, 0.005467333017370143), (2240, 0.00546730098634458), (4660, 0.005466186766281562), (3521, 0.005462315046112894), (3749, 0.0054605199590831875), (716, 0.005459213765610341), (865, 0.005458130876985783), (2988, 0.005456770278067027), (1570, 0.005454107265985908), (216, 0.0054514919718322745), (4178, 0.005450172859276914), (1905, 0.005446561190829376), (3763, 0.005445241716117824), (3187, 0.005444384853458236), (4357, 0.005442767244417426), (588, 0.005438324524170404), (4111, 0.005436866321945687), (1851, 0.005436233626777867), (1488, 0.005436097403171687), (2592, 0.005435391206936638), (792, 0.005430915260827364), (2105, 0.005429279767787153), (3766, 0.005428585706331471), (3436, 0.005428539285455774), (4051, 0.005426951962149531), (4625, 0.005426804933783053), (3112, 0.005426554170727783), (3346, 0.005425320488990326), (3876, 0.005422037975617384), (2926, 0.005421357915561003), (925, 0.005416402271300112), (2087, 0.005413863483308384), (652, 0.0054137621434715115), (871, 0.0054114834810862905), (3845, 0.005409435027907021), (4038, 0.005408991419996126), (1176, 0.005408716350595944), (4637, 0.005408252595081564), (3919, 0.005406973255733387), (1653, 0.005406503205479559), (4098, 0.005405632846868078), (4640, 0.005405373990914874), (3233, 0.005402979061347359), (509, 0.005402875449077632), (472, 0.0053913788764687765), (3123, 0.005390804316064832), (2914, 0.0053905876644439), (1448, 0.005388448637509808), (3618, 0.005387753458537756), (587, 0.005386217017574332), (4368, 0.005385850997196001), (1188, 0.0053838586156906044), (2890, 0.005383615550978702), (1034, 0.005376335939438955), (2878, 0.005375717826631408), (1131, 0.005374444546120541), (966, 0.005374441096380992), (1968, 0.0053709707999045515), (4330, 0.005366344486790571), (4470, 0.005364999043151896), (1796, 0.005359803495764723), (1454, 0.005358851356863821), (2434, 0.005358638229453599), (3300, 0.005355733791463786), (4369, 0.005355208969945898), (2809, 0.005353206989522072), (2393, 0.005352926072532844), (4490, 0.005350251411728213), (2834, 0.0053492093423676695), (4489, 0.005348794655284544), (1324, 0.00534647058735995), (255, 0.00534567341154911), (1866, 0.005345122543084176), (71, 0.0053449887166778605), (1123, 0.005342580466047809), (794, 0.0053417997405429424), (2943, 0.005341133427465473), (2266, 0.005338591448030197), (1400, 0.005338514649946259), (826, 0.0053339347304900255), (2096, 0.0053311889608103355), (4163, 0.0053308024364821325), (2459, 0.00532106465116754), (4333, 0.005320117629749326), (3363, 0.00531852873643678), (3388, 0.00531645917249786), (173, 0.0053158558462985785), (2428, 0.005314104099838072), (2319, 0.005313893313732968), (2313, 0.00531017443532165), (3146, 0.005308980484228398), (2778, 0.005308614153886831), (2911, 0.005308501701195436), (4133, 0.0053081067472351955), (3654, 0.005306710663864359), (4448, 0.005306606952097667), (3901, 0.005305567765587735), (3359, 0.0053035034945300786), (2104, 0.005303293592561148), (2570, 0.0053032107103618605), (3406, 0.005302635560904265), (3013, 0.005302594694858196), (2857, 0.005300932059660686), (1122, 0.005300712261315786), (1558, 0.005297109928423283), (3044, 0.005295591522135104), (3501, 0.005294127541388375), (3075, 0.005294045182976089), (1923, 0.00529272636695093), (2696, 0.005290505075294491), (2277, 0.005290486752356928), (3653, 0.005288008206933284), (3780, 0.0052859696894312054), (2155, 0.005283722063749902), (2986, 0.005281486559294242), (4056, 0.005281444816555243), (2606, 0.005280605920245505), (580, 0.005279627747798237), (4336, 0.0052786570652878775), (3638, 0.005278346913684805), (504, 0.0052771879707777395), (3771, 0.005275849045931117), (1693, 0.005275331678182373), (728, 0.0052751916360596176), (3704, 0.00527347109108952), (2812, 0.005273139929364223), (623, 0.005272848453328396), (980, 0.00527214131161478), (2482, 0.005268668932964988), (3564, 0.005264993217490239), (437, 0.005263747682695791), (4259, 0.005261142984655575), (4243, 0.005256610509267313), (1779, 0.005255558424642896), (1427, 0.0052540811602902774), (894, 0.005253934264752898), (2162, 0.005253334641755919), (3590, 0.0052503006343675015), (4269, 0.0052462881784340444), (1475, 0.005245390663304161), (3765, 0.005244354596133242), (1518, 0.0052425897580906915), (4563, 0.005242497009278947), (2625, 0.005241022028732034), (1934, 0.005241001568026593), (3435, 0.005239671913587169), (3900, 0.005236969293880725), (470, 0.005235440471788679), (3182, 0.005235431584054197), (2375, 0.005235300822225831), (2894, 0.005235023714793591), (1313, 0.005233847062617723), (4473, 0.00523298701522765), (673, 0.005229529906987246), (3888, 0.005227017570647842), (1044, 0.005225774058967993), (830, 0.005218002912512937), (4069, 0.005215562941032871), (1009, 0.005215311668931322), (4650, 0.005213355740341606), (74, 0.0052128943547903326), (4619, 0.005212397051595408), (3639, 0.005211319469955907), (488, 0.0052107010242502), (598, 0.005210532741957354), (3673, 0.005205879841327808), (3952, 0.005205029456345598), (2048, 0.005204978600523889), (3807, 0.005204299338299623), (1645, 0.005197791524712223), (1918, 0.005197620723215218), (1075, 0.005196571907159938), (1163, 0.00519206412225229), (406, 0.0051919431686023474), (4713, 0.005190763375231758), (3542, 0.0051896643172951295), (3953, 0.00518848822578776), (1273, 0.005187797556548262), (3445, 0.005187384080087218), (3012, 0.0051869375175560145), (4345, 0.005185923076965979), (1223, 0.0051849981364937795), (3819, 0.0051841382046760595), (481, 0.00518228669349453), (2122, 0.005178718929696834), (178, 0.005178144871707692), (1007, 0.005178105439190448), (4632, 0.005175414679032829), (2488, 0.005175402556281349), (1229, 0.005175066879741501), (769, 0.005175009610066997), (4722, 0.005174875082022304), (3165, 0.005174424306630047), (3577, 0.0051740991170698015), (2743, 0.005173935979344631), (1916, 0.005173499547078759), (2477, 0.005173282945946926), (4160, 0.0051691407563007), (3184, 0.005164063115965646), (3962, 0.005162693458863132), (2405, 0.005161526590442967), (1421, 0.0051609260564735955), (2188, 0.005158104585548489), (3641, 0.005157529826054531), (2242, 0.0051563581721311355), (348, 0.005156310737567269), (3326, 0.005156127166022609), (3268, 0.005156096242369794), (4116, 0.00515256339143774), (712, 0.005151686237126146), (2430, 0.005149627190089647), (456, 0.005148940756410474), (4603, 0.005148923691327229), (359, 0.00514427163570346), (2748, 0.0051417142565178785), (3920, 0.005138671728183732), (743, 0.005135401958634845), (4087, 0.005134633165718262), (2755, 0.005133086173228046), (2475, 0.005132418786131392), (1902, 0.005131319441633462), (1706, 0.005131202933278246), (4113, 0.005129597855085418), (1931, 0.005128688805846281), (349, 0.005128515543341782), (1730, 0.005127942516036155), (2348, 0.0051265198059086805), (854, 0.005125884051563868), (2872, 0.005124913907772245), (1060, 0.005122764977214646), (4589, 0.00512216256831701), (852, 0.00512168138228593), (1744, 0.005119899408047277), (3541, 0.005118589193189092), (1325, 0.005112289992086855), (867, 0.005112161284101179), (2320, 0.005111631916355023), (2772, 0.005111286049620621), (114, 0.0051103131604248965), (742, 0.005107194823482932), (3097, 0.005106358906742318), (3402, 0.00510494343040648), (4566, 0.005103289382594487), (930, 0.005099591208538351), (3624, 0.005097079812862468), (1476, 0.005095641702046023), (3449, 0.0050952070037292825), (2427, 0.005094910822753767), (2169, 0.005093409934785294), (1286, 0.0050927452805053265), (1308, 0.005087609090450742), (1722, 0.005086065399882499), (2069, 0.005085963537830454), (606, 0.005083009385970305), (4706, 0.005079543849136973), (3707, 0.005078096542736745), (3811, 0.005078001088144116), (4079, 0.005075898082152616), (1891, 0.0050745419462532885), (3364, 0.005072808054358899), (2386, 0.005072636719960005), (1463, 0.005071960570003115), (475, 0.005070042082978732), (2916, 0.005069425633670798), (2461, 0.005068655327427823), (325, 0.005067023417179187), (169, 0.005064729600437188), (749, 0.0050645872732412965), (136, 0.005062931843168209), (3917, 0.005057656449337336), (594, 0.005057561603874456), (2859, 0.005057165186139038), (3425, 0.005054313969496704), (3274, 0.00505338110662336), (4143, 0.00505199928216282), (3062, 0.005051647234694562), (1740, 0.005050380946976589), (1170, 0.0050480193868826925), (761, 0.005046255950521249), (4734, 0.005045687417767898), (1598, 0.005044503132907495), (4135, 0.005043012897079526), (1027, 0.0050426320141786106), (4591, 0.005040165798425523), (3273, 0.005039307616966173), (4334, 0.005039296041768686), (2554, 0.005038400521987588), (3666, 0.005037347326325121), (689, 0.005035487972563869), (3170, 0.005034522394246872), (1338, 0.005030795826526092), (4293, 0.005030342936800954), (1628, 0.0050275412699940115), (1408, 0.00502681997599809), (2496, 0.0050264236995465755), (1079, 0.005026235782976992), (3296, 0.00502548320405272), (1102, 0.0050248185354483275), (1179, 0.0050236148869843315), (2229, 0.0050208278308490175), (373, 0.005019428022282776), (2073, 0.005019193445840199), (410, 0.005018000627075555), (1084, 0.005017459205315765), (3734, 0.005016691915742072), (612, 0.005015913156944044), (238, 0.005014337263186781), (2746, 0.005014333702659705), (1340, 0.005013935456173838), (2397, 0.005009848339351218), (4183, 0.0050096506394466484), (1378, 0.005006832983370988), (1605, 0.005003984893926187), (3516, 0.005003619022963343), (4101, 0.005003534027199003), (3506, 0.005001287450249506), (4668, 0.005000362089136703), (1946, 0.0050000655737004645), (1161, 0.004998029499366395), (1768, 0.004997448564767976), (698, 0.004995382227734316), (2195, 0.004993632639772443), (4309, 0.0049924756675241416), (4522, 0.0049919453467300486), (3551, 0.004991441340482482), (4419, 0.004990313662121133), (3195, 0.004990048175751004), (4718, 0.00498953873003219), (3696, 0.004988798829849101), (1620, 0.004987107478632297), (3258, 0.00498680166929966), (4501, 0.004986601814511635), (4011, 0.004986557376880422), (4154, 0.004985289831843565), (3932, 0.004983299012493735), (1191, 0.0049827489054913255), (416, 0.00498229007568501), (2321, 0.0049796149710604875), (693, 0.004979206515421542), (944, 0.004978905685471228), (2269, 0.00497844715154981), (727, 0.0049782550761270795), (372, 0.0049780310977992), (1352, 0.004977779971930445), (198, 0.004974087202651133), (4036, 0.004973285161459592), (1002, 0.004972388214897487), (1017, 0.004970578539924741), (579, 0.004970168394332393), (4362, 0.004968937238461804), (2612, 0.004968849905041679), (1983, 0.0049672799205132834), (1001, 0.0049641913532934585), (969, 0.004963700229378854), (3646, 0.004963498583554898), (4536, 0.00496167166395108), (3330, 0.004958381759793379), (1717, 0.004957881633093503), (1477, 0.004955532917921978), (705, 0.004954434233196619), (400, 0.004950854952413269), (660, 0.004950652890721826), (3754, 0.004949777044808961), (3660, 0.004945735891340573), (604, 0.004944562117018921), (886, 0.004939658949787886), (2840, 0.0049381122971080835), (2558, 0.00493736008299413), (4092, 0.004936526725876348), (3304, 0.00493366299532467), (1892, 0.004928607988022368), (2061, 0.004921249197472471), (3314, 0.004919428374343769), (3198, 0.0049190561693196536), (963, 0.004918447422673384), (1634, 0.004917890267867184), (2904, 0.004915889575834528), (4054, 0.004915753615834361), (2705, 0.004910150543135128), (907, 0.0049089241335390854), (2201, 0.004905490586900413), (4394, 0.004905212342443936), (252, 0.004904474102362161), (1519, 0.004904337711829346), (2761, 0.004903687916214776), (3050, 0.004902881579741545), (3883, 0.004900876366645209), (1667, 0.004899644980111847), (4629, 0.004899408400660875), (4446, 0.004895662525956368), (3116, 0.00489250532481424), (2965, 0.004892441147871694), (3183, 0.004891541137753818), (4487, 0.004891452566654609), (900, 0.004888685972332006), (3827, 0.0048846110887242), (1217, 0.0048810514958566985), (1446, 0.004880759634907193), (464, 0.004879948340618581), (2131, 0.004878141097221938), (197, 0.004875712940790378), (215, 0.004875572292185883), (4699, 0.0048713432863482795), (798, 0.004870657794236013), (200, 0.004869523820816342), (2945, 0.004869363223051808), (4479, 0.004866883111684785), (1247, 0.00486575791356), (1375, 0.004864018419241077), (838, 0.004863368197209517), (2400, 0.004861761392319758), (3890, 0.004857473299131661), (4411, 0.004857309862384437), (1177, 0.004853640491019732), (703, 0.004851929892388019), (2230, 0.004851867430060006), (2117, 0.00485181892350658), (4429, 0.004849999019702612), (1372, 0.0048494501319867305), (4033, 0.004847132333706762), (1041, 0.004846839325732477), (2344, 0.004846399681466373), (1582, 0.00484502747814706), (3028, 0.004841721475948306), (1335, 0.004841288215475682), (31, 0.004840775388965416), (3799, 0.004840410404760335), (2391, 0.004840342966877494), (783, 0.004840332131860603), (4593, 0.004840074044405519), (3500, 0.0048387104929136305), (1472, 0.004837134365467105), (522, 0.004835478733328425), (1410, 0.0048343612792506865), (1026, 0.004832213629097007), (2068, 0.004826424483302087), (651, 0.004824482647278096), (1071, 0.0048244433753342735), (2473, 0.00482335390056076), (2854, 0.004820969292714823), (644, 0.0048172100983869945), (1483, 0.004816014984714279), (4287, 0.00481575867564919), (696, 0.004815126089578689), (4670, 0.004814523403978207), (1943, 0.0048118375807791585), (3125, 0.0048098321517914796), (2422, 0.004809786929768044), (4085, 0.00480909165721929), (991, 0.0048085847327833135), (3984, 0.0048077498152909), (3526, 0.004801783953720157), (1138, 0.0047994332919733505), (2779, 0.004799047035988542), (2821, 0.004797982765446986), (3234, 0.004797317595324582), (923, 0.004790945960354348), (2862, 0.004790828191544188), (1438, 0.0047901923859237265), (750, 0.00478703375216528), (1864, 0.004786873140655668), (2972, 0.004786223846975422), (2394, 0.004784894736153641), (3122, 0.004784375546230494), (4356, 0.004783129239718477), (4266, 0.004782265449647578), (2593, 0.004781709129518647), (3037, 0.00477938119649882), (3601, 0.004778608076200112), (2338, 0.004776820539512483), (96, 0.004771011613042499), (4020, 0.0047702424433282), (2540, 0.004769744095006788), (1107, 0.004769004922293688), (959, 0.004768557723114992), (1597, 0.0047660330457195066), (2800, 0.004762607748454731), (3297, 0.004760006841355419), (4350, 0.0047595663663265305), (880, 0.004755885664581096), (1819, 0.004754452908500005), (3634, 0.004754309607883589), (1830, 0.004752090203318118), (4472, 0.004747284443224032), (2004, 0.004746795425008482), (471, 0.004746586889518745), (1533, 0.004745061341219343), (194, 0.004740404111605346), (4024, 0.004739716030511071), (2402, 0.004739432638620735), (1442, 0.0047373429660507805), (3147, 0.004737085594365011), (1608, 0.004735471966234459), (1481, 0.004734644886555911), (1690, 0.004734589295214086), (1414, 0.004734003463538401), (2528, 0.004733657182148433), (2457, 0.004725448554732216), (2029, 0.004721107454859975), (4014, 0.004719702840136671), (2287, 0.00471904475714758), (2289, 0.004718863443973065), (3071, 0.00471770791084413), (2946, 0.004717600358746525), (2399, 0.004715306752724144), (490, 0.004713796351037957), (3813, 0.0047106560738166565), (4517, 0.004710240412057525), (1627, 0.004707540729095866), (3739, 0.004707493451951986), (3755, 0.004704921978194789), (1462, 0.004701592675578812), (1964, 0.004695939338542296), (18, 0.0046952057507861755), (3557, 0.004695185064522853), (127, 0.004695131131189487), (221, 0.004694884006910467), (3278, 0.004694756216309019), (3614, 0.004693519049476301), (3527, 0.004691823618697665), (3235, 0.0046757200480614745), (3563, 0.004675328265157742), (3487, 0.004673554944278489), (1078, 0.004672881569533195), (3910, 0.004672391525019392), (3298, 0.004669177597143707), (4286, 0.004669051652349845), (111, 0.004669011819347026), (3303, 0.004668159310539189), (975, 0.004667575502652895), (3318, 0.004666259915943176), (608, 0.004663716528324136), (4643, 0.004663137010368875), (744, 0.004653228716407946), (888, 0.004652476076783619), (659, 0.00465182122553437), (851, 0.004647800957085815), (1869, 0.0046468114512896504), (3349, 0.004645958305905933), (2803, 0.00464544683816642), (2121, 0.004644314908929379), (2716, 0.004643377883486667), (2802, 0.004641107882469483), (3311, 0.004638625125811549), (3705, 0.0046330712817354795), (1209, 0.004633050718789885), (4282, 0.004633017185732414), (1666, 0.004631190476766383), (3014, 0.004626488622256322), (1199, 0.004621922483686234), (3327, 0.004619067211525929), (132, 0.0046176268154160685), (3974, 0.00461517633913098), (3342, 0.004607267744947082), (3241, 0.004602058440770532), (184, 0.004601233830406806), (1782, 0.004601039562508384), (3503, 0.004599069537496204), (1760, 0.00459901895402208), (103, 0.004598966283407374), (3460, 0.004596248397592169), (4284, 0.0045939173049053105), (815, 0.004593832851973964), (97, 0.00459329727910635), (2127, 0.004593172050063225), (2367, 0.004590384605851508), (3227, 0.004585944735472321), (1065, 0.004582508184473225), (2899, 0.004577905324527383), (1255, 0.004577332903255959), (1478, 0.00457325758117657), (856, 0.004570400612673223), (2531, 0.004567930372184865), (92, 0.004566554112843617), (3742, 0.004563344997563787), (4573, 0.004561181820940458), (388, 0.004560921076539767), (1624, 0.004559900467695529), (1565, 0.004558202887352166), (722, 0.004557108206306297), (355, 0.004556026603758566), (1827, 0.004555401679858053), (3657, 0.004548540544297873), (3898, 0.004542054192295266), (1394, 0.00454175523796024), (655, 0.0045408841147932845), (2226, 0.0045400365664159436), (2642, 0.004525848363275015), (3928, 0.004523663774425709), (183, 0.00452217336178769), (2771, 0.0045200314411577005), (3353, 0.004520025189912876), (3706, 0.004518812625221285), (286, 0.00451825552176386), (3120, 0.0045153923113786095), (3214, 0.004514122314763845), (3575, 0.0045129922045016495), (951, 0.004506221738594619), (1080, 0.004505560974420053), (3393, 0.004498289336296538), (2634, 0.004491879227581291), (1813, 0.004491698563535842), (1762, 0.0044884379712246915), (4523, 0.004475458256718834), (3855, 0.004473000742773167), (2295, 0.004471831080306844), (617, 0.004466597419229349), (2010, 0.004462134289901527), (1370, 0.004454933099061971), (357, 0.004452050652227778), (32, 0.004451580461867604), (4712, 0.0044460697726241526), (4638, 0.004445507887297562), (1423, 0.0044404785579878914), (121, 0.004437551897738178), (3669, 0.004434803157677812), (3200, 0.0044300805849102), (1503, 0.00442726258641232), (3477, 0.004424229203372696), (4074, 0.004424193932392658), (589, 0.004423864044898332), (1357, 0.004421580414395767), (2527, 0.004416973656205116), (1884, 0.004410473462311), (2724, 0.0044083109676260656), (1719, 0.004405828441381381), (800, 0.00440153680957541), (707, 0.004396282631734259), (804, 0.004396234853041885), (2492, 0.004394198008700353), (2031, 0.004392242111547376), (2652, 0.004390429073602417), (924, 0.004382695160858317), (2674, 0.004375511542627469), (1743, 0.004373785540671339), (242, 0.004371322215100557), (1543, 0.0043694692471261225), (2741, 0.004368719933746855), (605, 0.004368217564679182), (4636, 0.004363884564036533), (267, 0.004351674214553222), (4247, 0.004349263892795748), (3137, 0.004347450679136001), (457, 0.004345906503535847), (3065, 0.004342368458574588), (1040, 0.004341824746441443), (563, 0.004341625532766659), (3956, 0.00433332364574373), (2747, 0.004330730778181129), (2556, 0.004326990714132771), (611, 0.004325851443165994), (4066, 0.004324279092358398), (2509, 0.004314547018429101), (2355, 0.004314470673071485), (3474, 0.004312108100383563), (495, 0.004307820595005952), (1318, 0.004305183769643124), (3569, 0.004299969334295922), (3626, 0.004293167278921814), (558, 0.0042922766640030325), (1303, 0.0042919002537433045), (195, 0.004290999680044796), (3380, 0.004290807253336558), (1616, 0.004284560768731735), (2976, 0.004279084955249977), (2453, 0.004277043185518305), (480, 0.004273120714780415), (2441, 0.004262646666230307), (3254, 0.004259357197268728), (1251, 0.004251284619411329), (2502, 0.004247964736536738), (1219, 0.004246932475483842), (1356, 0.004238161967716733), (165, 0.004235586602259721), (3220, 0.004222202181011625), (2845, 0.004221455090058343), (1747, 0.004220579969615091), (910, 0.004216724263524027), (2907, 0.004213343141140781), (2697, 0.0042087682375763664), (1305, 0.004205327871700177), (1989, 0.004205119205557892), (3546, 0.004201735387166517), (3027, 0.0042015190801610505), (3293, 0.004196583037729183), (843, 0.004196061715713226), (981, 0.004190536236191549), (1415, 0.004178194376078818), (190, 0.0041750961457847355), (3347, 0.0041748409959341684), (4733, 0.004172559267140426), (16, 0.00416559780118615), (4151, 0.004158548837442419), (2611, 0.004157701856242705), (2034, 0.0041537543621714655), (2580, 0.004143106991469454), (4626, 0.00413824227799449), (2132, 0.004117162753942025), (2892, 0.004115321346185815), (2359, 0.0040989335095753905), (1828, 0.004090574481844085), (1677, 0.004085297844003981), (3331, 0.004067053886105295), (2039, 0.00402713016129721), (4311, 0.004026846018704354), (2526, 0.004018964841495899), (3024, 0.004017752040468993), (616, 0.004010725916220095), (2758, 0.004002120964219924), (626, 0.004002081674404676), (2520, 0.003999393315463104), (3056, 0.003981476025829076), (156, 0.003962532098986828), (433, 0.003959485315681658), (453, 0.0039359192516331114), (571, 0.003925453571255803), (953, 0.003911579941163884), (224, 0.003911067601432489), (2591, 0.003896360887236523), (562, 0.003842008130456896), (1088, 0.003820738485662969), (861, 0.003799043011014532), (4674, 0.003798137548515511), (351, 0.0037932117862536745), (2766, 0.003780450204851052), (256, 0.003775270781965531), (607, 0.00377044143848176), (4752, 0.0037605197168572775), (3365, 0.0036332260041753266), (228, 0.0036097400877568935), (641, 0.003584781376877215), (3199, 0.0035721255441428174), (831, 0.0034739823073291812), (129, 0.003352740649907957), (283, 0.003334064724250002), (1509, 0.0032740332171778993), (4171, 0.0031558144047870627), (202, 0.003113419289106923), (2534, 0.0020586646973473183), (1, 0.0), (2, 0.0), (4, 0.0), (6, 0.0), (10, 0.0), (14, 0.0), (17, 0.0), (20, 0.0), (24, 0.0), (26, 0.0), (27, 0.0), (28, 0.0), (30, 0.0), (36, 0.0), (37, 0.0), (38, 0.0), (39, 0.0), (40, 0.0), (42, 0.0), (45, 0.0), (47, 0.0), (49, 0.0), (50, 0.0), (53, 0.0), (54, 0.0), (55, 0.0), (58, 0.0), (59, 0.0), (64, 0.0), (65, 0.0), (66, 0.0), (70, 0.0), (72, 0.0), (73, 0.0), (76, 0.0), (77, 0.0), (78, 0.0), (80, 0.0), (81, 0.0), (82, 0.0), (90, 0.0), (91, 0.0), (93, 0.0), (94, 0.0), (98, 0.0), (99, 0.0), (100, 0.0), (101, 0.0), (102, 0.0), (115, 0.0), (117, 0.0), (118, 0.0), (122, 0.0), (125, 0.0), (128, 0.0), (133, 0.0), (134, 0.0), (135, 0.0), (139, 0.0), (140, 0.0), (141, 0.0), (143, 0.0), (146, 0.0), (150, 0.0), (151, 0.0), (152, 0.0), (153, 0.0), (154, 0.0), (155, 0.0), (157, 0.0), (158, 0.0), (162, 0.0), (163, 0.0), (164, 0.0), (167, 0.0), (168, 0.0), (171, 0.0), (179, 0.0), (182, 0.0), (186, 0.0), (187, 0.0), (188, 0.0), (189, 0.0), (191, 0.0), (196, 0.0), (205, 0.0), (211, 0.0), (212, 0.0), (214, 0.0), (217, 0.0), (219, 0.0), (220, 0.0), (223, 0.0), (225, 0.0), (226, 0.0), (229, 0.0), (230, 0.0), (232, 0.0), (233, 0.0), (234, 0.0), (235, 0.0), (237, 0.0), (239, 0.0), (241, 0.0), (245, 0.0), (246, 0.0), (247, 0.0), (248, 0.0), (249, 0.0), (253, 0.0), (257, 0.0), (258, 0.0), (259, 0.0), (260, 0.0), (262, 0.0), (264, 0.0), (265, 0.0), (268, 0.0), (272, 0.0), (275, 0.0), (278, 0.0), (279, 0.0), (289, 0.0), (290, 0.0), (291, 0.0), (293, 0.0), (294, 0.0), (295, 0.0), (297, 0.0), (298, 0.0), (299, 0.0), (300, 0.0), (301, 0.0), (302, 0.0), (303, 0.0), (304, 0.0), (305, 0.0), (306, 0.0), (308, 0.0), (310, 0.0), (311, 0.0), (312, 0.0), (314, 0.0), (315, 0.0), (316, 0.0), (317, 0.0), (319, 0.0), (320, 0.0), (321, 0.0), (322, 0.0), (323, 0.0), (324, 0.0), (329, 0.0), (331, 0.0), (335, 0.0), (337, 0.0), (338, 0.0), (339, 0.0), (340, 0.0), (341, 0.0), (344, 0.0), (347, 0.0), (352, 0.0), (361, 0.0), (362, 0.0), (363, 0.0), (365, 0.0), (366, 0.0), (367, 0.0), (375, 0.0), (376, 0.0), (377, 0.0), (378, 0.0), (379, 0.0), (380, 0.0), (381, 0.0), (382, 0.0), (386, 0.0), (389, 0.0), (390, 0.0), (391, 0.0), (392, 0.0), (393, 0.0), (394, 0.0), (395, 0.0), (397, 0.0), (399, 0.0), (401, 0.0), (402, 0.0), (404, 0.0), (405, 0.0), (411, 0.0), (415, 0.0), (417, 0.0), (420, 0.0), (422, 0.0), (423, 0.0), (425, 0.0), (426, 0.0), (427, 0.0), (432, 0.0), (439, 0.0), (440, 0.0), (444, 0.0), (445, 0.0), (446, 0.0), (449, 0.0), (451, 0.0), (454, 0.0), (460, 0.0), (461, 0.0), (462, 0.0), (466, 0.0), (467, 0.0), (468, 0.0), (469, 0.0), (473, 0.0), (474, 0.0), (476, 0.0), (478, 0.0), (484, 0.0), (486, 0.0), (487, 0.0), (489, 0.0), (491, 0.0), (492, 0.0), (497, 0.0), (498, 0.0), (499, 0.0), (503, 0.0), (505, 0.0), (506, 0.0), (507, 0.0), (508, 0.0), (511, 0.0), (512, 0.0), (513, 0.0), (514, 0.0), (516, 0.0), (517, 0.0), (518, 0.0), (520, 0.0), (524, 0.0), (525, 0.0), (526, 0.0), (528, 0.0), (529, 0.0), (531, 0.0), (532, 0.0), (535, 0.0), (536, 0.0), (537, 0.0), (538, 0.0), (539, 0.0), (541, 0.0), (546, 0.0), (548, 0.0), (549, 0.0), (550, 0.0), (552, 0.0), (554, 0.0), (556, 0.0), (557, 0.0), (559, 0.0), (560, 0.0), (565, 0.0), (567, 0.0), (569, 0.0), (570, 0.0), (572, 0.0), (573, 0.0), (574, 0.0), (575, 0.0), (577, 0.0), (581, 0.0), (582, 0.0), (585, 0.0), (591, 0.0), (592, 0.0), (593, 0.0), (595, 0.0), (599, 0.0), (600, 0.0), (601, 0.0), (602, 0.0), (603, 0.0), (610, 0.0), (619, 0.0), (621, 0.0), (624, 0.0), (625, 0.0), (630, 0.0), (633, 0.0), (634, 0.0), (639, 0.0), (640, 0.0), (645, 0.0), (646, 0.0), (647, 0.0), (648, 0.0), (649, 0.0), (650, 0.0), (656, 0.0), (658, 0.0), (661, 0.0), (662, 0.0), (663, 0.0), (665, 0.0), (666, 0.0), (671, 0.0), (674, 0.0), (678, 0.0), (679, 0.0), (680, 0.0), (681, 0.0), (685, 0.0), (686, 0.0), (687, 0.0), (690, 0.0), (694, 0.0), (699, 0.0), (700, 0.0), (702, 0.0), (704, 0.0), (706, 0.0), (708, 0.0), (709, 0.0), (710, 0.0), (711, 0.0), (713, 0.0), (714, 0.0), (715, 0.0), (717, 0.0), (718, 0.0), (720, 0.0), (723, 0.0), (724, 0.0), (725, 0.0), (726, 0.0), (730, 0.0), (731, 0.0), (736, 0.0), (737, 0.0), (738, 0.0), (740, 0.0), (741, 0.0), (745, 0.0), (746, 0.0), (747, 0.0), (751, 0.0), (754, 0.0), (756, 0.0), (758, 0.0), (759, 0.0), (764, 0.0), (765, 0.0), (766, 0.0), (767, 0.0), (770, 0.0), (771, 0.0), (772, 0.0), (773, 0.0), (777, 0.0), (780, 0.0), (781, 0.0), (784, 0.0), (785, 0.0), (786, 0.0), (789, 0.0), (791, 0.0), (793, 0.0), (797, 0.0), (802, 0.0), (803, 0.0), (805, 0.0), (807, 0.0), (809, 0.0), (810, 0.0), (811, 0.0), (814, 0.0), (817, 0.0), (819, 0.0), (820, 0.0), (821, 0.0), (822, 0.0), (823, 0.0), (825, 0.0), (836, 0.0), (837, 0.0), (839, 0.0), (840, 0.0), (841, 0.0), (845, 0.0), (846, 0.0), (848, 0.0), (849, 0.0), (855, 0.0), (859, 0.0), (862, 0.0), (863, 0.0), (868, 0.0), (875, 0.0), (881, 0.0), (882, 0.0), (883, 0.0), (884, 0.0), (887, 0.0), (889, 0.0), (890, 0.0), (891, 0.0), (892, 0.0), (893, 0.0), (898, 0.0), (901, 0.0), (902, 0.0), (906, 0.0), (909, 0.0), (912, 0.0), (913, 0.0), (914, 0.0), (919, 0.0), (920, 0.0), (922, 0.0), (926, 0.0), (927, 0.0), (928, 0.0), (932, 0.0), (933, 0.0), (935, 0.0), (938, 0.0), (941, 0.0), (943, 0.0), (945, 0.0), (946, 0.0), (949, 0.0), (950, 0.0), (954, 0.0), (955, 0.0), (956, 0.0), (958, 0.0), (960, 0.0), (961, 0.0), (964, 0.0), (965, 0.0), (971, 0.0), (972, 0.0), (973, 0.0), (974, 0.0), (977, 0.0), (978, 0.0), (979, 0.0), (982, 0.0), (983, 0.0), (984, 0.0), (987, 0.0), (990, 0.0), (992, 0.0), (993, 0.0), (995, 0.0), (996, 0.0), (997, 0.0), (1004, 0.0), (1008, 0.0), (1010, 0.0), (1011, 0.0), (1013, 0.0), (1014, 0.0), (1016, 0.0), (1019, 0.0), (1022, 0.0), (1025, 0.0), (1028, 0.0), (1029, 0.0), (1031, 0.0), (1032, 0.0), (1036, 0.0), (1037, 0.0), (1038, 0.0), (1039, 0.0), (1042, 0.0), (1047, 0.0), (1048, 0.0), (1051, 0.0), (1054, 0.0), (1055, 0.0), (1056, 0.0), (1057, 0.0), (1062, 0.0), (1066, 0.0), (1067, 0.0), (1069, 0.0), (1070, 0.0), (1072, 0.0), (1073, 0.0), (1076, 0.0), (1081, 0.0), (1082, 0.0), (1086, 0.0), (1089, 0.0), (1091, 0.0), (1092, 0.0), (1093, 0.0), (1094, 0.0), (1096, 0.0), (1097, 0.0), (1098, 0.0), (1099, 0.0), (1100, 0.0), (1101, 0.0), (1103, 0.0), (1104, 0.0), (1105, 0.0), (1106, 0.0), (1108, 0.0), (1110, 0.0), (1113, 0.0), (1115, 0.0), (1117, 0.0), (1120, 0.0), (1121, 0.0), (1126, 0.0), (1127, 0.0), (1130, 0.0), (1133, 0.0), (1135, 0.0), (1139, 0.0), (1142, 0.0), (1143, 0.0), (1145, 0.0), (1147, 0.0), (1149, 0.0), (1150, 0.0), (1151, 0.0), (1153, 0.0), (1154, 0.0), (1155, 0.0), (1156, 0.0), (1158, 0.0), (1159, 0.0), (1162, 0.0), (1164, 0.0), (1165, 0.0), (1166, 0.0), (1167, 0.0), (1168, 0.0), (1169, 0.0), (1171, 0.0), (1172, 0.0), (1174, 0.0), (1178, 0.0), (1180, 0.0), (1181, 0.0), (1189, 0.0), (1190, 0.0), (1193, 0.0), (1196, 0.0), (1197, 0.0), (1198, 0.0), (1200, 0.0), (1201, 0.0), (1203, 0.0), (1204, 0.0), (1205, 0.0), (1207, 0.0), (1210, 0.0), (1211, 0.0), (1212, 0.0), (1213, 0.0), (1214, 0.0), (1218, 0.0), (1221, 0.0), (1222, 0.0), (1226, 0.0), (1227, 0.0), (1228, 0.0), (1233, 0.0), (1235, 0.0), (1240, 0.0), (1242, 0.0), (1244, 0.0), (1246, 0.0), (1253, 0.0), (1256, 0.0), (1258, 0.0), (1259, 0.0), (1260, 0.0), (1262, 0.0), (1263, 0.0), (1265, 0.0), (1268, 0.0), (1269, 0.0), (1271, 0.0), (1277, 0.0), (1280, 0.0), (1281, 0.0), (1282, 0.0), (1284, 0.0), (1285, 0.0), (1287, 0.0), (1288, 0.0), (1289, 0.0), (1291, 0.0), (1293, 0.0), (1294, 0.0), (1295, 0.0), (1296, 0.0), (1297, 0.0), (1298, 0.0), (1299, 0.0), (1301, 0.0), (1302, 0.0), (1304, 0.0), (1309, 0.0), (1311, 0.0), (1312, 0.0), (1315, 0.0), (1319, 0.0), (1321, 0.0), (1322, 0.0), (1323, 0.0), (1326, 0.0), (1328, 0.0), (1330, 0.0), (1332, 0.0), (1333, 0.0), (1336, 0.0), (1344, 0.0), (1345, 0.0), (1346, 0.0), (1347, 0.0), (1353, 0.0), (1354, 0.0), (1355, 0.0), (1359, 0.0), (1362, 0.0), (1363, 0.0), (1366, 0.0), (1368, 0.0), (1373, 0.0), (1376, 0.0), (1380, 0.0), (1381, 0.0), (1388, 0.0), (1390, 0.0), (1391, 0.0), (1392, 0.0), (1395, 0.0), (1399, 0.0), (1402, 0.0), (1404, 0.0), (1407, 0.0), (1409, 0.0), (1411, 0.0), (1416, 0.0), (1424, 0.0), (1426, 0.0), (1428, 0.0), (1430, 0.0), (1433, 0.0), (1434, 0.0), (1435, 0.0), (1437, 0.0), (1439, 0.0), (1441, 0.0), (1444, 0.0), (1447, 0.0), (1449, 0.0), (1450, 0.0), (1451, 0.0), (1452, 0.0), (1456, 0.0), (1457, 0.0), (1458, 0.0), (1459, 0.0), (1460, 0.0), (1461, 0.0), (1466, 0.0), (1467, 0.0), (1468, 0.0), (1469, 0.0), (1470, 0.0), (1473, 0.0), (1479, 0.0), (1480, 0.0), (1484, 0.0), (1485, 0.0), (1487, 0.0), (1490, 0.0), (1491, 0.0), (1493, 0.0), (1495, 0.0), (1496, 0.0), (1497, 0.0), (1499, 0.0), (1502, 0.0), (1504, 0.0), (1507, 0.0), (1508, 0.0), (1511, 0.0), (1516, 0.0), (1517, 0.0), (1520, 0.0), (1521, 0.0), (1522, 0.0), (1524, 0.0), (1525, 0.0), (1528, 0.0), (1529, 0.0), (1530, 0.0), (1531, 0.0), (1532, 0.0), (1534, 0.0), (1535, 0.0), (1536, 0.0), (1540, 0.0), (1541, 0.0), (1545, 0.0), (1546, 0.0), (1548, 0.0), (1549, 0.0), (1550, 0.0), (1551, 0.0), (1552, 0.0), (1553, 0.0), (1554, 0.0), (1555, 0.0), (1556, 0.0), (1557, 0.0), (1559, 0.0), (1560, 0.0), (1561, 0.0), (1562, 0.0), (1563, 0.0), (1564, 0.0), (1566, 0.0), (1569, 0.0), (1573, 0.0), (1574, 0.0), (1575, 0.0), (1576, 0.0), (1577, 0.0), (1578, 0.0), (1580, 0.0), (1581, 0.0), (1584, 0.0), (1586, 0.0), (1587, 0.0), (1588, 0.0), (1589, 0.0), (1590, 0.0), (1592, 0.0), (1593, 0.0), (1594, 0.0), (1596, 0.0), (1599, 0.0), (1600, 0.0), (1601, 0.0), (1602, 0.0), (1603, 0.0), (1604, 0.0), (1606, 0.0), (1607, 0.0), (1610, 0.0), (1611, 0.0), (1613, 0.0), (1614, 0.0), (1615, 0.0), (1617, 0.0), (1618, 0.0), (1622, 0.0), (1623, 0.0), (1625, 0.0), (1626, 0.0), (1631, 0.0), (1632, 0.0), (1633, 0.0), (1635, 0.0), (1636, 0.0), (1637, 0.0), (1638, 0.0), (1639, 0.0), (1640, 0.0), (1641, 0.0), (1642, 0.0), (1644, 0.0), (1646, 0.0), (1649, 0.0), (1651, 0.0), (1656, 0.0), (1657, 0.0), (1659, 0.0), (1660, 0.0), (1661, 0.0), (1663, 0.0), (1664, 0.0), (1668, 0.0), (1669, 0.0), (1670, 0.0), (1672, 0.0), (1673, 0.0), (1679, 0.0), (1681, 0.0), (1683, 0.0), (1686, 0.0), (1689, 0.0), (1691, 0.0), (1695, 0.0), (1696, 0.0), (1697, 0.0), (1698, 0.0), (1699, 0.0), (1700, 0.0), (1704, 0.0), (1708, 0.0), (1709, 0.0), (1712, 0.0), (1713, 0.0), (1724, 0.0), (1725, 0.0), (1726, 0.0), (1728, 0.0), (1729, 0.0), (1731, 0.0), (1732, 0.0), (1733, 0.0), (1734, 0.0), (1737, 0.0), (1738, 0.0), (1742, 0.0), (1745, 0.0), (1746, 0.0), (1751, 0.0), (1753, 0.0), (1755, 0.0), (1756, 0.0), (1758, 0.0), (1761, 0.0), (1765, 0.0), (1766, 0.0), (1767, 0.0), (1769, 0.0), (1771, 0.0), (1772, 0.0), (1773, 0.0), (1775, 0.0), (1777, 0.0), (1778, 0.0), (1780, 0.0), (1781, 0.0), (1783, 0.0), (1784, 0.0), (1785, 0.0), (1786, 0.0), (1789, 0.0), (1790, 0.0), (1791, 0.0), (1792, 0.0), (1794, 0.0), (1800, 0.0), (1801, 0.0), (1803, 0.0), (1804, 0.0), (1805, 0.0), (1808, 0.0), (1810, 0.0), (1811, 0.0), (1812, 0.0), (1814, 0.0), (1820, 0.0), (1823, 0.0), (1824, 0.0), (1825, 0.0), (1826, 0.0), (1829, 0.0), (1831, 0.0), (1833, 0.0), (1834, 0.0), (1835, 0.0), (1836, 0.0), (1839, 0.0), (1840, 0.0), (1842, 0.0), (1843, 0.0), (1844, 0.0), (1846, 0.0), (1848, 0.0), (1852, 0.0), (1855, 0.0), (1856, 0.0), (1857, 0.0), (1859, 0.0), (1860, 0.0), (1862, 0.0), (1863, 0.0), (1867, 0.0), (1873, 0.0), (1877, 0.0), (1879, 0.0), (1881, 0.0), (1883, 0.0), (1887, 0.0), (1888, 0.0), (1889, 0.0), (1890, 0.0), (1894, 0.0), (1898, 0.0), (1899, 0.0), (1901, 0.0), (1903, 0.0), (1904, 0.0), (1910, 0.0), (1912, 0.0), (1913, 0.0), (1914, 0.0), (1915, 0.0), (1917, 0.0), (1921, 0.0), (1925, 0.0), (1926, 0.0), (1928, 0.0), (1929, 0.0), (1930, 0.0), (1932, 0.0), (1933, 0.0), (1936, 0.0), (1938, 0.0), (1939, 0.0), (1940, 0.0), (1941, 0.0), (1944, 0.0), (1952, 0.0), (1953, 0.0), (1954, 0.0), (1955, 0.0), (1956, 0.0), (1958, 0.0), (1959, 0.0), (1961, 0.0), (1962, 0.0), (1963, 0.0), (1965, 0.0), (1966, 0.0), (1972, 0.0), (1973, 0.0), (1974, 0.0), (1975, 0.0), (1978, 0.0), (1979, 0.0), (1980, 0.0), (1981, 0.0), (1984, 0.0), (1987, 0.0), (1991, 0.0), (1993, 0.0), (1998, 0.0), (2001, 0.0), (2002, 0.0), (2003, 0.0), (2006, 0.0), (2007, 0.0), (2009, 0.0), (2014, 0.0), (2015, 0.0), (2017, 0.0), (2019, 0.0), (2021, 0.0), (2025, 0.0), (2028, 0.0), (2030, 0.0), (2032, 0.0), (2033, 0.0), (2036, 0.0), (2038, 0.0), (2041, 0.0), (2042, 0.0), (2043, 0.0), (2044, 0.0), (2046, 0.0), (2047, 0.0), (2050, 0.0), (2052, 0.0), (2054, 0.0), (2057, 0.0), (2059, 0.0), (2060, 0.0), (2063, 0.0), (2066, 0.0), (2071, 0.0), (2072, 0.0), (2077, 0.0), (2078, 0.0), (2079, 0.0), (2081, 0.0), (2084, 0.0), (2085, 0.0), (2086, 0.0), (2090, 0.0), (2092, 0.0), (2093, 0.0), (2095, 0.0), (2098, 0.0), (2099, 0.0), (2106, 0.0), (2107, 0.0), (2111, 0.0), (2115, 0.0), (2118, 0.0), (2120, 0.0), (2123, 0.0), (2124, 0.0), (2125, 0.0), (2128, 0.0), (2129, 0.0), (2130, 0.0), (2135, 0.0), (2136, 0.0), (2137, 0.0), (2138, 0.0), (2139, 0.0), (2140, 0.0), (2141, 0.0), (2142, 0.0), (2146, 0.0), (2147, 0.0), (2148, 0.0), (2150, 0.0), (2151, 0.0), (2152, 0.0), (2153, 0.0), (2158, 0.0), (2163, 0.0), (2164, 0.0), (2165, 0.0), (2166, 0.0), (2168, 0.0), (2170, 0.0), (2171, 0.0), (2172, 0.0), (2173, 0.0), (2178, 0.0), (2179, 0.0), (2180, 0.0), (2181, 0.0), (2182, 0.0), (2183, 0.0), (2184, 0.0), (2186, 0.0), (2187, 0.0), (2189, 0.0), (2190, 0.0), (2192, 0.0), (2194, 0.0), (2200, 0.0), (2202, 0.0), (2204, 0.0), (2207, 0.0), (2208, 0.0), (2209, 0.0), (2213, 0.0), (2215, 0.0), (2217, 0.0), (2218, 0.0), (2219, 0.0), (2220, 0.0), (2222, 0.0), (2225, 0.0), (2227, 0.0), (2228, 0.0), (2231, 0.0), (2232, 0.0), (2233, 0.0), (2234, 0.0), (2238, 0.0), (2241, 0.0), (2243, 0.0), (2246, 0.0), (2247, 0.0), (2248, 0.0), (2249, 0.0), (2252, 0.0), (2253, 0.0), (2256, 0.0), (2259, 0.0), (2261, 0.0), (2262, 0.0), (2263, 0.0), (2267, 0.0), (2268, 0.0), (2270, 0.0), (2271, 0.0), (2272, 0.0), (2273, 0.0), (2274, 0.0), (2278, 0.0), (2281, 0.0), (2282, 0.0), (2283, 0.0), (2288, 0.0), (2292, 0.0), (2293, 0.0), (2296, 0.0), (2297, 0.0), (2299, 0.0), (2300, 0.0), (2304, 0.0), (2305, 0.0), (2306, 0.0), (2307, 0.0), (2308, 0.0), (2310, 0.0), (2311, 0.0), (2312, 0.0), (2314, 0.0), (2315, 0.0), (2317, 0.0), (2322, 0.0), (2323, 0.0), (2324, 0.0), (2325, 0.0), (2326, 0.0), (2327, 0.0), (2328, 0.0), (2329, 0.0), (2330, 0.0), (2331, 0.0), (2332, 0.0), (2333, 0.0), (2336, 0.0), (2337, 0.0), (2340, 0.0), (2341, 0.0), (2342, 0.0), (2343, 0.0), (2345, 0.0), (2351, 0.0), (2352, 0.0), (2354, 0.0), (2356, 0.0), (2357, 0.0), (2358, 0.0), (2360, 0.0), (2363, 0.0), (2364, 0.0), (2369, 0.0), (2370, 0.0), (2372, 0.0), (2373, 0.0), (2377, 0.0), (2378, 0.0), (2380, 0.0), (2381, 0.0), (2382, 0.0), (2383, 0.0), (2384, 0.0), (2385, 0.0), (2387, 0.0), (2389, 0.0), (2392, 0.0), (2395, 0.0), (2396, 0.0), (2398, 0.0), (2401, 0.0), (2403, 0.0), (2404, 0.0), (2408, 0.0), (2409, 0.0), (2410, 0.0), (2414, 0.0), (2416, 0.0), (2419, 0.0), (2420, 0.0), (2424, 0.0), (2425, 0.0), (2429, 0.0), (2431, 0.0), (2432, 0.0), (2433, 0.0), (2435, 0.0), (2442, 0.0), (2444, 0.0), (2445, 0.0), (2446, 0.0), (2450, 0.0), (2451, 0.0), (2452, 0.0), (2454, 0.0), (2455, 0.0), (2456, 0.0), (2458, 0.0), (2462, 0.0), (2465, 0.0), (2470, 0.0), (2471, 0.0), (2472, 0.0), (2476, 0.0), (2479, 0.0), (2483, 0.0), (2485, 0.0), (2491, 0.0), (2493, 0.0), (2495, 0.0), (2497, 0.0), (2498, 0.0), (2499, 0.0), (2500, 0.0), (2501, 0.0), (2504, 0.0), (2505, 0.0), (2506, 0.0), (2507, 0.0), (2508, 0.0), (2511, 0.0), (2514, 0.0), (2515, 0.0), (2516, 0.0), (2518, 0.0), (2519, 0.0), (2521, 0.0), (2523, 0.0), (2525, 0.0), (2532, 0.0), (2533, 0.0), (2536, 0.0), (2537, 0.0), (2539, 0.0), (2541, 0.0), (2542, 0.0), (2543, 0.0), (2544, 0.0), (2545, 0.0), (2547, 0.0), (2548, 0.0), (2549, 0.0), (2551, 0.0), (2552, 0.0), (2557, 0.0), (2561, 0.0), (2562, 0.0), (2564, 0.0), (2566, 0.0), (2567, 0.0), (2569, 0.0), (2571, 0.0), (2572, 0.0), (2573, 0.0), (2574, 0.0), (2575, 0.0), (2576, 0.0), (2577, 0.0), (2578, 0.0), (2581, 0.0), (2583, 0.0), (2584, 0.0), (2585, 0.0), (2586, 0.0), (2588, 0.0), (2589, 0.0), (2590, 0.0), (2594, 0.0), (2595, 0.0), (2596, 0.0), (2597, 0.0), (2599, 0.0), (2600, 0.0), (2604, 0.0), (2605, 0.0), (2608, 0.0), (2610, 0.0), (2613, 0.0), (2615, 0.0), (2616, 0.0), (2619, 0.0), (2620, 0.0), (2622, 0.0), (2624, 0.0), (2626, 0.0), (2627, 0.0), (2628, 0.0), (2631, 0.0), (2635, 0.0), (2636, 0.0), (2637, 0.0), (2641, 0.0), (2648, 0.0), (2651, 0.0), (2656, 0.0), (2657, 0.0), (2658, 0.0), (2659, 0.0), (2662, 0.0), (2663, 0.0), (2666, 0.0), (2667, 0.0), (2669, 0.0), (2670, 0.0), (2671, 0.0), (2672, 0.0), (2673, 0.0), (2675, 0.0), (2676, 0.0), (2677, 0.0), (2679, 0.0), (2681, 0.0), (2682, 0.0), (2683, 0.0), (2684, 0.0), (2685, 0.0), (2686, 0.0), (2690, 0.0), (2693, 0.0), (2694, 0.0), (2699, 0.0), (2700, 0.0), (2701, 0.0), (2703, 0.0), (2704, 0.0), (2707, 0.0), (2708, 0.0), (2709, 0.0), (2711, 0.0), (2713, 0.0), (2715, 0.0), (2717, 0.0), (2719, 0.0), (2720, 0.0), (2721, 0.0), (2722, 0.0), (2725, 0.0), (2728, 0.0), (2729, 0.0), (2730, 0.0), (2733, 0.0), (2734, 0.0), (2735, 0.0), (2736, 0.0), (2737, 0.0), (2738, 0.0), (2749, 0.0), (2750, 0.0), (2753, 0.0), (2754, 0.0), (2756, 0.0), (2757, 0.0), (2763, 0.0), (2765, 0.0), (2770, 0.0), (2773, 0.0), (2774, 0.0), (2781, 0.0), (2783, 0.0), (2785, 0.0), (2786, 0.0), (2787, 0.0), (2788, 0.0), (2790, 0.0), (2792, 0.0), (2793, 0.0), (2794, 0.0), (2799, 0.0), (2801, 0.0), (2804, 0.0), (2806, 0.0), (2810, 0.0), (2811, 0.0), (2813, 0.0), (2814, 0.0), (2815, 0.0), (2817, 0.0), (2818, 0.0), (2819, 0.0), (2820, 0.0), (2822, 0.0), (2824, 0.0), (2825, 0.0), (2826, 0.0), (2827, 0.0), (2828, 0.0), (2829, 0.0), (2833, 0.0), (2835, 0.0), (2836, 0.0), (2837, 0.0), (2839, 0.0), (2842, 0.0), (2846, 0.0), (2847, 0.0), (2850, 0.0), (2851, 0.0), (2852, 0.0), (2853, 0.0), (2855, 0.0), (2856, 0.0), (2858, 0.0), (2860, 0.0), (2861, 0.0), (2863, 0.0), (2864, 0.0), (2865, 0.0), (2866, 0.0), (2875, 0.0), (2877, 0.0), (2880, 0.0), (2882, 0.0), (2884, 0.0), (2891, 0.0), (2895, 0.0), (2896, 0.0), (2898, 0.0), (2900, 0.0), (2902, 0.0), (2905, 0.0), (2906, 0.0), (2909, 0.0), (2912, 0.0), (2913, 0.0), (2921, 0.0), (2922, 0.0), (2923, 0.0), (2927, 0.0), (2928, 0.0), (2930, 0.0), (2936, 0.0), (2937, 0.0), (2938, 0.0), (2940, 0.0), (2941, 0.0), (2947, 0.0), (2948, 0.0), (2949, 0.0), (2950, 0.0), (2951, 0.0), (2952, 0.0), (2953, 0.0), (2954, 0.0), (2955, 0.0), (2956, 0.0), (2957, 0.0), (2958, 0.0), (2959, 0.0), (2960, 0.0), (2962, 0.0), (2963, 0.0), (2964, 0.0), (2967, 0.0), (2968, 0.0), (2970, 0.0), (2973, 0.0), (2979, 0.0), (2982, 0.0), (2983, 0.0), (2984, 0.0), (2987, 0.0), (2990, 0.0), (2991, 0.0), (2993, 0.0), (2994, 0.0), (2997, 0.0), (3001, 0.0), (3002, 0.0), (3003, 0.0), (3005, 0.0), (3006, 0.0), (3007, 0.0), (3008, 0.0), (3009, 0.0), (3011, 0.0), (3016, 0.0), (3018, 0.0), (3020, 0.0), (3021, 0.0), (3022, 0.0), (3025, 0.0), (3026, 0.0), (3029, 0.0), (3030, 0.0), (3031, 0.0), (3034, 0.0), (3035, 0.0), (3038, 0.0), (3040, 0.0), (3041, 0.0), (3042, 0.0), (3047, 0.0), (3048, 0.0), (3049, 0.0), (3052, 0.0), (3054, 0.0), (3055, 0.0), (3057, 0.0), (3058, 0.0), (3059, 0.0), (3060, 0.0), (3061, 0.0), (3063, 0.0), (3064, 0.0), (3066, 0.0), (3068, 0.0), (3069, 0.0), (3073, 0.0), (3077, 0.0), (3078, 0.0), (3079, 0.0), (3080, 0.0), (3082, 0.0), (3084, 0.0), (3087, 0.0), (3088, 0.0), (3089, 0.0), (3090, 0.0), (3092, 0.0), (3093, 0.0), (3100, 0.0), (3101, 0.0), (3103, 0.0), (3104, 0.0), (3105, 0.0), (3106, 0.0), (3107, 0.0), (3109, 0.0), (3113, 0.0), (3115, 0.0), (3117, 0.0), (3121, 0.0), (3124, 0.0), (3126, 0.0), (3128, 0.0), (3130, 0.0), (3131, 0.0), (3132, 0.0), (3133, 0.0), (3134, 0.0), (3135, 0.0), (3136, 0.0), (3138, 0.0), (3139, 0.0), (3141, 0.0), (3143, 0.0), (3145, 0.0), (3149, 0.0), (3150, 0.0), (3158, 0.0), (3159, 0.0), (3160, 0.0), (3161, 0.0), (3162, 0.0), (3163, 0.0), (3168, 0.0), (3169, 0.0), (3172, 0.0), (3173, 0.0), (3174, 0.0), (3175, 0.0), (3176, 0.0), (3177, 0.0), (3179, 0.0), (3180, 0.0), (3181, 0.0), (3185, 0.0), (3186, 0.0), (3188, 0.0), (3189, 0.0), (3190, 0.0), (3191, 0.0), (3193, 0.0), (3197, 0.0), (3201, 0.0), (3202, 0.0), (3204, 0.0), (3206, 0.0), (3207, 0.0), (3208, 0.0), (3209, 0.0), (3211, 0.0), (3212, 0.0), (3216, 0.0), (3217, 0.0), (3221, 0.0), (3223, 0.0), (3224, 0.0), (3225, 0.0), (3229, 0.0), (3230, 0.0), (3231, 0.0), (3236, 0.0), (3238, 0.0), (3239, 0.0), (3242, 0.0), (3243, 0.0), (3247, 0.0), (3249, 0.0), (3250, 0.0), (3251, 0.0), (3252, 0.0), (3261, 0.0), (3263, 0.0), (3266, 0.0), (3269, 0.0), (3270, 0.0), (3271, 0.0), (3272, 0.0), (3277, 0.0), (3280, 0.0), (3281, 0.0), (3283, 0.0), (3286, 0.0), (3287, 0.0), (3288, 0.0), (3289, 0.0), (3290, 0.0), (3292, 0.0), (3305, 0.0), (3307, 0.0), (3309, 0.0), (3310, 0.0), (3320, 0.0), (3321, 0.0), (3322, 0.0), (3323, 0.0), (3324, 0.0), (3329, 0.0), (3332, 0.0), (3333, 0.0), (3335, 0.0), (3336, 0.0), (3337, 0.0), (3338, 0.0), (3339, 0.0), (3340, 0.0), (3341, 0.0), (3343, 0.0), (3348, 0.0), (3350, 0.0), (3351, 0.0), (3354, 0.0), (3358, 0.0), (3361, 0.0), (3366, 0.0), (3367, 0.0), (3368, 0.0), (3369, 0.0), (3371, 0.0), (3372, 0.0), (3378, 0.0), (3381, 0.0), (3383, 0.0), (3390, 0.0), (3391, 0.0), (3392, 0.0), (3394, 0.0), (3396, 0.0), (3397, 0.0), (3398, 0.0), (3400, 0.0), (3401, 0.0), (3404, 0.0), (3405, 0.0), (3411, 0.0), (3412, 0.0), (3414, 0.0), (3415, 0.0), (3419, 0.0), (3422, 0.0), (3423, 0.0), (3424, 0.0), (3429, 0.0), (3431, 0.0), (3432, 0.0), (3434, 0.0), (3438, 0.0), (3439, 0.0), (3440, 0.0), (3441, 0.0), (3442, 0.0), (3443, 0.0), (3444, 0.0), (3448, 0.0), (3451, 0.0), (3452, 0.0), (3453, 0.0), (3454, 0.0), (3455, 0.0), (3459, 0.0), (3461, 0.0), (3464, 0.0), (3467, 0.0), (3468, 0.0), (3472, 0.0), (3473, 0.0), (3475, 0.0), (3476, 0.0), (3478, 0.0), (3481, 0.0), (3482, 0.0), (3484, 0.0), (3485, 0.0), (3486, 0.0), (3489, 0.0), (3490, 0.0), (3491, 0.0), (3494, 0.0), (3495, 0.0), (3497, 0.0), (3499, 0.0), (3502, 0.0), (3505, 0.0), (3507, 0.0), (3508, 0.0), (3510, 0.0), (3513, 0.0), (3514, 0.0), (3517, 0.0), (3519, 0.0), (3520, 0.0), (3522, 0.0), (3523, 0.0), (3525, 0.0), (3529, 0.0), (3530, 0.0), (3531, 0.0), (3532, 0.0), (3533, 0.0), (3534, 0.0), (3537, 0.0), (3538, 0.0), (3539, 0.0), (3540, 0.0), (3543, 0.0), (3544, 0.0), (3545, 0.0), (3547, 0.0), (3548, 0.0), (3549, 0.0), (3550, 0.0), (3554, 0.0), (3555, 0.0), (3561, 0.0), (3562, 0.0), (3565, 0.0), (3567, 0.0), (3568, 0.0), (3570, 0.0), (3573, 0.0), (3576, 0.0), (3578, 0.0), (3581, 0.0), (3583, 0.0), (3584, 0.0), (3585, 0.0), (3587, 0.0), (3588, 0.0), (3589, 0.0), (3591, 0.0), (3592, 0.0), (3593, 0.0), (3595, 0.0), (3596, 0.0), (3599, 0.0), (3600, 0.0), (3602, 0.0), (3603, 0.0), (3604, 0.0), (3605, 0.0), (3606, 0.0), (3607, 0.0), (3608, 0.0), (3609, 0.0), (3610, 0.0), (3611, 0.0), (3615, 0.0), (3616, 0.0), (3617, 0.0), (3619, 0.0), (3621, 0.0), (3622, 0.0), (3625, 0.0), (3627, 0.0), (3628, 0.0), (3629, 0.0), (3631, 0.0), (3632, 0.0), (3633, 0.0), (3636, 0.0), (3644, 0.0), (3647, 0.0), (3649, 0.0), (3650, 0.0), (3651, 0.0), (3658, 0.0), (3661, 0.0), (3662, 0.0), (3663, 0.0), (3664, 0.0), (3668, 0.0), (3671, 0.0), (3672, 0.0), (3674, 0.0), (3676, 0.0), (3677, 0.0), (3678, 0.0), (3679, 0.0), (3681, 0.0), (3682, 0.0), (3683, 0.0), (3685, 0.0), (3686, 0.0), (3687, 0.0), (3688, 0.0), (3690, 0.0), (3691, 0.0), (3693, 0.0), (3695, 0.0), (3697, 0.0), (3698, 0.0), (3700, 0.0), (3701, 0.0), (3702, 0.0), (3703, 0.0), (3709, 0.0), (3710, 0.0), (3712, 0.0), (3713, 0.0), (3714, 0.0), (3715, 0.0), (3716, 0.0), (3717, 0.0), (3718, 0.0), (3719, 0.0), (3721, 0.0), (3722, 0.0), (3723, 0.0), (3724, 0.0), (3725, 0.0), (3726, 0.0), (3729, 0.0), (3730, 0.0), (3732, 0.0), (3735, 0.0), (3736, 0.0), (3737, 0.0), (3738, 0.0), (3740, 0.0), (3743, 0.0), (3744, 0.0), (3746, 0.0), (3757, 0.0), (3758, 0.0), (3759, 0.0), (3760, 0.0), (3761, 0.0), (3762, 0.0), (3764, 0.0), (3768, 0.0), (3769, 0.0), (3770, 0.0), (3773, 0.0), (3774, 0.0), (3775, 0.0), (3776, 0.0), (3779, 0.0), (3781, 0.0), (3782, 0.0), (3783, 0.0), (3785, 0.0), (3786, 0.0), (3787, 0.0), (3788, 0.0), (3789, 0.0), (3790, 0.0), (3791, 0.0), (3792, 0.0), (3795, 0.0), (3796, 0.0), (3798, 0.0), (3800, 0.0), (3802, 0.0), (3803, 0.0), (3804, 0.0), (3805, 0.0), (3806, 0.0), (3808, 0.0), (3812, 0.0), (3814, 0.0), (3815, 0.0), (3816, 0.0), (3817, 0.0), (3818, 0.0), (3820, 0.0), (3823, 0.0), (3824, 0.0), (3830, 0.0), (3831, 0.0), (3833, 0.0), (3834, 0.0), (3836, 0.0), (3837, 0.0), (3838, 0.0), (3840, 0.0), (3841, 0.0), (3842, 0.0), (3843, 0.0), (3844, 0.0), (3846, 0.0), (3847, 0.0), (3848, 0.0), (3849, 0.0), (3851, 0.0), (3856, 0.0), (3858, 0.0), (3859, 0.0), (3863, 0.0), (3869, 0.0), (3870, 0.0), (3872, 0.0), (3874, 0.0), (3877, 0.0), (3878, 0.0), (3879, 0.0), (3881, 0.0), (3884, 0.0), (3885, 0.0), (3886, 0.0), (3887, 0.0), (3889, 0.0), (3891, 0.0), (3894, 0.0), (3896, 0.0), (3897, 0.0), (3899, 0.0), (3905, 0.0), (3906, 0.0), (3907, 0.0), (3908, 0.0), (3911, 0.0), (3912, 0.0), (3914, 0.0), (3916, 0.0), (3918, 0.0), (3921, 0.0), (3929, 0.0), (3930, 0.0), (3931, 0.0), (3933, 0.0), (3935, 0.0), (3936, 0.0), (3937, 0.0), (3938, 0.0), (3939, 0.0), (3942, 0.0), (3943, 0.0), (3944, 0.0), (3945, 0.0), (3948, 0.0), (3949, 0.0), (3950, 0.0), (3963, 0.0), (3964, 0.0), (3965, 0.0), (3966, 0.0), (3967, 0.0), (3968, 0.0), (3969, 0.0), (3970, 0.0), (3971, 0.0), (3972, 0.0), (3975, 0.0), (3977, 0.0), (3979, 0.0), (3980, 0.0), (3981, 0.0), (3982, 0.0), (3985, 0.0), (3986, 0.0), (3987, 0.0), (3988, 0.0), (3989, 0.0), (3991, 0.0), (3994, 0.0), (3995, 0.0), (3996, 0.0), (3997, 0.0), (3998, 0.0), (3999, 0.0), (4002, 0.0), (4003, 0.0), (4006, 0.0), (4010, 0.0), (4013, 0.0), (4015, 0.0), (4017, 0.0), (4018, 0.0), (4019, 0.0), (4021, 0.0), (4022, 0.0), (4023, 0.0), (4026, 0.0), (4027, 0.0), (4028, 0.0), (4029, 0.0), (4030, 0.0), (4031, 0.0), (4034, 0.0), (4037, 0.0), (4039, 0.0), (4040, 0.0), (4041, 0.0), (4042, 0.0), (4043, 0.0), (4044, 0.0), (4045, 0.0), (4047, 0.0), (4049, 0.0), (4052, 0.0), (4058, 0.0), (4059, 0.0), (4063, 0.0), (4065, 0.0), (4067, 0.0), (4070, 0.0), (4071, 0.0), (4072, 0.0), (4073, 0.0), (4075, 0.0), (4076, 0.0), (4077, 0.0), (4078, 0.0), (4080, 0.0), (4083, 0.0), (4084, 0.0), (4086, 0.0), (4089, 0.0), (4090, 0.0), (4091, 0.0), (4093, 0.0), (4094, 0.0), (4097, 0.0), (4100, 0.0), (4102, 0.0), (4103, 0.0), (4105, 0.0), (4107, 0.0), (4108, 0.0), (4109, 0.0), (4112, 0.0), (4114, 0.0), (4115, 0.0), (4119, 0.0), (4120, 0.0), (4122, 0.0), (4125, 0.0), (4126, 0.0), (4127, 0.0), (4129, 0.0), (4131, 0.0), (4132, 0.0), (4134, 0.0), (4136, 0.0), (4139, 0.0), (4140, 0.0), (4142, 0.0), (4144, 0.0), (4145, 0.0), (4146, 0.0), (4147, 0.0), (4148, 0.0), (4150, 0.0), (4153, 0.0), (4155, 0.0), (4157, 0.0), (4159, 0.0), (4161, 0.0), (4162, 0.0), (4166, 0.0), (4167, 0.0), (4168, 0.0), (4169, 0.0), (4170, 0.0), (4172, 0.0), (4173, 0.0), (4174, 0.0), (4175, 0.0), (4179, 0.0), (4180, 0.0), (4181, 0.0), (4184, 0.0), (4185, 0.0), (4186, 0.0), (4188, 0.0), (4190, 0.0), (4191, 0.0), (4193, 0.0), (4194, 0.0), (4197, 0.0), (4198, 0.0), (4199, 0.0), (4200, 0.0), (4201, 0.0), (4204, 0.0), (4206, 0.0), (4207, 0.0), (4208, 0.0), (4209, 0.0), (4211, 0.0), (4212, 0.0), (4213, 0.0), (4214, 0.0), (4215, 0.0), (4218, 0.0), (4219, 0.0), (4220, 0.0), (4221, 0.0), (4222, 0.0), (4223, 0.0), (4224, 0.0), (4225, 0.0), (4228, 0.0), (4229, 0.0), (4230, 0.0), (4234, 0.0), (4236, 0.0), (4237, 0.0), (4238, 0.0), (4239, 0.0), (4240, 0.0), (4241, 0.0), (4245, 0.0), (4248, 0.0), (4250, 0.0), (4251, 0.0), (4252, 0.0), (4253, 0.0), (4254, 0.0), (4256, 0.0), (4258, 0.0), (4260, 0.0), (4262, 0.0), (4263, 0.0), (4264, 0.0), (4265, 0.0), (4267, 0.0), (4270, 0.0), (4271, 0.0), (4273, 0.0), (4274, 0.0), (4275, 0.0), (4276, 0.0), (4277, 0.0), (4278, 0.0), (4279, 0.0), (4280, 0.0), (4285, 0.0), (4289, 0.0), (4290, 0.0), (4291, 0.0), (4292, 0.0), (4294, 0.0), (4296, 0.0), (4297, 0.0), (4298, 0.0), (4299, 0.0), (4300, 0.0), (4301, 0.0), (4302, 0.0), (4304, 0.0), (4305, 0.0), (4306, 0.0), (4307, 0.0), (4308, 0.0), (4310, 0.0), (4312, 0.0), (4313, 0.0), (4315, 0.0), (4316, 0.0), (4317, 0.0), (4318, 0.0), (4319, 0.0), (4320, 0.0), (4322, 0.0), (4323, 0.0), (4324, 0.0), (4326, 0.0), (4327, 0.0), (4328, 0.0), (4329, 0.0), (4331, 0.0), (4332, 0.0), (4338, 0.0), (4339, 0.0), (4340, 0.0), (4341, 0.0), (4343, 0.0), (4346, 0.0), (4347, 0.0), (4348, 0.0), (4351, 0.0), (4352, 0.0), (4353, 0.0), (4354, 0.0), (4355, 0.0), (4358, 0.0), (4359, 0.0), (4360, 0.0), (4361, 0.0), (4363, 0.0), (4364, 0.0), (4365, 0.0), (4367, 0.0), (4370, 0.0), (4372, 0.0), (4376, 0.0), (4377, 0.0), (4381, 0.0), (4383, 0.0), (4384, 0.0), (4385, 0.0), (4386, 0.0), (4390, 0.0), (4391, 0.0), (4392, 0.0), (4393, 0.0), (4396, 0.0), (4397, 0.0), (4400, 0.0), (4404, 0.0), (4405, 0.0), (4406, 0.0), (4407, 0.0), (4408, 0.0), (4409, 0.0), (4410, 0.0), (4413, 0.0), (4414, 0.0), (4415, 0.0), (4416, 0.0), (4417, 0.0), (4418, 0.0), (4421, 0.0), (4423, 0.0), (4424, 0.0), (4425, 0.0), (4426, 0.0), (4427, 0.0), (4428, 0.0), (4431, 0.0), (4433, 0.0), (4434, 0.0), (4437, 0.0), (4438, 0.0), (4439, 0.0), (4441, 0.0), (4445, 0.0), (4447, 0.0), (4449, 0.0), (4451, 0.0), (4453, 0.0), (4454, 0.0), (4455, 0.0), (4457, 0.0), (4458, 0.0), (4460, 0.0), (4461, 0.0), (4462, 0.0), (4463, 0.0), (4464, 0.0), (4468, 0.0), (4471, 0.0), (4476, 0.0), (4478, 0.0), (4480, 0.0), (4483, 0.0), (4485, 0.0), (4491, 0.0), (4493, 0.0), (4495, 0.0), (4496, 0.0), (4497, 0.0), (4498, 0.0), (4499, 0.0), (4500, 0.0), (4505, 0.0), (4506, 0.0), (4508, 0.0), (4509, 0.0), (4513, 0.0), (4514, 0.0), (4515, 0.0), (4518, 0.0), (4519, 0.0), (4524, 0.0), (4525, 0.0), (4526, 0.0), (4527, 0.0), (4529, 0.0), (4532, 0.0), (4537, 0.0), (4538, 0.0), (4539, 0.0), (4540, 0.0), (4541, 0.0), (4542, 0.0), (4543, 0.0), (4544, 0.0), (4545, 0.0), (4547, 0.0), (4549, 0.0), (4550, 0.0), (4552, 0.0), (4556, 0.0), (4558, 0.0), (4559, 0.0), (4560, 0.0), (4561, 0.0), (4562, 0.0), (4565, 0.0), (4567, 0.0), (4568, 0.0), (4569, 0.0), (4570, 0.0), (4572, 0.0), (4574, 0.0), (4577, 0.0), (4578, 0.0), (4579, 0.0), (4580, 0.0), (4582, 0.0), (4584, 0.0), (4585, 0.0), (4586, 0.0), (4587, 0.0), (4592, 0.0), (4595, 0.0), (4597, 0.0), (4598, 0.0), (4599, 0.0), (4600, 0.0), (4601, 0.0), (4604, 0.0), (4606, 0.0), (4607, 0.0), (4609, 0.0), (4611, 0.0), (4612, 0.0), (4613, 0.0), (4615, 0.0), (4616, 0.0), (4618, 0.0), (4620, 0.0), (4621, 0.0), (4622, 0.0), (4628, 0.0), (4630, 0.0), (4631, 0.0), (4633, 0.0), (4634, 0.0), (4635, 0.0), (4639, 0.0), (4641, 0.0), (4642, 0.0), (4644, 0.0), (4645, 0.0), (4646, 0.0), (4647, 0.0), (4648, 0.0), (4651, 0.0), (4652, 0.0), (4653, 0.0), (4654, 0.0), (4655, 0.0), (4659, 0.0), (4661, 0.0), (4662, 0.0), (4663, 0.0), (4664, 0.0), (4665, 0.0), (4666, 0.0), (4667, 0.0), (4671, 0.0), (4672, 0.0), (4675, 0.0), (4676, 0.0), (4677, 0.0), (4678, 0.0), (4680, 0.0), (4681, 0.0), (4683, 0.0), (4686, 0.0), (4687, 0.0), (4688, 0.0), (4689, 0.0), (4690, 0.0), (4691, 0.0), (4692, 0.0), (4693, 0.0), (4694, 0.0), (4695, 0.0), (4696, 0.0), (4697, 0.0), (4698, 0.0), (4700, 0.0), (4702, 0.0), (4704, 0.0), (4705, 0.0), (4707, 0.0), (4708, 0.0), (4709, 0.0), (4711, 0.0), (4714, 0.0), (4715, 0.0), (4716, 0.0), (4717, 0.0), (4719, 0.0), (4720, 0.0), (4725, 0.0), (4728, 0.0), (4729, 0.0), (4730, 0.0), (4732, 0.0), (4736, 0.0), (4737, 0.0), (4738, 0.0), (4740, 0.0), (4741, 0.0), (4742, 0.0), (4743, 0.0), (4744, 0.0), (4745, 0.0), (4746, 0.0), (4749, 0.0), (4750, 0.0), (4751, 0.0), (4753, 0.0), (4754, 0.0), (4755, 0.0), (4756, 0.0), (4757, 0.0), (4758, 0.0), (4759, 0.0)]\n"
          ]
        }
      ]
    },
    {
      "cell_type": "code",
      "source": [
        "print('Top 30 Movies Suggested for you: \\n')\n",
        "i = 1\n",
        "for movie in Sorted_Similar_Movies:\n",
        "  index = movie[0]\n",
        "  title_from_index = df[df.index==index]['Movie_Title'].values[0]\n",
        "  if(i<31):\n",
        "    print(i, '.', title_from_index)\n",
        "    i+=1\n"
      ],
      "metadata": {
        "colab": {
          "base_uri": "https://localhost:8080/"
        },
        "id": "zLX-8iHsVYeA",
        "outputId": "663a3378-2281-4f27-9f7f-574b9dddea54"
      },
      "execution_count": null,
      "outputs": [
        {
          "output_type": "stream",
          "name": "stdout",
          "text": [
            "Top 30 Movies Suggested for you: \n",
            "\n",
            "1 . Niagara\n",
            "2 . The Boy Next Door\n",
            "3 . Some Like It Hot\n",
            "4 . The Kentucky Fried Movie\n",
            "5 . The Misfits\n",
            "6 . Superman III\n",
            "7 . Tora! Tora! Tora!\n",
            "8 . Beyond the Black Rainbow\n",
            "9 . Brokeback Mountain\n",
            "10 . Duel in the Sun\n",
            "11 . To Kill a Mockingbird\n",
            "12 . Running with Scissors\n",
            "13 . All That Jazz\n",
            "14 . The Odd Life of Timothy Green\n",
            "15 . Man on Wire\n",
            "16 . Dreamcatcher\n",
            "17 . Twister\n",
            "18 . The Dark Knight Rises\n",
            "19 . The Last Castle\n",
            "20 . The Lazarus Effect\n",
            "21 . Blackhat\n",
            "22 . Mad Max 2: The Road Warrior\n",
            "23 . The Longest Yard\n",
            "24 . Edge of Darkness\n",
            "25 . Source Code\n",
            "26 . I Spit on Your Grave\n",
            "27 . Ocean's Thirteen\n",
            "28 . Fatal Attraction\n",
            "29 . The Boat That Rocked\n",
            "30 . The Thomas Crown Affair\n"
          ]
        }
      ]
    },
    {
      "cell_type": "code",
      "source": [
        "Favourite_Movie_Name = input('Enter your favourite movie name: ')\n",
        "list_of_all_titles = df['Movie_Title'].tolist()\n",
        "Find_CLose_Match = difflib.get_close_matches(Favourite_Movie_Name, list_of_all_titles)\n",
        "Close_Match = Find_CLose_Match[0]\n",
        "\n",
        "Index_of_Movie = df[df.Movie_Title == Close_Match]['Movie_ID'].values[0]\n",
        "\n",
        "Recommendation_Score = list(enumerate(Similarity_Score[Index_of_Movie]))\n",
        "\n",
        "Sorted_Similar_Movies = sorted(Recommendation_Score, key = lambda x:x[1], reverse = True)\n",
        "\n",
        "print('Top 10 Movies Suggested for you: \\n')\n",
        "i = 1\n",
        "for movie in Sorted_Similar_Movies:\n",
        "  index = movie[0]\n",
        "  title_from_index = df[df.index==index]['Movie_Title'].values[0]\n",
        "  if(i<11):\n",
        "    print(i, '.', title_from_index)\n",
        "    i+=1\n",
        "\n",
        "\n",
        "\n",
        "\n",
        "\n",
        "\n"
      ],
      "metadata": {
        "colab": {
          "base_uri": "https://localhost:8080/"
        },
        "id": "aViQ-ttLWvso",
        "outputId": "aa494223-555b-4cd8-ae05-83eeda0dd8ca"
      },
      "execution_count": null,
      "outputs": [
        {
          "output_type": "stream",
          "name": "stdout",
          "text": [
            "Enter your favourite movie name: avtaar\n",
            "Top 10 Movies Suggested for you: \n",
            "\n",
            "1 . Niagara\n",
            "2 . The Boy Next Door\n",
            "3 . Some Like It Hot\n",
            "4 . The Kentucky Fried Movie\n",
            "5 . The Misfits\n",
            "6 . Superman III\n",
            "7 . Tora! Tora! Tora!\n",
            "8 . Beyond the Black Rainbow\n",
            "9 . Brokeback Mountain\n",
            "10 . Duel in the Sun\n"
          ]
        }
      ]
    }
  ]
}